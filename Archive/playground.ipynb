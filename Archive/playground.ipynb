{
 "cells": [
  {
   "cell_type": "code",
   "execution_count": null,
   "metadata": {},
   "outputs": [],
   "source": [
    "# this is the cell i'm writing the function with\n",
    "\n",
    "import numpy as np\n",
    "\n",
    "magic_n = 5.6789\n",
    "n_iterations = 5\n",
    "best_guess = 0.0\n",
    "\n",
    "for n in range(n_iterations + 1):\n",
    "    start = best_guess\n",
    "    stop_add = 10 / 10 ** (n)\n",
    "    step = 1 / 10 ** (n)\n",
    "    stop = best_guess + stop_add + step\n",
    "    scale = np.arange(start, stop, step)\n",
    "    # print(scale)\n",
    "    for i in scale:\n",
    "        if round(i, 5) > magic_n:\n",
    "            best_guess = round(round(i, 5) - step, 4)\n",
    "            break\n",
    "\n",
    "print(best_guess)"
   ]
  },
  {
   "cell_type": "markdown",
   "metadata": {},
   "source": [
    "-- details about the changepoint formula tuning --\n",
    "\n",
    "* loop moves from high to low\n",
    "* must stop before 0, not at 0\n",
    "* first loop starts at 0.05"
   ]
  },
  {
   "cell_type": "code",
   "execution_count": 2,
   "metadata": {},
   "outputs": [
    {
     "name": "stdout",
     "output_type": "stream",
     "text": [
      "5.6789\n"
     ]
    }
   ],
   "source": [
    "# have the function work in reverse\n",
    "\n",
    "import numpy as np\n",
    "\n",
    "magic_n = 5.6789\n",
    "n_iterations = 5\n",
    "best_guess = 10.0\n",
    "\n",
    "for n in range(n_iterations + 1):\n",
    "    start = best_guess\n",
    "    stop_add = 10 / 10 ** (n)\n",
    "    step = 1 / 10 ** (n)\n",
    "    stop = best_guess - stop_add\n",
    "    scale = np.arange(start, stop, -step)\n",
    "    # print(scale)\n",
    "    for i in scale:\n",
    "        if round(i, 5) < magic_n:\n",
    "            best_guess = round(round(i, 5) + step, 4)\n",
    "            break\n",
    "\n",
    "print(best_guess)"
   ]
  },
  {
   "cell_type": "code",
   "execution_count": 4,
   "metadata": {},
   "outputs": [],
   "source": [
    "log_n = np.logspace(-3, 1, num=10)"
   ]
  },
  {
   "cell_type": "code",
   "execution_count": 5,
   "metadata": {},
   "outputs": [
    {
     "name": "stdout",
     "output_type": "stream",
     "text": [
      "0.001\n",
      "0.0027825594022071257\n",
      "0.007742636826811269\n",
      "0.021544346900318832\n",
      "0.05994842503189409\n",
      "0.1668100537200059\n",
      "0.46415888336127775\n",
      "1.2915496650148828\n",
      "3.593813663804626\n",
      "10.0\n"
     ]
    }
   ],
   "source": [
    "for i in log_n:\n",
    "    print(i)"
   ]
  },
  {
   "cell_type": "code",
   "execution_count": null,
   "metadata": {},
   "outputs": [],
   "source": []
  }
 ],
 "metadata": {
  "kernelspec": {
   "display_name": "Python 3",
   "language": "python",
   "name": "python3"
  },
  "language_info": {
   "codemirror_mode": {
    "name": "ipython",
    "version": 3
   },
   "file_extension": ".py",
   "mimetype": "text/x-python",
   "name": "python",
   "nbconvert_exporter": "python",
   "pygments_lexer": "ipython3",
   "version": "3.12.2"
  }
 },
 "nbformat": 4,
 "nbformat_minor": 2
}
