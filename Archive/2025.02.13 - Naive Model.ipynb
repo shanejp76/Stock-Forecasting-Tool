{
 "cells": [
  {
   "cell_type": "markdown",
   "metadata": {},
   "source": [
    "python 3.13.1"
   ]
  },
  {
   "cell_type": "markdown",
   "metadata": {},
   "source": [
    "Get Naive model on the same tickers used for my sample"
   ]
  },
  {
   "cell_type": "code",
   "execution_count": 1,
   "metadata": {},
   "outputs": [
    {
     "name": "stderr",
     "output_type": "stream",
     "text": [
      "c:\\Users\\Shane\\AppData\\Local\\Programs\\Python\\Python313\\Lib\\site-packages\\tqdm\\auto.py:21: TqdmWarning: IProgress not found. Please update jupyter and ipywidgets. See https://ipywidgets.readthedocs.io/en/stable/user_install.html\n",
      "  from .autonotebook import tqdm as notebook_tqdm\n"
     ]
    }
   ],
   "source": [
    "import requests\n",
    "import yfinance as yf\n",
    "import pandas as pd\n",
    "import random\n",
    "import numpy as np\n",
    "from prophet import Prophet\n",
    "from prophet.diagnostics import cross_validation, performance_metrics\n",
    "from sklearn.metrics import mean_squared_error"
   ]
  },
  {
   "cell_type": "code",
   "execution_count": 2,
   "metadata": {},
   "outputs": [
    {
     "data": {
      "text/html": [
       "<div>\n",
       "<style scoped>\n",
       "    .dataframe tbody tr th:only-of-type {\n",
       "        vertical-align: middle;\n",
       "    }\n",
       "\n",
       "    .dataframe tbody tr th {\n",
       "        vertical-align: top;\n",
       "    }\n",
       "\n",
       "    .dataframe thead th {\n",
       "        text-align: right;\n",
       "    }\n",
       "</style>\n",
       "<table border=\"1\" class=\"dataframe\">\n",
       "  <thead>\n",
       "    <tr style=\"text-align: right;\">\n",
       "      <th></th>\n",
       "      <th>ticker</th>\n",
       "      <th>volatility</th>\n",
       "      <th>avg_price</th>\n",
       "      <th>len</th>\n",
       "      <th>rmse_standard</th>\n",
       "      <th>rmse_tuned</th>\n",
       "      <th>winsorized_pct</th>\n",
       "    </tr>\n",
       "  </thead>\n",
       "  <tbody>\n",
       "    <tr>\n",
       "      <th>0</th>\n",
       "      <td>ADYEY</td>\n",
       "      <td>Medium</td>\n",
       "      <td>16.389898</td>\n",
       "      <td>1347</td>\n",
       "      <td>5.087750</td>\n",
       "      <td>7.321585</td>\n",
       "      <td>0.397179</td>\n",
       "    </tr>\n",
       "    <tr>\n",
       "      <th>1</th>\n",
       "      <td>NMM</td>\n",
       "      <td>Medium</td>\n",
       "      <td>63.829555</td>\n",
       "      <td>4339</td>\n",
       "      <td>23.137863</td>\n",
       "      <td>18.612367</td>\n",
       "      <td>0.373358</td>\n",
       "    </tr>\n",
       "    <tr>\n",
       "      <th>2</th>\n",
       "      <td>MARK</td>\n",
       "      <td>High</td>\n",
       "      <td>214.811263</td>\n",
       "      <td>5455</td>\n",
       "      <td>10.280774</td>\n",
       "      <td>4.454470</td>\n",
       "      <td>0.273877</td>\n",
       "    </tr>\n",
       "    <tr>\n",
       "      <th>3</th>\n",
       "      <td>VIGI</td>\n",
       "      <td>Low</td>\n",
       "      <td>63.282331</td>\n",
       "      <td>2251</td>\n",
       "      <td>12.586773</td>\n",
       "      <td>3.847514</td>\n",
       "      <td>0.545980</td>\n",
       "    </tr>\n",
       "    <tr>\n",
       "      <th>4</th>\n",
       "      <td>GDRX</td>\n",
       "      <td>Medium-High</td>\n",
       "      <td>17.561466</td>\n",
       "      <td>1102</td>\n",
       "      <td>2.904431</td>\n",
       "      <td>1.844597</td>\n",
       "      <td>0.259528</td>\n",
       "    </tr>\n",
       "  </tbody>\n",
       "</table>\n",
       "</div>"
      ],
      "text/plain": [
       "  ticker   volatility   avg_price   len  rmse_standard  rmse_tuned  \\\n",
       "0  ADYEY       Medium   16.389898  1347       5.087750    7.321585   \n",
       "1    NMM       Medium   63.829555  4339      23.137863   18.612367   \n",
       "2   MARK         High  214.811263  5455      10.280774    4.454470   \n",
       "3   VIGI          Low   63.282331  2251      12.586773    3.847514   \n",
       "4   GDRX  Medium-High   17.561466  1102       2.904431    1.844597   \n",
       "\n",
       "   winsorized_pct  \n",
       "0        0.397179  \n",
       "1        0.373358  \n",
       "2        0.273877  \n",
       "3        0.545980  \n",
       "4        0.259528  "
      ]
     },
     "execution_count": 2,
     "metadata": {},
     "output_type": "execute_result"
    }
   ],
   "source": [
    "rmses_df = pd.read_csv(r\"C:\\Users\\Shane\\Desktop\\2024.06.27_-_Data_Science\\2024.10.13 - Portfolio Projects\\2024.12.04 - Swing Ticker\\Model Performance\\combined_model_rmse.csv\")\n",
    "rmses_df.head()"
   ]
  },
  {
   "cell_type": "code",
   "execution_count": 3,
   "metadata": {},
   "outputs": [
    {
     "data": {
      "text/plain": [
       "['ADYEY', 'NMM', 'MARK', 'VIGI', 'GDRX']"
      ]
     },
     "execution_count": 3,
     "metadata": {},
     "output_type": "execute_result"
    }
   ],
   "source": [
    "tickers = rmses_df['ticker'].tolist()\n",
    "tickers[:5]"
   ]
  },
  {
   "cell_type": "code",
   "execution_count": 4,
   "metadata": {},
   "outputs": [],
   "source": [
    "def load_data(ticker):\n",
    "    \"\"\"\n",
    "    Downloads historical market data for a given ticker symbol.\n",
    "\n",
    "    Parameters:\n",
    "    ticker (str): The ticker symbol of the stock to download data for.\n",
    "\n",
    "    Returns:\n",
    "    pd.DataFrame: A DataFrame containing the historical market data for the specified ticker.\n",
    "    \"\"\"\n",
    "    data = yf.download(ticker, period='max') # returns relevant data in df\n",
    "    data.reset_index(inplace=True) # reset multindex, output is index list of tuples\n",
    "    cols = list(data.columns) # convert index to list\n",
    "    cols[0] = ('Date', '') \n",
    "    cols = [i[0] for i in cols] # return first element of cols tuples\n",
    "    data.columns = cols # set as column names\n",
    "    data['Date'] = pd.to_datetime(data['Date']).dt.date\n",
    "    data.Date = data.Date.astype('datetime64[ns]')\n",
    "    return data"
   ]
  },
  {
   "cell_type": "code",
   "execution_count": 5,
   "metadata": {},
   "outputs": [
    {
     "name": "stderr",
     "output_type": "stream",
     "text": [
      "[*********************100%***********************]  1 of 1 completed\n"
     ]
    },
    {
     "data": {
      "text/plain": [
       "Index(['Date', 'Close', 'High', 'Low', 'Open', 'Volume'], dtype='object')"
      ]
     },
     "execution_count": 5,
     "metadata": {},
     "output_type": "execute_result"
    }
   ],
   "source": [
    "df_temp = load_data('AAPL')\n",
    "df_temp.columns"
   ]
  },
  {
   "cell_type": "code",
   "execution_count": 6,
   "metadata": {},
   "outputs": [],
   "source": [
    "def get_volatility(data):\n",
    "    volatility = data.daily_returns.std() * np.sqrt(252)\n",
    "    if volatility < 0.2:\n",
    "        category = \"Low\"\n",
    "        percentiles=(0.15, 0.85)\n",
    "    elif volatility < 0.4:\n",
    "        category = \"Medium-Low\"\n",
    "        percentiles=(0.1, 0.9)\n",
    "    elif volatility < 0.6:\n",
    "        category = \"Medium\"\n",
    "        percentiles=(0.1, 0.9)\n",
    "    elif volatility < 0.8:\n",
    "        category = \"Medium-High\"\n",
    "        percentiles=(0.05, 0.95)\n",
    "    else:\n",
    "        category = \"High\"\n",
    "        percentiles=(0.05, 0.95)\n",
    "    return category, volatility, percentiles"
   ]
  },
  {
   "cell_type": "code",
   "execution_count": 7,
   "metadata": {},
   "outputs": [],
   "source": [
    "def get_period_params(data, volatility):\n",
    "    if len(data)/365 < 8:\n",
    "        period_unit = int(len(data)/4)\n",
    "        forecast_period = period_unit\n",
    "        train_period = len(data)\n",
    "    else:\n",
    "        period_unit = 365\n",
    "        forecast_period = period_unit\n",
    "        train_period = forecast_period * 4 if volatility < 0.6 else forecast_period * 8\n",
    "    return train_period, period_unit, forecast_period"
   ]
  },
  {
   "cell_type": "code",
   "execution_count": 8,
   "metadata": {},
   "outputs": [],
   "source": [
    "cv_func = lambda model_name, train_period, period_unit, forecast_period: cross_validation(model_name, \n",
    "                                              initial=f'{train_period} days', \n",
    "                                              period=f'{period_unit} days', \n",
    "                                              horizon=f'{forecast_period} days', \n",
    "                                              parallel=\"processes\")"
   ]
  },
  {
   "cell_type": "code",
   "execution_count": 9,
   "metadata": {},
   "outputs": [],
   "source": [
    "def naive_forecast(history):\n",
    "    \"\"\"\n",
    "    Performs a naive forecast using the last value in the history.\n",
    "\n",
    "    Parameters:\n",
    "    history (pd.Series): Time series data to use as history.\n",
    "\n",
    "    Returns:\n",
    "    float: The naive forecast (last value of history).\n",
    "    \"\"\"\n",
    "    return history.iloc[-1]"
   ]
  },
  {
   "cell_type": "code",
   "execution_count": 10,
   "metadata": {},
   "outputs": [],
   "source": [
    "def naive_cross_validation(data, initial, period, horizon):\n",
    "    \"\"\"\n",
    "    Performs cross-validation for a naive forecasting model.\n",
    "\n",
    "    Parameters:\n",
    "    data (pd.DataFrame): Time series data with 'Date' and 'Close' columns.\n",
    "    initial (int): Initial training period length in days.\n",
    "    period (int): Period between cutoffs in days.\n",
    "    horizon (int): Forecast horizon in days.\n",
    "\n",
    "    Returns:\n",
    "    pd.DataFrame: DataFrame containing actual values, forecasts, and cutoffs.\n",
    "    \"\"\"\n",
    "    initial_date = data['Date'].iloc[0]\n",
    "    cutoffs = pd.to_datetime([initial_date + pd.Timedelta(days=initial + i * period)\n",
    "                               for i in range(1 + (len(data) - initial - horizon) // period)])\n",
    "\n",
    "    periods_list = []\n",
    "    for cutoff in cutoffs:\n",
    "        train_df = data[data['Date'] <= cutoff].copy()\n",
    "        test_df = data[(data['Date'] > cutoff) & (data['Date'] <= cutoff + pd.Timedelta(days=horizon))].copy()\n",
    "\n",
    "        # if len(test_df) == 0: # Skip if no data in the horizon\n",
    "        #     continue\n",
    "\n",
    "        history = train_df['Close']\n",
    "        forecasts = [naive_forecast(history)] * len(test_df) # Naive forecast for all points in horizon\n",
    "\n",
    "        test_df['forecast'] = forecasts\n",
    "        test_df['cutoff'] = cutoff.date() # Store cutoff date\n",
    "\n",
    "        periods_list.append(test_df)\n",
    "\n",
    "    df_cv = pd.concat(periods_list).reset_index(drop=True)\n",
    "    return df_cv"
   ]
  },
  {
   "cell_type": "code",
   "execution_count": 11,
   "metadata": {},
   "outputs": [],
   "source": [
    "def calculate_rmse(cv_results):\n",
    "    \"\"\"\n",
    "    Calculates RMSE from cross-validation results DataFrame.\n",
    "\n",
    "    Parameters:\n",
    "    cv_results (pd.DataFrame): DataFrame from naive_cross_validation.\n",
    "\n",
    "    Returns:\n",
    "    float: RMSE value.\n",
    "    \"\"\"\n",
    "    if cv_results.empty:\n",
    "        return np.nan  # Return NaN if no cross-validation results\n",
    "\n",
    "    return np.sqrt(mean_squared_error(cv_results['Close'], cv_results['forecast']))"
   ]
  },
  {
   "cell_type": "code",
   "execution_count": 12,
   "metadata": {},
   "outputs": [],
   "source": [
    "def get_naive_rmse_for_tickers(tickers):\n",
    "    \"\"\"\n",
    "    Calculates naive model RMSE for a list of stock tickers.\n",
    "\n",
    "    Parameters:\n",
    "    tickers (list): List of stock ticker symbols.\n",
    "\n",
    "    Returns:\n",
    "    pd.DataFrame: DataFrame with ticker symbols and their naive model RMSEs.\n",
    "    \"\"\"\n",
    "    naive_rmse_results = []\n",
    "    for ticker in tickers:\n",
    "        data = load_data(ticker)\n",
    "        data['daily_returns'] = data.Close.pct_change()\n",
    "        category, volatility, percentiles = get_volatility(data)\n",
    "        train_period, period_unit, forecast_period = get_period_params(data, volatility)\n",
    "\n",
    "        initial_days = train_period\n",
    "        period_days = period_unit\n",
    "        horizon_days = forecast_period\n",
    "\n",
    "        cv_results_naive = naive_cross_validation(\n",
    "            data[['Date', 'Close']], # Ensure only Date and Close are passed\n",
    "            initial=period_days,\n",
    "            period=period_days,\n",
    "            horizon=horizon_days\n",
    "        )\n",
    "        rmse_naive = calculate_rmse(cv_results_naive)\n",
    "        naive_rmse_results.append({'ticker': ticker, 'naive_rmse': rmse_naive})\n",
    "        print(f\"Naive RMSE for {ticker}: {rmse_naive:.4f}\")\n",
    "\n",
    "    return pd.DataFrame(naive_rmse_results)"
   ]
  },
  {
   "cell_type": "code",
   "execution_count": 13,
   "metadata": {},
   "outputs": [
    {
     "name": "stderr",
     "output_type": "stream",
     "text": [
      "[*********************100%***********************]  1 of 1 completed\n",
      "[*********************100%***********************]  1 of 1 completed\n"
     ]
    },
    {
     "name": "stdout",
     "output_type": "stream",
     "text": [
      "Naive RMSE for ADYEY: 6.1028\n",
      "Naive RMSE for NMM: 22.1377\n"
     ]
    },
    {
     "name": "stderr",
     "output_type": "stream",
     "text": [
      "[*********************100%***********************]  1 of 1 completed\n",
      "[*********************100%***********************]  1 of 1 completed\n"
     ]
    },
    {
     "name": "stdout",
     "output_type": "stream",
     "text": [
      "Naive RMSE for MARK: 155.3141\n",
      "Naive RMSE for VIGI: 7.1969\n"
     ]
    },
    {
     "name": "stderr",
     "output_type": "stream",
     "text": [
      "[*********************100%***********************]  1 of 1 completed\n",
      "[*********************100%***********************]  1 of 1 completed\n"
     ]
    },
    {
     "name": "stdout",
     "output_type": "stream",
     "text": [
      "Naive RMSE for GDRX: 9.0441\n",
      "Naive RMSE for FTGS: 1.8550\n"
     ]
    },
    {
     "name": "stderr",
     "output_type": "stream",
     "text": [
      "[*********************100%***********************]  1 of 1 completed\n",
      "[*********************100%***********************]  1 of 1 completed\n"
     ]
    },
    {
     "name": "stdout",
     "output_type": "stream",
     "text": [
      "Naive RMSE for GOVX: 18.3556\n",
      "Naive RMSE for DFEM: 1.8623\n"
     ]
    },
    {
     "name": "stderr",
     "output_type": "stream",
     "text": [
      "[*********************100%***********************]  1 of 1 completed\n",
      "[*********************100%***********************]  1 of 1 completed\n"
     ]
    },
    {
     "name": "stdout",
     "output_type": "stream",
     "text": [
      "Naive RMSE for WABC: 2.6744\n",
      "Naive RMSE for SDA: 3.6395\n"
     ]
    },
    {
     "name": "stderr",
     "output_type": "stream",
     "text": [
      "[*********************100%***********************]  1 of 1 completed\n",
      "[*********************100%***********************]  1 of 1 completed\n"
     ]
    },
    {
     "name": "stdout",
     "output_type": "stream",
     "text": [
      "Naive RMSE for AAOI: 24.8186\n",
      "Naive RMSE for CRGY: 1.3060\n"
     ]
    },
    {
     "name": "stderr",
     "output_type": "stream",
     "text": [
      "[*********************100%***********************]  1 of 1 completed\n"
     ]
    },
    {
     "name": "stdout",
     "output_type": "stream",
     "text": [
      "Naive RMSE for JHMD: 2.3279\n"
     ]
    },
    {
     "name": "stderr",
     "output_type": "stream",
     "text": [
      "[*********************100%***********************]  1 of 1 completed\n",
      "[*********************100%***********************]  1 of 1 completed\n"
     ]
    },
    {
     "name": "stdout",
     "output_type": "stream",
     "text": [
      "Naive RMSE for XLK: 3.1999\n",
      "Naive RMSE for FTLS: 3.8514\n"
     ]
    },
    {
     "name": "stderr",
     "output_type": "stream",
     "text": [
      "[*********************100%***********************]  1 of 1 completed\n",
      "[*********************100%***********************]  1 of 1 completed"
     ]
    },
    {
     "name": "stdout",
     "output_type": "stream",
     "text": [
      "Naive RMSE for CL: 1.0328\n",
      "Naive RMSE for MPWR: 7.7357\n"
     ]
    },
    {
     "name": "stderr",
     "output_type": "stream",
     "text": [
      "\n",
      "[*********************100%***********************]  1 of 1 completed\n"
     ]
    },
    {
     "name": "stdout",
     "output_type": "stream",
     "text": [
      "Naive RMSE for THQ: 2.1066\n"
     ]
    },
    {
     "name": "stderr",
     "output_type": "stream",
     "text": [
      "[*********************100%***********************]  1 of 1 completed\n",
      "[*********************100%***********************]  1 of 1 completed\n"
     ]
    },
    {
     "name": "stdout",
     "output_type": "stream",
     "text": [
      "Naive RMSE for EFX: 2.7580\n",
      "Naive RMSE for FFTY: 8.6754\n"
     ]
    },
    {
     "name": "stderr",
     "output_type": "stream",
     "text": [
      "[*********************100%***********************]  1 of 1 completed\n"
     ]
    },
    {
     "name": "stdout",
     "output_type": "stream",
     "text": [
      "Naive RMSE for EFSC: 3.8104\n"
     ]
    },
    {
     "name": "stderr",
     "output_type": "stream",
     "text": [
      "[*********************100%***********************]  1 of 1 completed\n",
      "[*********************100%***********************]  1 of 1 completed\n"
     ]
    },
    {
     "name": "stdout",
     "output_type": "stream",
     "text": [
      "Naive RMSE for WDC: 4.4969\n",
      "Naive RMSE for JG: 26.7922\n"
     ]
    },
    {
     "name": "stderr",
     "output_type": "stream",
     "text": [
      "[*********************100%***********************]  1 of 1 completed\n"
     ]
    },
    {
     "name": "stdout",
     "output_type": "stream",
     "text": [
      "Naive RMSE for MYRG: 5.7262\n"
     ]
    },
    {
     "name": "stderr",
     "output_type": "stream",
     "text": [
      "[*********************100%***********************]  1 of 1 completed\n",
      "[*********************100%***********************]  1 of 1 completed\n"
     ]
    },
    {
     "name": "stdout",
     "output_type": "stream",
     "text": [
      "Naive RMSE for DBC: 2.9062\n",
      "Naive RMSE for VFLO: 2.0116\n"
     ]
    },
    {
     "name": "stderr",
     "output_type": "stream",
     "text": [
      "[*********************100%***********************]  1 of 1 completed\n"
     ]
    },
    {
     "name": "stdout",
     "output_type": "stream",
     "text": [
      "Naive RMSE for CCL: 4.5565\n"
     ]
    },
    {
     "name": "stderr",
     "output_type": "stream",
     "text": [
      "[*********************100%***********************]  1 of 1 completed\n",
      "[*********************100%***********************]  1 of 1 completed\n"
     ]
    },
    {
     "name": "stdout",
     "output_type": "stream",
     "text": [
      "Naive RMSE for SPTN: 3.2520\n",
      "Naive RMSE for OILD: 9.5979\n"
     ]
    },
    {
     "name": "stderr",
     "output_type": "stream",
     "text": [
      "[*********************100%***********************]  1 of 1 completed\n",
      "[*********************100%***********************]  1 of 1 completed\n"
     ]
    },
    {
     "name": "stdout",
     "output_type": "stream",
     "text": [
      "Naive RMSE for REZI: 4.6625\n",
      "Naive RMSE for WBD: 4.3047\n"
     ]
    },
    {
     "name": "stderr",
     "output_type": "stream",
     "text": [
      "[*********************100%***********************]  1 of 1 completed\n",
      "[*********************100%***********************]  1 of 1 completed\n"
     ]
    },
    {
     "name": "stdout",
     "output_type": "stream",
     "text": [
      "Naive RMSE for BILS: 1.0240\n",
      "Naive RMSE for GMPR: 27886473132.5180\n"
     ]
    },
    {
     "name": "stderr",
     "output_type": "stream",
     "text": [
      "[*********************100%***********************]  1 of 1 completed\n",
      "[*********************100%***********************]  1 of 1 completed\n"
     ]
    },
    {
     "name": "stdout",
     "output_type": "stream",
     "text": [
      "Naive RMSE for AHEXY: 3.6050\n",
      "Naive RMSE for UDMY: 2.0750\n"
     ]
    },
    {
     "name": "stderr",
     "output_type": "stream",
     "text": [
      "[*********************100%***********************]  1 of 1 completed\n",
      "[*********************100%***********************]  1 of 1 completed\n"
     ]
    },
    {
     "name": "stdout",
     "output_type": "stream",
     "text": [
      "Naive RMSE for ARTY: 9.5676\n",
      "Naive RMSE for GFAI: 8.7070\n"
     ]
    },
    {
     "name": "stderr",
     "output_type": "stream",
     "text": [
      "[*********************100%***********************]  1 of 1 completed\n",
      "[*********************100%***********************]  1 of 1 completed\n",
      "[*********************100%***********************]  1 of 1 completed"
     ]
    },
    {
     "name": "stdout",
     "output_type": "stream",
     "text": [
      "Naive RMSE for FPEI: 2.7075\n",
      "Naive RMSE for VINC: 142.1541\n"
     ]
    },
    {
     "name": "stderr",
     "output_type": "stream",
     "text": [
      "\n",
      "[*********************100%***********************]  1 of 1 completed\n"
     ]
    },
    {
     "name": "stdout",
     "output_type": "stream",
     "text": [
      "Naive RMSE for VERV: 10.3002\n",
      "Naive RMSE for HLVX: 2.4447\n"
     ]
    },
    {
     "name": "stderr",
     "output_type": "stream",
     "text": [
      "[*********************100%***********************]  1 of 1 completed\n",
      "[*********************100%***********************]  1 of 1 completed\n",
      "[*********************100%***********************]  1 of 1 completed"
     ]
    },
    {
     "name": "stdout",
     "output_type": "stream",
     "text": [
      "Naive RMSE for CLDT: 2.7604\n",
      "Naive RMSE for RELI: 415.4109\n"
     ]
    },
    {
     "name": "stderr",
     "output_type": "stream",
     "text": [
      "\n",
      "[*********************100%***********************]  1 of 1 completed"
     ]
    },
    {
     "name": "stdout",
     "output_type": "stream",
     "text": [
      "Naive RMSE for GXO: 18.5821\n"
     ]
    },
    {
     "name": "stderr",
     "output_type": "stream",
     "text": [
      "\n",
      "[*********************100%***********************]  1 of 1 completed\n"
     ]
    },
    {
     "name": "stdout",
     "output_type": "stream",
     "text": [
      "Naive RMSE for AZTA: 7.2095\n",
      "Naive RMSE for FBEC: 29409.6595\n"
     ]
    },
    {
     "name": "stderr",
     "output_type": "stream",
     "text": [
      "[*********************100%***********************]  1 of 1 completed\n"
     ]
    },
    {
     "name": "stdout",
     "output_type": "stream",
     "text": [
      "Naive RMSE for ILPT: 7.2972\n"
     ]
    },
    {
     "name": "stderr",
     "output_type": "stream",
     "text": [
      "[*********************100%***********************]  1 of 1 completed\n"
     ]
    },
    {
     "name": "stdout",
     "output_type": "stream",
     "text": [
      "Naive RMSE for WTW: 8.8409\n"
     ]
    },
    {
     "name": "stderr",
     "output_type": "stream",
     "text": [
      "[*********************100%***********************]  1 of 1 completed\n",
      "[*********************100%***********************]  1 of 1 completed"
     ]
    },
    {
     "name": "stdout",
     "output_type": "stream",
     "text": [
      "Naive RMSE for CDP: 1.9873\n"
     ]
    },
    {
     "name": "stderr",
     "output_type": "stream",
     "text": [
      "\n"
     ]
    },
    {
     "name": "stdout",
     "output_type": "stream",
     "text": [
      "Naive RMSE for CNK: 4.0911\n"
     ]
    },
    {
     "name": "stderr",
     "output_type": "stream",
     "text": [
      "[*********************100%***********************]  1 of 1 completed\n"
     ]
    },
    {
     "name": "stdout",
     "output_type": "stream",
     "text": [
      "Naive RMSE for PFS: 1.3142\n"
     ]
    },
    {
     "name": "stderr",
     "output_type": "stream",
     "text": [
      "[*********************100%***********************]  1 of 1 completed\n",
      "[*********************100%***********************]  1 of 1 completed\n"
     ]
    },
    {
     "name": "stdout",
     "output_type": "stream",
     "text": [
      "Naive RMSE for TPC: 4.3271\n",
      "Naive RMSE for TCHP: 3.9891\n"
     ]
    },
    {
     "name": "stderr",
     "output_type": "stream",
     "text": [
      "[*********************100%***********************]  1 of 1 completed\n"
     ]
    },
    {
     "name": "stdout",
     "output_type": "stream",
     "text": [
      "Naive RMSE for VYX: 2.1774\n"
     ]
    },
    {
     "name": "stderr",
     "output_type": "stream",
     "text": [
      "[*********************100%***********************]  1 of 1 completed\n"
     ]
    },
    {
     "name": "stdout",
     "output_type": "stream",
     "text": [
      "Naive RMSE for GWW: 3.2558\n"
     ]
    },
    {
     "name": "stderr",
     "output_type": "stream",
     "text": [
      "[*********************100%***********************]  1 of 1 completed\n",
      "[*********************100%***********************]  1 of 1 completed\n"
     ]
    },
    {
     "name": "stdout",
     "output_type": "stream",
     "text": [
      "Naive RMSE for TDTT: 0.3224\n",
      "Naive RMSE for WB: 37.2330\n"
     ]
    },
    {
     "name": "stderr",
     "output_type": "stream",
     "text": [
      "[*********************100%***********************]  1 of 1 completed\n",
      "[*********************100%***********************]  1 of 1 completed"
     ]
    },
    {
     "name": "stdout",
     "output_type": "stream",
     "text": [
      "Naive RMSE for TMO: 4.8641\n",
      "Naive RMSE for CVLT: 11.8224\n"
     ]
    },
    {
     "name": "stderr",
     "output_type": "stream",
     "text": [
      "\n",
      "[*********************100%***********************]  1 of 1 completed\n"
     ]
    },
    {
     "name": "stdout",
     "output_type": "stream",
     "text": [
      "Naive RMSE for USIO: 28.7811\n"
     ]
    },
    {
     "name": "stderr",
     "output_type": "stream",
     "text": [
      "[*********************100%***********************]  1 of 1 completed\n",
      "[*********************100%***********************]  1 of 1 completed\n"
     ]
    },
    {
     "name": "stdout",
     "output_type": "stream",
     "text": [
      "Naive RMSE for CNMD: 3.7790\n",
      "Naive RMSE for SGBX: 304.8857\n"
     ]
    },
    {
     "name": "stderr",
     "output_type": "stream",
     "text": [
      "[*********************100%***********************]  1 of 1 completed\n"
     ]
    },
    {
     "name": "stdout",
     "output_type": "stream",
     "text": [
      "Naive RMSE for MUST: 1.0321\n"
     ]
    },
    {
     "name": "stderr",
     "output_type": "stream",
     "text": [
      "[*********************100%***********************]  1 of 1 completed\n",
      "[*********************100%***********************]  1 of 1 completed\n"
     ]
    },
    {
     "name": "stdout",
     "output_type": "stream",
     "text": [
      "Naive RMSE for SUI: 3.1609\n",
      "Naive RMSE for QNCX: 19.7742\n"
     ]
    },
    {
     "name": "stderr",
     "output_type": "stream",
     "text": [
      "[*********************100%***********************]  1 of 1 completed\n"
     ]
    },
    {
     "name": "stdout",
     "output_type": "stream",
     "text": [
      "Naive RMSE for FOXA: 5.6273\n"
     ]
    },
    {
     "name": "stderr",
     "output_type": "stream",
     "text": [
      "[*********************100%***********************]  1 of 1 completed\n",
      "[*********************100%***********************]  1 of 1 completed"
     ]
    },
    {
     "name": "stdout",
     "output_type": "stream",
     "text": [
      "Naive RMSE for XOM: 0.9018\n"
     ]
    },
    {
     "name": "stderr",
     "output_type": "stream",
     "text": [
      "\n",
      "[*********************100%***********************]  1 of 1 completed\n"
     ]
    },
    {
     "name": "stdout",
     "output_type": "stream",
     "text": [
      "Naive RMSE for INVA: 4.0946\n",
      "Naive RMSE for AIXI: 14.3673\n"
     ]
    },
    {
     "name": "stderr",
     "output_type": "stream",
     "text": [
      "[*********************100%***********************]  1 of 1 completed\n",
      "[*********************100%***********************]  1 of 1 completed"
     ]
    },
    {
     "name": "stdout",
     "output_type": "stream",
     "text": [
      "Naive RMSE for CMA: 3.8867\n",
      "Naive RMSE for WU: 1.8401\n"
     ]
    },
    {
     "name": "stderr",
     "output_type": "stream",
     "text": [
      "\n",
      "[*********************100%***********************]  1 of 1 completed\n",
      "[*********************100%***********************]  1 of 1 completed\n"
     ]
    },
    {
     "name": "stdout",
     "output_type": "stream",
     "text": [
      "Naive RMSE for EFV: 4.3071\n",
      "Naive RMSE for HIGH: 0.3728\n"
     ]
    },
    {
     "name": "stderr",
     "output_type": "stream",
     "text": [
      "[*********************100%***********************]  1 of 1 completed\n"
     ]
    },
    {
     "name": "stdout",
     "output_type": "stream",
     "text": [
      "Naive RMSE for WEX: 15.6834\n"
     ]
    },
    {
     "name": "stderr",
     "output_type": "stream",
     "text": [
      "[*********************100%***********************]  1 of 1 completed\n",
      "[*********************100%***********************]  1 of 1 completed\n"
     ]
    },
    {
     "name": "stdout",
     "output_type": "stream",
     "text": [
      "Naive RMSE for DEO: 5.7016\n",
      "Naive RMSE for ANGO: 3.7209\n"
     ]
    },
    {
     "name": "stderr",
     "output_type": "stream",
     "text": [
      "[*********************100%***********************]  1 of 1 completed\n"
     ]
    },
    {
     "name": "stdout",
     "output_type": "stream",
     "text": [
      "Naive RMSE for HOMB: 2.0110\n"
     ]
    },
    {
     "name": "stderr",
     "output_type": "stream",
     "text": [
      "[*********************100%***********************]  1 of 1 completed\n"
     ]
    },
    {
     "name": "stdout",
     "output_type": "stream",
     "text": [
      "Naive RMSE for DCOM: 1.6497\n"
     ]
    },
    {
     "name": "stderr",
     "output_type": "stream",
     "text": [
      "[*********************100%***********************]  1 of 1 completed\n",
      "[*********************100%***********************]  1 of 1 completed\n"
     ]
    },
    {
     "name": "stdout",
     "output_type": "stream",
     "text": [
      "Naive RMSE for SAH: 3.7242\n",
      "Naive RMSE for NEAR: 0.7880\n"
     ]
    },
    {
     "name": "stderr",
     "output_type": "stream",
     "text": [
      "[*********************100%***********************]  1 of 1 completed\n",
      "[*********************100%***********************]  1 of 1 completed\n"
     ]
    },
    {
     "name": "stdout",
     "output_type": "stream",
     "text": [
      "Naive RMSE for CALX: 3.0044\n",
      "Naive RMSE for OEC: 6.1795\n"
     ]
    },
    {
     "name": "stderr",
     "output_type": "stream",
     "text": [
      "[*********************100%***********************]  1 of 1 completed\n",
      "[*********************100%***********************]  1 of 1 completed\n"
     ]
    },
    {
     "name": "stdout",
     "output_type": "stream",
     "text": [
      "Naive RMSE for IVOL: 1.6226\n",
      "Naive RMSE for FCPT: 2.5155\n"
     ]
    },
    {
     "name": "stderr",
     "output_type": "stream",
     "text": [
      "[*********************100%***********************]  1 of 1 completed\n",
      "[*********************100%***********************]  1 of 1 completed\n"
     ]
    },
    {
     "name": "stdout",
     "output_type": "stream",
     "text": [
      "Naive RMSE for SNCY: 4.2627\n",
      "Naive RMSE for BLV: 4.1252\n"
     ]
    },
    {
     "name": "stderr",
     "output_type": "stream",
     "text": [
      "[*********************100%***********************]  1 of 1 completed\n",
      "[*********************100%***********************]  1 of 1 completed"
     ]
    },
    {
     "name": "stdout",
     "output_type": "stream",
     "text": [
      "Naive RMSE for XLU: 2.3776\n"
     ]
    },
    {
     "name": "stderr",
     "output_type": "stream",
     "text": [
      "\n",
      "[*********************100%***********************]  1 of 1 completed\n"
     ]
    },
    {
     "name": "stdout",
     "output_type": "stream",
     "text": [
      "Naive RMSE for STIP: 1.1380\n",
      "Naive RMSE for PGF: 0.8338\n"
     ]
    },
    {
     "name": "stderr",
     "output_type": "stream",
     "text": [
      "[*********************100%***********************]  1 of 1 completed\n",
      "[*********************100%***********************]  1 of 1 completed\n"
     ]
    },
    {
     "name": "stdout",
     "output_type": "stream",
     "text": [
      "Naive RMSE for WJRYY: 3.7479\n",
      "Naive RMSE for GMNI: 19186.0349\n"
     ]
    },
    {
     "name": "stderr",
     "output_type": "stream",
     "text": [
      "[*********************100%***********************]  1 of 1 completed\n",
      "[*********************100%***********************]  1 of 1 completed\n"
     ]
    },
    {
     "name": "stdout",
     "output_type": "stream",
     "text": [
      "Naive RMSE for STRL: 3.7272\n",
      "Naive RMSE for FAF: 4.6391\n"
     ]
    },
    {
     "name": "stderr",
     "output_type": "stream",
     "text": [
      "[*********************100%***********************]  1 of 1 completed\n",
      "[*********************100%***********************]  1 of 1 completed\n"
     ]
    },
    {
     "name": "stdout",
     "output_type": "stream",
     "text": [
      "Naive RMSE for BSY: 10.9153\n",
      "Naive RMSE for ETNB: 9.0614\n"
     ]
    },
    {
     "name": "stderr",
     "output_type": "stream",
     "text": [
      "[*********************100%***********************]  1 of 1 completed\n",
      "[*********************100%***********************]  1 of 1 completed\n"
     ]
    },
    {
     "name": "stdout",
     "output_type": "stream",
     "text": [
      "Naive RMSE for HPE: 2.9396\n",
      "Naive RMSE for FTDR: 9.5752\n"
     ]
    },
    {
     "name": "stderr",
     "output_type": "stream",
     "text": [
      "[*********************100%***********************]  1 of 1 completed\n"
     ]
    },
    {
     "name": "stdout",
     "output_type": "stream",
     "text": [
      "Naive RMSE for DY: 6.0140\n"
     ]
    },
    {
     "name": "stderr",
     "output_type": "stream",
     "text": [
      "[*********************100%***********************]  1 of 1 completed\n",
      "[*********************100%***********************]  1 of 1 completed\n"
     ]
    },
    {
     "name": "stdout",
     "output_type": "stream",
     "text": [
      "Naive RMSE for MUB: 3.1908\n",
      "Naive RMSE for VGIT: 1.5852\n"
     ]
    },
    {
     "name": "stderr",
     "output_type": "stream",
     "text": [
      "[*********************100%***********************]  1 of 1 completed\n",
      "[*********************100%***********************]  1 of 1 completed\n"
     ]
    },
    {
     "name": "stdout",
     "output_type": "stream",
     "text": [
      "Naive RMSE for SGRY: 17.4443\n",
      "Naive RMSE for SE: 123.6273\n"
     ]
    },
    {
     "name": "stderr",
     "output_type": "stream",
     "text": [
      "[*********************100%***********************]  1 of 1 completed\n",
      "[*********************100%***********************]  1 of 1 completed\n"
     ]
    },
    {
     "name": "stdout",
     "output_type": "stream",
     "text": [
      "Naive RMSE for XLP: 1.8282\n",
      "Naive RMSE for ARMN: 37.9979\n"
     ]
    },
    {
     "name": "stderr",
     "output_type": "stream",
     "text": [
      "[*********************100%***********************]  1 of 1 completed\n",
      "[*********************100%***********************]  1 of 1 completed\n"
     ]
    },
    {
     "name": "stdout",
     "output_type": "stream",
     "text": [
      "Naive RMSE for MRNA: 92.9745\n",
      "Naive RMSE for APP: 30.2226\n"
     ]
    },
    {
     "name": "stderr",
     "output_type": "stream",
     "text": [
      "[*********************100%***********************]  1 of 1 completed\n",
      "[*********************100%***********************]  1 of 1 completed\n"
     ]
    },
    {
     "name": "stdout",
     "output_type": "stream",
     "text": [
      "Naive RMSE for RDCM: 7.4045\n",
      "Naive RMSE for ENGN: 2.0998\n"
     ]
    },
    {
     "name": "stderr",
     "output_type": "stream",
     "text": [
      "[*********************100%***********************]  1 of 1 completed\n",
      "[*********************100%***********************]  1 of 1 completed\n"
     ]
    },
    {
     "name": "stdout",
     "output_type": "stream",
     "text": [
      "Naive RMSE for AOR: 1.8253\n",
      "Naive RMSE for PED: 2056.0171\n"
     ]
    },
    {
     "name": "stderr",
     "output_type": "stream",
     "text": [
      "[*********************100%***********************]  1 of 1 completed\n"
     ]
    },
    {
     "name": "stdout",
     "output_type": "stream",
     "text": [
      "Naive RMSE for BBW: 3.7989\n"
     ]
    },
    {
     "name": "stderr",
     "output_type": "stream",
     "text": [
      "[*********************100%***********************]  1 of 1 completed\n",
      "[*********************100%***********************]  1 of 1 completed\n"
     ]
    },
    {
     "name": "stdout",
     "output_type": "stream",
     "text": [
      "Naive RMSE for CYTK: 7.2674\n",
      "Naive RMSE for APM: 61.5770\n"
     ]
    },
    {
     "name": "stderr",
     "output_type": "stream",
     "text": [
      "[*********************100%***********************]  1 of 1 completed\n",
      "[*********************100%***********************]  1 of 1 completed\n"
     ]
    },
    {
     "name": "stdout",
     "output_type": "stream",
     "text": [
      "Naive RMSE for GDLC: 12.7866\n",
      "Naive RMSE for IGLB: 3.6440\n"
     ]
    },
    {
     "name": "stderr",
     "output_type": "stream",
     "text": [
      "[*********************100%***********************]  1 of 1 completed\n",
      "[*********************100%***********************]  1 of 1 completed\n"
     ]
    },
    {
     "name": "stdout",
     "output_type": "stream",
     "text": [
      "Naive RMSE for ACON: 1253.9460\n",
      "Naive RMSE for BLEG: 2549.0278\n"
     ]
    },
    {
     "name": "stderr",
     "output_type": "stream",
     "text": [
      "[*********************100%***********************]  1 of 1 completed\n",
      "[*********************100%***********************]  1 of 1 completed\n"
     ]
    },
    {
     "name": "stdout",
     "output_type": "stream",
     "text": [
      "Naive RMSE for MNMD: 22.9390\n",
      "Naive RMSE for SPLB: 1.2790\n"
     ]
    },
    {
     "name": "stderr",
     "output_type": "stream",
     "text": [
      "[*********************100%***********************]  1 of 1 completed\n",
      "[*********************100%***********************]  1 of 1 completed\n"
     ]
    },
    {
     "name": "stdout",
     "output_type": "stream",
     "text": [
      "Naive RMSE for PDPR: 639.8209\n",
      "Naive RMSE for IBMP: 0.7617\n"
     ]
    },
    {
     "name": "stderr",
     "output_type": "stream",
     "text": [
      "[*********************100%***********************]  1 of 1 completed\n",
      "[*********************100%***********************]  1 of 1 completed\n"
     ]
    },
    {
     "name": "stdout",
     "output_type": "stream",
     "text": [
      "Naive RMSE for RXST: 4.5439\n",
      "Naive RMSE for RELY: 3.9460\n"
     ]
    },
    {
     "name": "stderr",
     "output_type": "stream",
     "text": [
      "[*********************100%***********************]  1 of 1 completed\n",
      "[*********************100%***********************]  1 of 1 completed\n"
     ]
    },
    {
     "name": "stdout",
     "output_type": "stream",
     "text": [
      "Naive RMSE for QLTA: 1.6358\n",
      "Naive RMSE for USHY: 2.8331\n"
     ]
    },
    {
     "name": "stderr",
     "output_type": "stream",
     "text": [
      "[*********************100%***********************]  1 of 1 completed\n",
      "[*********************100%***********************]  1 of 1 completed\n"
     ]
    },
    {
     "name": "stdout",
     "output_type": "stream",
     "text": [
      "Naive RMSE for MOAT: 3.0741\n",
      "Naive RMSE for TNDM: 35.7111\n"
     ]
    },
    {
     "name": "stderr",
     "output_type": "stream",
     "text": [
      "[*********************100%***********************]  1 of 1 completed\n",
      "[*********************100%***********************]  1 of 1 completed\n"
     ]
    },
    {
     "name": "stdout",
     "output_type": "stream",
     "text": [
      "Naive RMSE for CGMU: 0.3424\n",
      "Naive RMSE for GOGO: 4.6900\n"
     ]
    },
    {
     "name": "stderr",
     "output_type": "stream",
     "text": [
      "[*********************100%***********************]  1 of 1 completed\n",
      "[*********************100%***********************]  1 of 1 completed"
     ]
    },
    {
     "name": "stdout",
     "output_type": "stream",
     "text": [
      "Naive RMSE for HRTX: 116.9188\n"
     ]
    },
    {
     "name": "stderr",
     "output_type": "stream",
     "text": [
      "\n",
      "[*********************100%***********************]  1 of 1 completed\n",
      "[*********************100%***********************]  1 of 1 completed\n"
     ]
    },
    {
     "name": "stdout",
     "output_type": "stream",
     "text": [
      "Naive RMSE for VYM: 3.8268\n",
      "Naive RMSE for CGSD: 0.2045\n",
      "Naive RMSE for CHWY: 22.9239\n"
     ]
    },
    {
     "name": "stderr",
     "output_type": "stream",
     "text": [
      "[*********************100%***********************]  1 of 1 completed\n",
      "[*********************100%***********************]  1 of 1 completed\n"
     ]
    },
    {
     "name": "stdout",
     "output_type": "stream",
     "text": [
      "Naive RMSE for MPNGY: 14.1056\n",
      "Naive RMSE for GTE: 12.3398\n"
     ]
    },
    {
     "name": "stderr",
     "output_type": "stream",
     "text": [
      "[*********************100%***********************]  1 of 1 completed\n",
      "[*********************100%***********************]  1 of 1 completed\n"
     ]
    },
    {
     "name": "stdout",
     "output_type": "stream",
     "text": [
      "Naive RMSE for RPTX: 4.8855\n",
      "Naive RMSE for DAR: 2.7895\n"
     ]
    },
    {
     "name": "stderr",
     "output_type": "stream",
     "text": [
      "[*********************100%***********************]  1 of 1 completed\n",
      "[*********************100%***********************]  1 of 1 completed\n"
     ]
    },
    {
     "name": "stdout",
     "output_type": "stream",
     "text": [
      "Naive RMSE for BOOM: 6.9467\n",
      "Naive RMSE for ENFY: 34.4981\n"
     ]
    },
    {
     "name": "stderr",
     "output_type": "stream",
     "text": [
      "[*********************100%***********************]  1 of 1 completed\n",
      "[*********************100%***********************]  1 of 1 completed\n"
     ]
    },
    {
     "name": "stdout",
     "output_type": "stream",
     "text": [
      "Naive RMSE for GPRE: 5.3555\n",
      "Naive RMSE for EXPI: 22.8455\n"
     ]
    },
    {
     "name": "stderr",
     "output_type": "stream",
     "text": [
      "[*********************100%***********************]  1 of 1 completed\n"
     ]
    },
    {
     "name": "stdout",
     "output_type": "stream",
     "text": [
      "Naive RMSE for PLCE: 10.3967\n"
     ]
    },
    {
     "name": "stderr",
     "output_type": "stream",
     "text": [
      "[*********************100%***********************]  1 of 1 completed\n",
      "[*********************100%***********************]  1 of 1 completed\n"
     ]
    },
    {
     "name": "stdout",
     "output_type": "stream",
     "text": [
      "Naive RMSE for RDN: 5.3068\n",
      "Naive RMSE for FLGT: 18.2271\n"
     ]
    },
    {
     "name": "stderr",
     "output_type": "stream",
     "text": [
      "[*********************100%***********************]  1 of 1 completed\n"
     ]
    },
    {
     "name": "stdout",
     "output_type": "stream",
     "text": [
      "Naive RMSE for OPRT: 5.1739\n"
     ]
    },
    {
     "name": "stderr",
     "output_type": "stream",
     "text": [
      "[*********************100%***********************]  1 of 1 completed\n",
      "[*********************100%***********************]  1 of 1 completed\n"
     ]
    },
    {
     "name": "stdout",
     "output_type": "stream",
     "text": [
      "Naive RMSE for TWI: 5.5457\n",
      "Naive RMSE for EVER: 13.6487\n"
     ]
    },
    {
     "name": "stderr",
     "output_type": "stream",
     "text": [
      "[*********************100%***********************]  1 of 1 completed\n",
      "[*********************100%***********************]  1 of 1 completed\n"
     ]
    },
    {
     "name": "stdout",
     "output_type": "stream",
     "text": [
      "Naive RMSE for MRUS: 5.4112\n",
      "Naive RMSE for WRBY: 5.7317\n"
     ]
    },
    {
     "name": "stderr",
     "output_type": "stream",
     "text": [
      "[*********************100%***********************]  1 of 1 completed"
     ]
    },
    {
     "name": "stdout",
     "output_type": "stream",
     "text": [
      "Naive RMSE for CWH: 10.9641\n"
     ]
    },
    {
     "name": "stderr",
     "output_type": "stream",
     "text": [
      "\n"
     ]
    }
   ],
   "source": [
    "naive_rmse_df = get_naive_rmse_for_tickers(tickers)"
   ]
  },
  {
   "cell_type": "code",
   "execution_count": 14,
   "metadata": {},
   "outputs": [
    {
     "data": {
      "text/html": [
       "<div>\n",
       "<style scoped>\n",
       "    .dataframe tbody tr th:only-of-type {\n",
       "        vertical-align: middle;\n",
       "    }\n",
       "\n",
       "    .dataframe tbody tr th {\n",
       "        vertical-align: top;\n",
       "    }\n",
       "\n",
       "    .dataframe thead th {\n",
       "        text-align: right;\n",
       "    }\n",
       "</style>\n",
       "<table border=\"1\" class=\"dataframe\">\n",
       "  <thead>\n",
       "    <tr style=\"text-align: right;\">\n",
       "      <th></th>\n",
       "      <th>ticker</th>\n",
       "      <th>naive_rmse</th>\n",
       "    </tr>\n",
       "  </thead>\n",
       "  <tbody>\n",
       "    <tr>\n",
       "      <th>0</th>\n",
       "      <td>ADYEY</td>\n",
       "      <td>6.102796</td>\n",
       "    </tr>\n",
       "    <tr>\n",
       "      <th>1</th>\n",
       "      <td>NMM</td>\n",
       "      <td>22.137733</td>\n",
       "    </tr>\n",
       "    <tr>\n",
       "      <th>2</th>\n",
       "      <td>MARK</td>\n",
       "      <td>155.314110</td>\n",
       "    </tr>\n",
       "    <tr>\n",
       "      <th>3</th>\n",
       "      <td>VIGI</td>\n",
       "      <td>7.196940</td>\n",
       "    </tr>\n",
       "    <tr>\n",
       "      <th>4</th>\n",
       "      <td>GDRX</td>\n",
       "      <td>9.044082</td>\n",
       "    </tr>\n",
       "  </tbody>\n",
       "</table>\n",
       "</div>"
      ],
      "text/plain": [
       "  ticker  naive_rmse\n",
       "0  ADYEY    6.102796\n",
       "1    NMM   22.137733\n",
       "2   MARK  155.314110\n",
       "3   VIGI    7.196940\n",
       "4   GDRX    9.044082"
      ]
     },
     "execution_count": 14,
     "metadata": {},
     "output_type": "execute_result"
    }
   ],
   "source": [
    "naive_rmse_df.head()"
   ]
  },
  {
   "cell_type": "code",
   "execution_count": 16,
   "metadata": {},
   "outputs": [
    {
     "data": {
      "text/plain": [
       "np.float64(185910204.1936717)"
      ]
     },
     "execution_count": 16,
     "metadata": {},
     "output_type": "execute_result"
    }
   ],
   "source": [
    "naive_rmse_df.naive_rmse.mean()"
   ]
  },
  {
   "cell_type": "code",
   "execution_count": null,
   "metadata": {},
   "outputs": [],
   "source": [
    "# export"
   ]
  },
  {
   "cell_type": "code",
   "execution_count": null,
   "metadata": {},
   "outputs": [],
   "source": [
    "# compare to baseline modle rmse"
   ]
  }
 ],
 "metadata": {
  "kernelspec": {
   "display_name": "Python 3",
   "language": "python",
   "name": "python3"
  },
  "language_info": {
   "codemirror_mode": {
    "name": "ipython",
    "version": 3
   },
   "file_extension": ".py",
   "mimetype": "text/x-python",
   "name": "python",
   "nbconvert_exporter": "python",
   "pygments_lexer": "ipython3",
   "version": "3.13.1"
  }
 },
 "nbformat": 4,
 "nbformat_minor": 2
}
