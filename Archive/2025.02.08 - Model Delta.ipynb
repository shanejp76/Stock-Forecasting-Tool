{
 "cells": [
  {
   "cell_type": "code",
   "execution_count": 35,
   "metadata": {},
   "outputs": [],
   "source": [
    "import pandas as pd"
   ]
  },
  {
   "cell_type": "code",
   "execution_count": 36,
   "metadata": {},
   "outputs": [],
   "source": [
    "combined_model_rmse_path = r\"C:\\Users\\Shane\\Desktop\\2024.06.27_-_Data_Science\\2024.10.13 - Portfolio Projects\\2024.12.04 - Swing Ticker\\Model Performance\\combined_model_rmse.csv\""
   ]
  },
  {
   "cell_type": "code",
   "execution_count": 37,
   "metadata": {},
   "outputs": [],
   "source": [
    "df = pd.read_csv(combined_model_rmse_path)"
   ]
  },
  {
   "cell_type": "code",
   "execution_count": 38,
   "metadata": {},
   "outputs": [
    {
     "name": "stdout",
     "output_type": "stream",
     "text": [
      "<class 'pandas.core.frame.DataFrame'>\n",
      "RangeIndex: 150 entries, 0 to 149\n",
      "Data columns (total 7 columns):\n",
      " #   Column          Non-Null Count  Dtype  \n",
      "---  ------          --------------  -----  \n",
      " 0   ticker          150 non-null    object \n",
      " 1   volatility      150 non-null    object \n",
      " 2   avg_price       150 non-null    float64\n",
      " 3   len             150 non-null    int64  \n",
      " 4   rmse_standard   150 non-null    float64\n",
      " 5   rmse_tuned      150 non-null    float64\n",
      " 6   winsorized_pct  150 non-null    float64\n",
      "dtypes: float64(4), int64(1), object(2)\n",
      "memory usage: 8.3+ KB\n"
     ]
    }
   ],
   "source": [
    "df.info()"
   ]
  },
  {
   "cell_type": "code",
   "execution_count": 39,
   "metadata": {},
   "outputs": [
    {
     "data": {
      "text/html": [
       "<div>\n",
       "<style scoped>\n",
       "    .dataframe tbody tr th:only-of-type {\n",
       "        vertical-align: middle;\n",
       "    }\n",
       "\n",
       "    .dataframe tbody tr th {\n",
       "        vertical-align: top;\n",
       "    }\n",
       "\n",
       "    .dataframe thead th {\n",
       "        text-align: right;\n",
       "    }\n",
       "</style>\n",
       "<table border=\"1\" class=\"dataframe\">\n",
       "  <thead>\n",
       "    <tr style=\"text-align: right;\">\n",
       "      <th></th>\n",
       "      <th>ticker</th>\n",
       "      <th>volatility</th>\n",
       "      <th>avg_price</th>\n",
       "      <th>len</th>\n",
       "      <th>rmse_standard</th>\n",
       "      <th>rmse_tuned</th>\n",
       "      <th>winsorized_pct</th>\n",
       "    </tr>\n",
       "  </thead>\n",
       "  <tbody>\n",
       "    <tr>\n",
       "      <th>0</th>\n",
       "      <td>ADYEY</td>\n",
       "      <td>Medium</td>\n",
       "      <td>16.389898</td>\n",
       "      <td>1347</td>\n",
       "      <td>5.087750</td>\n",
       "      <td>7.321585</td>\n",
       "      <td>0.397179</td>\n",
       "    </tr>\n",
       "    <tr>\n",
       "      <th>1</th>\n",
       "      <td>NMM</td>\n",
       "      <td>Medium</td>\n",
       "      <td>63.829555</td>\n",
       "      <td>4339</td>\n",
       "      <td>23.137863</td>\n",
       "      <td>18.612367</td>\n",
       "      <td>0.373358</td>\n",
       "    </tr>\n",
       "    <tr>\n",
       "      <th>2</th>\n",
       "      <td>MARK</td>\n",
       "      <td>High</td>\n",
       "      <td>214.811263</td>\n",
       "      <td>5455</td>\n",
       "      <td>10.280774</td>\n",
       "      <td>4.454470</td>\n",
       "      <td>0.273877</td>\n",
       "    </tr>\n",
       "    <tr>\n",
       "      <th>3</th>\n",
       "      <td>VIGI</td>\n",
       "      <td>Low</td>\n",
       "      <td>63.282331</td>\n",
       "      <td>2251</td>\n",
       "      <td>12.586773</td>\n",
       "      <td>3.847514</td>\n",
       "      <td>0.545980</td>\n",
       "    </tr>\n",
       "    <tr>\n",
       "      <th>4</th>\n",
       "      <td>GDRX</td>\n",
       "      <td>Medium-High</td>\n",
       "      <td>17.561466</td>\n",
       "      <td>1102</td>\n",
       "      <td>2.904431</td>\n",
       "      <td>1.844597</td>\n",
       "      <td>0.259528</td>\n",
       "    </tr>\n",
       "  </tbody>\n",
       "</table>\n",
       "</div>"
      ],
      "text/plain": [
       "  ticker   volatility   avg_price   len  rmse_standard  rmse_tuned  \\\n",
       "0  ADYEY       Medium   16.389898  1347       5.087750    7.321585   \n",
       "1    NMM       Medium   63.829555  4339      23.137863   18.612367   \n",
       "2   MARK         High  214.811263  5455      10.280774    4.454470   \n",
       "3   VIGI          Low   63.282331  2251      12.586773    3.847514   \n",
       "4   GDRX  Medium-High   17.561466  1102       2.904431    1.844597   \n",
       "\n",
       "   winsorized_pct  \n",
       "0        0.397179  \n",
       "1        0.373358  \n",
       "2        0.273877  \n",
       "3        0.545980  \n",
       "4        0.259528  "
      ]
     },
     "execution_count": 39,
     "metadata": {},
     "output_type": "execute_result"
    }
   ],
   "source": [
    "df.head()"
   ]
  },
  {
   "cell_type": "code",
   "execution_count": 40,
   "metadata": {},
   "outputs": [
    {
     "data": {
      "text/plain": [
       "150"
      ]
     },
     "execution_count": 40,
     "metadata": {},
     "output_type": "execute_result"
    }
   ],
   "source": [
    "len(df)"
   ]
  },
  {
   "cell_type": "code",
   "execution_count": 41,
   "metadata": {},
   "outputs": [
    {
     "data": {
      "text/html": [
       "<div>\n",
       "<style scoped>\n",
       "    .dataframe tbody tr th:only-of-type {\n",
       "        vertical-align: middle;\n",
       "    }\n",
       "\n",
       "    .dataframe tbody tr th {\n",
       "        vertical-align: top;\n",
       "    }\n",
       "\n",
       "    .dataframe thead th {\n",
       "        text-align: right;\n",
       "    }\n",
       "</style>\n",
       "<table border=\"1\" class=\"dataframe\">\n",
       "  <thead>\n",
       "    <tr style=\"text-align: right;\">\n",
       "      <th></th>\n",
       "      <th>ticker</th>\n",
       "      <th>volatility</th>\n",
       "      <th>avg_price</th>\n",
       "      <th>len</th>\n",
       "      <th>rmse_standard</th>\n",
       "      <th>rmse_tuned</th>\n",
       "      <th>winsorized_pct</th>\n",
       "    </tr>\n",
       "  </thead>\n",
       "  <tbody>\n",
       "    <tr>\n",
       "      <th>0</th>\n",
       "      <td>ADYEY</td>\n",
       "      <td>Medium</td>\n",
       "      <td>16.389898</td>\n",
       "      <td>1347</td>\n",
       "      <td>5.087750</td>\n",
       "      <td>7.321585</td>\n",
       "      <td>0.397179</td>\n",
       "    </tr>\n",
       "    <tr>\n",
       "      <th>1</th>\n",
       "      <td>NMM</td>\n",
       "      <td>Medium</td>\n",
       "      <td>63.829555</td>\n",
       "      <td>4339</td>\n",
       "      <td>23.137863</td>\n",
       "      <td>18.612367</td>\n",
       "      <td>0.373358</td>\n",
       "    </tr>\n",
       "    <tr>\n",
       "      <th>2</th>\n",
       "      <td>MARK</td>\n",
       "      <td>High</td>\n",
       "      <td>214.811263</td>\n",
       "      <td>5455</td>\n",
       "      <td>10.280774</td>\n",
       "      <td>4.454470</td>\n",
       "      <td>0.273877</td>\n",
       "    </tr>\n",
       "    <tr>\n",
       "      <th>3</th>\n",
       "      <td>VIGI</td>\n",
       "      <td>Low</td>\n",
       "      <td>63.282331</td>\n",
       "      <td>2251</td>\n",
       "      <td>12.586773</td>\n",
       "      <td>3.847514</td>\n",
       "      <td>0.545980</td>\n",
       "    </tr>\n",
       "    <tr>\n",
       "      <th>4</th>\n",
       "      <td>GDRX</td>\n",
       "      <td>Medium-High</td>\n",
       "      <td>17.561466</td>\n",
       "      <td>1102</td>\n",
       "      <td>2.904431</td>\n",
       "      <td>1.844597</td>\n",
       "      <td>0.259528</td>\n",
       "    </tr>\n",
       "  </tbody>\n",
       "</table>\n",
       "</div>"
      ],
      "text/plain": [
       "  ticker   volatility   avg_price   len  rmse_standard  rmse_tuned  \\\n",
       "0  ADYEY       Medium   16.389898  1347       5.087750    7.321585   \n",
       "1    NMM       Medium   63.829555  4339      23.137863   18.612367   \n",
       "2   MARK         High  214.811263  5455      10.280774    4.454470   \n",
       "3   VIGI          Low   63.282331  2251      12.586773    3.847514   \n",
       "4   GDRX  Medium-High   17.561466  1102       2.904431    1.844597   \n",
       "\n",
       "   winsorized_pct  \n",
       "0        0.397179  \n",
       "1        0.373358  \n",
       "2        0.273877  \n",
       "3        0.545980  \n",
       "4        0.259528  "
      ]
     },
     "execution_count": 41,
     "metadata": {},
     "output_type": "execute_result"
    }
   ],
   "source": [
    "df.head()"
   ]
  },
  {
   "cell_type": "code",
   "execution_count": null,
   "metadata": {},
   "outputs": [],
   "source": [
    "df['cust_delta'] = (df['rmse_tuned'] - df['rmse_standard']) / df['rmse_standard']"
   ]
  },
  {
   "cell_type": "code",
   "execution_count": 43,
   "metadata": {},
   "outputs": [
    {
     "data": {
      "text/html": [
       "<div>\n",
       "<style scoped>\n",
       "    .dataframe tbody tr th:only-of-type {\n",
       "        vertical-align: middle;\n",
       "    }\n",
       "\n",
       "    .dataframe tbody tr th {\n",
       "        vertical-align: top;\n",
       "    }\n",
       "\n",
       "    .dataframe thead th {\n",
       "        text-align: right;\n",
       "    }\n",
       "</style>\n",
       "<table border=\"1\" class=\"dataframe\">\n",
       "  <thead>\n",
       "    <tr style=\"text-align: right;\">\n",
       "      <th></th>\n",
       "      <th>ticker</th>\n",
       "      <th>volatility</th>\n",
       "      <th>avg_price</th>\n",
       "      <th>len</th>\n",
       "      <th>rmse_standard</th>\n",
       "      <th>rmse_tuned</th>\n",
       "      <th>winsorized_pct</th>\n",
       "      <th>cust_delta</th>\n",
       "    </tr>\n",
       "  </thead>\n",
       "  <tbody>\n",
       "    <tr>\n",
       "      <th>0</th>\n",
       "      <td>ADYEY</td>\n",
       "      <td>Medium</td>\n",
       "      <td>16.389898</td>\n",
       "      <td>1347</td>\n",
       "      <td>5.087750</td>\n",
       "      <td>7.321585</td>\n",
       "      <td>0.397179</td>\n",
       "      <td>0.439061</td>\n",
       "    </tr>\n",
       "    <tr>\n",
       "      <th>1</th>\n",
       "      <td>NMM</td>\n",
       "      <td>Medium</td>\n",
       "      <td>63.829555</td>\n",
       "      <td>4339</td>\n",
       "      <td>23.137863</td>\n",
       "      <td>18.612367</td>\n",
       "      <td>0.373358</td>\n",
       "      <td>-0.195588</td>\n",
       "    </tr>\n",
       "    <tr>\n",
       "      <th>2</th>\n",
       "      <td>MARK</td>\n",
       "      <td>High</td>\n",
       "      <td>214.811263</td>\n",
       "      <td>5455</td>\n",
       "      <td>10.280774</td>\n",
       "      <td>4.454470</td>\n",
       "      <td>0.273877</td>\n",
       "      <td>-0.566718</td>\n",
       "    </tr>\n",
       "    <tr>\n",
       "      <th>3</th>\n",
       "      <td>VIGI</td>\n",
       "      <td>Low</td>\n",
       "      <td>63.282331</td>\n",
       "      <td>2251</td>\n",
       "      <td>12.586773</td>\n",
       "      <td>3.847514</td>\n",
       "      <td>0.545980</td>\n",
       "      <td>-0.694321</td>\n",
       "    </tr>\n",
       "    <tr>\n",
       "      <th>4</th>\n",
       "      <td>GDRX</td>\n",
       "      <td>Medium-High</td>\n",
       "      <td>17.561466</td>\n",
       "      <td>1102</td>\n",
       "      <td>2.904431</td>\n",
       "      <td>1.844597</td>\n",
       "      <td>0.259528</td>\n",
       "      <td>-0.364902</td>\n",
       "    </tr>\n",
       "  </tbody>\n",
       "</table>\n",
       "</div>"
      ],
      "text/plain": [
       "  ticker   volatility   avg_price   len  rmse_standard  rmse_tuned  \\\n",
       "0  ADYEY       Medium   16.389898  1347       5.087750    7.321585   \n",
       "1    NMM       Medium   63.829555  4339      23.137863   18.612367   \n",
       "2   MARK         High  214.811263  5455      10.280774    4.454470   \n",
       "3   VIGI          Low   63.282331  2251      12.586773    3.847514   \n",
       "4   GDRX  Medium-High   17.561466  1102       2.904431    1.844597   \n",
       "\n",
       "   winsorized_pct  cust_delta  \n",
       "0        0.397179    0.439061  \n",
       "1        0.373358   -0.195588  \n",
       "2        0.273877   -0.566718  \n",
       "3        0.545980   -0.694321  \n",
       "4        0.259528   -0.364902  "
      ]
     },
     "execution_count": 43,
     "metadata": {},
     "output_type": "execute_result"
    }
   ],
   "source": [
    "df.head()"
   ]
  },
  {
   "cell_type": "code",
   "execution_count": 44,
   "metadata": {},
   "outputs": [
    {
     "data": {
      "text/plain": [
       "150"
      ]
     },
     "execution_count": 44,
     "metadata": {},
     "output_type": "execute_result"
    }
   ],
   "source": [
    "len(df)"
   ]
  },
  {
   "cell_type": "code",
   "execution_count": 53,
   "metadata": {},
   "outputs": [],
   "source": [
    "vol_order = ['Low', 'Medium-Low', 'Medium', 'Medium-High', 'High']"
   ]
  },
  {
   "cell_type": "code",
   "execution_count": null,
   "metadata": {},
   "outputs": [],
   "source": [
    "# Set volatility to ordered categorical\n",
    "\n",
    "df['volatility'] = pd.Categorical(df['volatility'], categories=vol_order, ordered=True) "
   ]
  },
  {
   "cell_type": "code",
   "execution_count": 70,
   "metadata": {},
   "outputs": [
    {
     "name": "stderr",
     "output_type": "stream",
     "text": [
      "C:\\Users\\Shane\\AppData\\Local\\Temp\\ipykernel_29984\\910504958.py:3: FutureWarning: The default of observed=False is deprecated and will be changed to True in a future version of pandas. Pass observed=False to retain current behavior or observed=True to adopt the future default and silence this warning.\n",
      "  df_mean = df.groupby('volatility').agg({\n"
     ]
    },
    {
     "data": {
      "text/html": [
       "<div>\n",
       "<style scoped>\n",
       "    .dataframe tbody tr th:only-of-type {\n",
       "        vertical-align: middle;\n",
       "    }\n",
       "\n",
       "    .dataframe tbody tr th {\n",
       "        vertical-align: top;\n",
       "    }\n",
       "\n",
       "    .dataframe thead th {\n",
       "        text-align: right;\n",
       "    }\n",
       "</style>\n",
       "<table border=\"1\" class=\"dataframe\">\n",
       "  <thead>\n",
       "    <tr style=\"text-align: right;\">\n",
       "      <th></th>\n",
       "      <th>volatility</th>\n",
       "      <th>avg_price</th>\n",
       "      <th>len</th>\n",
       "      <th>winsorized_pct</th>\n",
       "      <th>cust_delta</th>\n",
       "      <th>rmse_standard</th>\n",
       "      <th>rmse_tuned</th>\n",
       "    </tr>\n",
       "  </thead>\n",
       "  <tbody>\n",
       "    <tr>\n",
       "      <th>0</th>\n",
       "      <td>Low</td>\n",
       "      <td>3.886263e+01</td>\n",
       "      <td>2768.166667</td>\n",
       "      <td>0.555451</td>\n",
       "      <td>-0.153043</td>\n",
       "      <td>3.786161</td>\n",
       "      <td>2.554092</td>\n",
       "    </tr>\n",
       "    <tr>\n",
       "      <th>1</th>\n",
       "      <td>Medium-Low</td>\n",
       "      <td>3.753373e+01</td>\n",
       "      <td>6071.533333</td>\n",
       "      <td>0.381201</td>\n",
       "      <td>-0.281065</td>\n",
       "      <td>18.436105</td>\n",
       "      <td>13.038622</td>\n",
       "    </tr>\n",
       "    <tr>\n",
       "      <th>2</th>\n",
       "      <td>Medium</td>\n",
       "      <td>2.917535e+01</td>\n",
       "      <td>5074.100000</td>\n",
       "      <td>0.372707</td>\n",
       "      <td>-0.178366</td>\n",
       "      <td>18.935506</td>\n",
       "      <td>15.143909</td>\n",
       "    </tr>\n",
       "    <tr>\n",
       "      <th>3</th>\n",
       "      <td>Medium-High</td>\n",
       "      <td>3.777125e+01</td>\n",
       "      <td>3486.166667</td>\n",
       "      <td>0.294965</td>\n",
       "      <td>-0.192912</td>\n",
       "      <td>21.338418</td>\n",
       "      <td>16.981323</td>\n",
       "    </tr>\n",
       "    <tr>\n",
       "      <th>4</th>\n",
       "      <td>High</td>\n",
       "      <td>5.928693e+09</td>\n",
       "      <td>2905.833333</td>\n",
       "      <td>0.252654</td>\n",
       "      <td>-0.283384</td>\n",
       "      <td>123.351131</td>\n",
       "      <td>61.539941</td>\n",
       "    </tr>\n",
       "  </tbody>\n",
       "</table>\n",
       "</div>"
      ],
      "text/plain": [
       "    volatility     avg_price          len  winsorized_pct  cust_delta  \\\n",
       "0          Low  3.886263e+01  2768.166667        0.555451   -0.153043   \n",
       "1   Medium-Low  3.753373e+01  6071.533333        0.381201   -0.281065   \n",
       "2       Medium  2.917535e+01  5074.100000        0.372707   -0.178366   \n",
       "3  Medium-High  3.777125e+01  3486.166667        0.294965   -0.192912   \n",
       "4         High  5.928693e+09  2905.833333        0.252654   -0.283384   \n",
       "\n",
       "   rmse_standard  rmse_tuned  \n",
       "0       3.786161    2.554092  \n",
       "1      18.436105   13.038622  \n",
       "2      18.935506   15.143909  \n",
       "3      21.338418   16.981323  \n",
       "4     123.351131   61.539941  "
      ]
     },
     "execution_count": 70,
     "metadata": {},
     "output_type": "execute_result"
    }
   ],
   "source": [
    "# Get average price, length, and winsorized percentage for each volatility level\n",
    "\n",
    "df_mean = df.groupby('volatility').agg({\n",
    "    'avg_price': 'mean', \n",
    "    'len': 'mean', \n",
    "    'winsorized_pct': 'mean',\n",
    "    'cust_delta': 'mean', \n",
    "    'rmse_standard': 'mean',\n",
    "    'rmse_tuned': 'mean'\n",
    "}).sort_index().reset_index()\n",
    "df_mean"
   ]
  },
  {
   "cell_type": "code",
   "execution_count": 64,
   "metadata": {},
   "outputs": [
    {
     "name": "stderr",
     "output_type": "stream",
     "text": [
      "C:\\Users\\Shane\\AppData\\Local\\Temp\\ipykernel_29984\\1532854326.py:3: FutureWarning: The default of observed=False is deprecated and will be changed to True in a future version of pandas. Pass observed=False to retain current behavior or observed=True to adopt the future default and silence this warning.\n",
      "  df.groupby('volatility').agg({'cust_delta': 'std'}).sort_values('cust_delta', ascending=False).sort_index().reset_index()\n"
     ]
    },
    {
     "data": {
      "text/html": [
       "<div>\n",
       "<style scoped>\n",
       "    .dataframe tbody tr th:only-of-type {\n",
       "        vertical-align: middle;\n",
       "    }\n",
       "\n",
       "    .dataframe tbody tr th {\n",
       "        vertical-align: top;\n",
       "    }\n",
       "\n",
       "    .dataframe thead th {\n",
       "        text-align: right;\n",
       "    }\n",
       "</style>\n",
       "<table border=\"1\" class=\"dataframe\">\n",
       "  <thead>\n",
       "    <tr style=\"text-align: right;\">\n",
       "      <th></th>\n",
       "      <th>volatility</th>\n",
       "      <th>cust_delta</th>\n",
       "    </tr>\n",
       "  </thead>\n",
       "  <tbody>\n",
       "    <tr>\n",
       "      <th>0</th>\n",
       "      <td>Low</td>\n",
       "      <td>0.239450</td>\n",
       "    </tr>\n",
       "    <tr>\n",
       "      <th>1</th>\n",
       "      <td>Medium-Low</td>\n",
       "      <td>0.271040</td>\n",
       "    </tr>\n",
       "    <tr>\n",
       "      <th>2</th>\n",
       "      <td>Medium</td>\n",
       "      <td>0.309107</td>\n",
       "    </tr>\n",
       "    <tr>\n",
       "      <th>3</th>\n",
       "      <td>Medium-High</td>\n",
       "      <td>0.240959</td>\n",
       "    </tr>\n",
       "    <tr>\n",
       "      <th>4</th>\n",
       "      <td>High</td>\n",
       "      <td>0.314926</td>\n",
       "    </tr>\n",
       "  </tbody>\n",
       "</table>\n",
       "</div>"
      ],
      "text/plain": [
       "    volatility  cust_delta\n",
       "0          Low    0.239450\n",
       "1   Medium-Low    0.271040\n",
       "2       Medium    0.309107\n",
       "3  Medium-High    0.240959\n",
       "4         High    0.314926"
      ]
     },
     "execution_count": 64,
     "metadata": {},
     "output_type": "execute_result"
    }
   ],
   "source": [
    "# Which category had a wider range of pct_change values?\n",
    "\n",
    "df.groupby('volatility').agg({'cust_delta': 'std'}).sort_values('cust_delta', ascending=False).sort_index().reset_index()"
   ]
  },
  {
   "cell_type": "code",
   "execution_count": 48,
   "metadata": {},
   "outputs": [
    {
     "data": {
      "image/png": "[encoded data removed]",
      "text/plain": [
       "<Figure size 640x480 with 1 Axes>"
      ]
     },
     "metadata": {},
     "output_type": "display_data"
    }
   ],
   "source": [
    "import seaborn as sns\n",
    "import matplotlib.pyplot as plt\n",
    "\n",
    "# Define the desired order of volatility categories\n",
    "volatility_order = ['High', 'Medium-High', 'Medium', 'Medium-Low', 'Low']\n",
    "\n",
    "# Create the boxplot, specifying the order\n",
    "sns.boxplot(x='volatility', y='cust_delta', data=df, order=volatility_order)\n",
    "plt.title('Distribution of Custom Delta Percentage by Volatility Category')\n",
    "plt.xlabel('Volatility Category')\n",
    "plt.ylabel('Custom Delta Percentage')\n",
    "plt.show()"
   ]
  },
  {
   "cell_type": "code",
   "execution_count": 49,
   "metadata": {},
   "outputs": [
    {
     "data": {
      "text/plain": [
       "np.float64(-0.21775384870337083)"
      ]
     },
     "execution_count": 49,
     "metadata": {},
     "output_type": "execute_result"
    }
   ],
   "source": [
    "# pct change between models across all samples was...\n",
    "\n",
    "df['cust_delta'].mean()"
   ]
  },
  {
   "cell_type": "code",
   "execution_count": 51,
   "metadata": {},
   "outputs": [
    {
     "data": {
      "text/html": [
       "<div>\n",
       "<style scoped>\n",
       "    .dataframe tbody tr th:only-of-type {\n",
       "        vertical-align: middle;\n",
       "    }\n",
       "\n",
       "    .dataframe tbody tr th {\n",
       "        vertical-align: top;\n",
       "    }\n",
       "\n",
       "    .dataframe thead th {\n",
       "        text-align: right;\n",
       "    }\n",
       "</style>\n",
       "<table border=\"1\" class=\"dataframe\">\n",
       "  <thead>\n",
       "    <tr style=\"text-align: right;\">\n",
       "      <th></th>\n",
       "      <th>ticker</th>\n",
       "      <th>volatility</th>\n",
       "      <th>avg_price</th>\n",
       "      <th>len</th>\n",
       "      <th>rmse_standard</th>\n",
       "      <th>rmse_tuned</th>\n",
       "      <th>winsorized_pct</th>\n",
       "      <th>cust_delta</th>\n",
       "    </tr>\n",
       "  </thead>\n",
       "  <tbody>\n",
       "    <tr>\n",
       "      <th>115</th>\n",
       "      <td>ACON</td>\n",
       "      <td>High</td>\n",
       "      <td>2609.747585</td>\n",
       "      <td>704</td>\n",
       "      <td>1731.085986</td>\n",
       "      <td>302.723998</td>\n",
       "      <td>0.288352</td>\n",
       "      <td>-0.825125</td>\n",
       "    </tr>\n",
       "    <tr>\n",
       "      <th>39</th>\n",
       "      <td>VERV</td>\n",
       "      <td>High</td>\n",
       "      <td>21.222462</td>\n",
       "      <td>918</td>\n",
       "      <td>15.274003</td>\n",
       "      <td>3.557291</td>\n",
       "      <td>0.303922</td>\n",
       "      <td>-0.767102</td>\n",
       "    </tr>\n",
       "    <tr>\n",
       "      <th>42</th>\n",
       "      <td>RELI</td>\n",
       "      <td>High</td>\n",
       "      <td>376.876723</td>\n",
       "      <td>1007</td>\n",
       "      <td>303.066552</td>\n",
       "      <td>70.975514</td>\n",
       "      <td>0.334657</td>\n",
       "      <td>-0.765809</td>\n",
       "    </tr>\n",
       "    <tr>\n",
       "      <th>9</th>\n",
       "      <td>SDA</td>\n",
       "      <td>High</td>\n",
       "      <td>10.007640</td>\n",
       "      <td>961</td>\n",
       "      <td>6.547074</td>\n",
       "      <td>1.760112</td>\n",
       "      <td>0.211238</td>\n",
       "      <td>-0.731160</td>\n",
       "    </tr>\n",
       "    <tr>\n",
       "      <th>133</th>\n",
       "      <td>MPNGY</td>\n",
       "      <td>Medium-High</td>\n",
       "      <td>45.233815</td>\n",
       "      <td>1325</td>\n",
       "      <td>31.668995</td>\n",
       "      <td>8.831124</td>\n",
       "      <td>0.298113</td>\n",
       "      <td>-0.721143</td>\n",
       "    </tr>\n",
       "  </tbody>\n",
       "</table>\n",
       "</div>"
      ],
      "text/plain": [
       "    ticker   volatility    avg_price   len  rmse_standard  rmse_tuned  \\\n",
       "115   ACON         High  2609.747585   704    1731.085986  302.723998   \n",
       "39    VERV         High    21.222462   918      15.274003    3.557291   \n",
       "42    RELI         High   376.876723  1007     303.066552   70.975514   \n",
       "9      SDA         High    10.007640   961       6.547074    1.760112   \n",
       "133  MPNGY  Medium-High    45.233815  1325      31.668995    8.831124   \n",
       "\n",
       "     winsorized_pct  cust_delta  \n",
       "115        0.288352   -0.825125  \n",
       "39         0.303922   -0.767102  \n",
       "42         0.334657   -0.765809  \n",
       "9          0.211238   -0.731160  \n",
       "133        0.298113   -0.721143  "
      ]
     },
     "execution_count": 51,
     "metadata": {},
     "output_type": "execute_result"
    }
   ],
   "source": [
    "df.sort_values(by='cust_delta').head()"
   ]
  },
  {
   "cell_type": "code",
   "execution_count": 77,
   "metadata": {},
   "outputs": [
    {
     "data": {
      "image/png": "[encoded data removed]",
      "text/plain": [
       "<Figure size 640x480 with 1 Axes>"
      ]
     },
     "metadata": {},
     "output_type": "display_data"
    }
   ],
   "source": [
    "# line graph for volatility w winosrized_pct for df_mean\n",
    "\n",
    "plt.plot(df_mean['volatility'], df_mean['winsorized_pct'])\n",
    "plt.title('Mean Winsorized Percentage by Volatility Category')\n",
    "plt.xlabel('Volatility Category')\n",
    "plt.ylabel('Mean Winsorized Percentage')\n",
    "plt.show()"
   ]
  },
  {
   "cell_type": "code",
   "execution_count": 78,
   "metadata": {},
   "outputs": [
    {
     "data": {
      "image/png": "[encoded data removed]",
      "text/plain": [
       "<Figure size 640x480 with 1 Axes>"
      ]
     },
     "metadata": {},
     "output_type": "display_data"
    }
   ],
   "source": [
    "# line graph for volatility w rmse_standard & rmse_tuned\n",
    "\n",
    "plt.plot(df_mean['volatility'], df_mean['rmse_standard'], label='Standard Model')\n",
    "plt.plot(df_mean['volatility'], df_mean['rmse_tuned'], label='Tuned Model')\n",
    "plt.title('Mean RMSE by Volatility Category')\n",
    "plt.xlabel('Volatility Category')\n",
    "plt.ylabel('Mean RMSE')\n",
    "plt.legend()\n",
    "plt.show()"
   ]
  }
 ],
 "metadata": {
  "kernelspec": {
   "display_name": "Python 3",
   "language": "python",
   "name": "python3"
  },
  "language_info": {
   "codemirror_mode": {
    "name": "ipython",
    "version": 3
   },
   "file_extension": ".py",
   "mimetype": "text/x-python",
   "name": "python",
   "nbconvert_exporter": "python",
   "pygments_lexer": "ipython3",
   "version": "3.13.1"
  }
 },
 "nbformat": 4,
 "nbformat_minor": 2
}
