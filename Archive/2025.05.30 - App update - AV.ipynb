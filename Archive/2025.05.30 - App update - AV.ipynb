{
 "cells": [
  {
   "cell_type": "code",
   "execution_count": 1,
   "id": "31d85917",
   "metadata": {},
   "outputs": [
    {
     "name": "stderr",
     "output_type": "stream",
     "text": [
      "c:\\Users\\Shane\\AppData\\Local\\Programs\\Python\\Python313\\Lib\\site-packages\\tqdm\\auto.py:21: TqdmWarning: IProgress not found. Please update jupyter and ipywidgets. See https://ipywidgets.readthedocs.io/en/stable/user_install.html\n",
      "  from .autonotebook import tqdm as notebook_tqdm\n"
     ]
    }
   ],
   "source": [
    "import requests\n",
    "import streamlit as st\n",
    "import streamlit.components.v1 as components\n",
    "from datetime import date\n",
    "# import yfinance as yf # This import can be removed if yfinance is no longer used elsewhere\n",
    "from prophet import Prophet\n",
    "from prophet.diagnostics import cross_validation, performance_metrics\n",
    "from prophet.plot import plot_plotly\n",
    "from plotly import graph_objs as go\n",
    "import pandas as pd\n",
    "import numpy as np\n",
    "from plotly.subplots import make_subplots\n",
    "import ta\n",
    "from sklearn.metrics import mean_absolute_error, mean_squared_error, mean_absolute_percentage_error\n",
    "import itertools\n",
    "import io # NEW: Added for handling CSV data from Alpha Vantage\n",
    "from alpha_vantage.timeseries import TimeSeries\n",
    "\n",
    "ALPHA_VANTAGE_API_KEY = 'C08H8IRN64YGM4ZN'"
   ]
  },
  {
   "cell_type": "code",
   "execution_count": 2,
   "id": "348ebf12",
   "metadata": {},
   "outputs": [],
   "source": [
    "ts_av = TimeSeries(key=ALPHA_VANTAGE_API_KEY, output_format='pandas')"
   ]
  },
  {
   "cell_type": "code",
   "execution_count": 3,
   "id": "9ae761a2",
   "metadata": {},
   "outputs": [],
   "source": [
    "data_df, meta_data = ts_av.get_daily_adjusted(symbol='GOOG', outputsize='full')"
   ]
  },
  {
   "cell_type": "code",
   "execution_count": 4,
   "id": "4d6c01d7",
   "metadata": {},
   "outputs": [],
   "source": [
    "data_df = data_df[::-1]"
   ]
  },
  {
   "cell_type": "code",
   "execution_count": null,
   "id": "5c76242c",
   "metadata": {},
   "outputs": [],
   "source": [
    "# data_df.head()"
   ]
  },
  {
   "cell_type": "code",
   "execution_count": 6,
   "id": "650c2426",
   "metadata": {},
   "outputs": [],
   "source": [
    "# meta_data"
   ]
  },
  {
   "cell_type": "code",
   "execution_count": 9,
   "id": "69b7dee5",
   "metadata": {},
   "outputs": [
    {
     "data": {
      "text/plain": [
       "Index(['1. open', '2. high', '3. low', '4. close', '5. adjusted close',\n",
       "       '6. volume', '7. dividend amount', '8. split coefficient'],\n",
       "      dtype='object')"
      ]
     },
     "execution_count": 9,
     "metadata": {},
     "output_type": "execute_result"
    }
   ],
   "source": [
    "data_df.columns"
   ]
  },
  {
   "cell_type": "code",
   "execution_count": 19,
   "id": "cc1e54c9",
   "metadata": {},
   "outputs": [
    {
     "data": {
      "text/plain": [
       "Timestamp('2025-02-04 00:00:00')"
      ]
     },
     "execution_count": 19,
     "metadata": {},
     "output_type": "execute_result"
    }
   ],
   "source": [
    "col2check = '5. adjusted close'\n",
    "\n",
    "data_df[col2check].idxmax()"
   ]
  },
  {
   "cell_type": "code",
   "execution_count": 17,
   "id": "51664dc6",
   "metadata": {},
   "outputs": [
    {
     "data": {
      "text/plain": [
       "np.float64(207.462740908279)"
      ]
     },
     "execution_count": 17,
     "metadata": {},
     "output_type": "execute_result"
    }
   ],
   "source": [
    "data_df[col2check].max()"
   ]
  },
  {
   "cell_type": "code",
   "execution_count": 22,
   "id": "2b3b6d64",
   "metadata": {},
   "outputs": [
    {
     "data": {
      "application/vnd.microsoft.datawrangler.viewer.v0+json": {
       "columns": [
        {
         "name": "index",
         "rawType": "object",
         "type": "string"
        },
        {
         "name": "2021-11-18 00:00:00",
         "rawType": "float64",
         "type": "float"
        }
       ],
       "ref": "219cded4-74b7-4660-a52f-9f8ef81a4cba",
       "rows": [
        [
         "1. open",
         "2982.92"
        ],
        [
         "2. high",
         "3032.2"
        ],
        [
         "3. low",
         "2979.97"
        ],
        [
         "4. close",
         "3014.18"
        ],
        [
         "5. adjusted close",
         "149.989130974349"
        ],
        [
         "6. volume",
         "1334120.0"
        ],
        [
         "7. dividend amount",
         "0.0"
        ],
        [
         "8. split coefficient",
         "1.0"
        ]
       ],
       "shape": {
        "columns": 1,
        "rows": 8
       }
      },
      "text/plain": [
       "1. open                 2.982920e+03\n",
       "2. high                 3.032200e+03\n",
       "3. low                  2.979970e+03\n",
       "4. close                3.014180e+03\n",
       "5. adjusted close       1.499891e+02\n",
       "6. volume               1.334120e+06\n",
       "7. dividend amount      0.000000e+00\n",
       "8. split coefficient    1.000000e+00\n",
       "Name: 2021-11-18 00:00:00, dtype: float64"
      ]
     },
     "execution_count": 22,
     "metadata": {},
     "output_type": "execute_result"
    }
   ],
   "source": [
    "data_df.loc['2021-11-18 00:00:00']"
   ]
  },
  {
   "cell_type": "code",
   "execution_count": null,
   "id": "e87b874b",
   "metadata": {},
   "outputs": [],
   "source": []
  }
 ],
 "metadata": {
  "kernelspec": {
   "display_name": "Python 3",
   "language": "python",
   "name": "python3"
  },
  "language_info": {
   "codemirror_mode": {
    "name": "ipython",
    "version": 3
   },
   "file_extension": ".py",
   "mimetype": "text/x-python",
   "name": "python",
   "nbconvert_exporter": "python",
   "pygments_lexer": "ipython3",
   "version": "3.13.1"
  }
 },
 "nbformat": 4,
 "nbformat_minor": 5
}
