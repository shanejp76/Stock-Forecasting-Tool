{
 "cells": [
  {
   "cell_type": "code",
   "execution_count": 1,
   "metadata": {},
   "outputs": [],
   "source": [
    "import sys\n",
    "sys.path.append(\"/Users/shaneypeterson/Desktop/2024.06.27_-_Data_Science/Modules\")"
   ]
  },
  {
   "cell_type": "code",
   "execution_count": 2,
   "metadata": {},
   "outputs": [],
   "source": [
    "import data_preprocessing as dp\n",
    "import pandas as pd\n",
    "import numpy as np"
   ]
  },
  {
   "cell_type": "code",
   "execution_count": 3,
   "metadata": {},
   "outputs": [],
   "source": [
    "dp = dp.DataPreprocessor()"
   ]
  },
  {
   "cell_type": "code",
   "execution_count": 6,
   "metadata": {},
   "outputs": [
    {
     "name": "stdout",
     "output_type": "stream",
     "text": [
      "-- Index: 0.  Name:  2025.01.12 - Forecast. Description: Prophet Forecast. Saved to compare values to my forecast.\n",
      "\n",
      "-- Index: 1.  Name: 2025.01.12 - Forecast. Description: Tracking forecast from my tuner. saved 1/12/2024. compare predicted values to actuals.\n",
      "\n",
      "-- Index: 2.  Name: Model Forecast (for my tu. Description: Tracking forecast from my tuner. saved 1/12/2024. compare predicted values to actuals.\n",
      "\n",
      "-- Index: 3.  Name: monthly_budgets. Description: Monthly Budget doc for viz. Uses monthly income to create budgets for dedicated buckets.\n",
      "\n",
      "-- Index: 4.  Name: Transaction Bucket Database. Description: Database for processed monthly transactions.\n",
      "\n",
      "-- Index: 5.  Name: 2024.12. Description: Concatenated data for BofA, Chase, Citi, & Wells Fargo for Nov 2024.\n",
      "\n",
      "-- Index: 6.  Name: 2024.12 - Wells Fargo. Description: Wells Fargo for Nov 2024\n",
      "\n",
      "-- Index: 7.  Name: 2024.11 - Chase. Description: Chase data for Nov 2024\n",
      "\n",
      "-- Index: 8.  Name: 2024.12 - Citi. Description: Citi data for Nov 2024\n",
      "\n",
      "-- Index: 9.  Name: 2024.12.01 - BofA. Description: bofa data for November 2024\n",
      "\n",
      "-- Index: 10.  Name: 2024.11. Description: Concatenated data for BofA, Chase, Citi for Sep & Oct 2024. Note that Wells Fargo has already been processed.\n",
      "\n",
      "-- Index: 11.  Name: 2024.11.01 - BofA. Description: bofa data for October 2024\n",
      "\n",
      "-- Index: 12.  Name: 2024.11 - Citi. Description: Citi data for Sep & Oct 2024\n",
      "\n",
      "-- Index: 13.  Name: nan. Description: bofa data for October 2024\n",
      "\n",
      "-- Index: 14.  Name: 02 Preprocessed . Description: bofa data for October 2024\n",
      "\n",
      "-- Index: 15.  Name: 2024.01 - 2024.10 - Wells Fargo historical. Description: Wells Fargo historical data\n",
      "\n",
      "-- Index: 16.  Name: 2023.12-2024.07. Description: Concatenated historical data for BofA, Chase, & Citi\n",
      "\n",
      "-- Index: 17.  Name: 2023.12-2024.07 - Chase. Description: Historical Data for Chase\n",
      "\n",
      "-- Index: 18.  Name: 2023.12-2024.07 - Citi. Description: Historical data for Citi\n",
      "\n",
      "-- Index: 19.  Name: 2023.12-2024.07 - BofA. Description: Historical data for BofA\n",
      "\n",
      "-- Index: 20.  Name: 2024.08. Description: Aug 2024 processing\n",
      "\n",
      "-- Index: 21.  Name: nan. Description: nan\n",
      "\n",
      "-- Successfully loaded '2025.01.12 - Forecast'\n"
     ]
    }
   ],
   "source": [
    "my_forecast = dp.load_df()"
   ]
  },
  {
   "cell_type": "code",
   "execution_count": 9,
   "metadata": {},
   "outputs": [
    {
     "data": {
      "text/html": [
       "<div>\n",
       "<style scoped>\n",
       "    .dataframe tbody tr th:only-of-type {\n",
       "        vertical-align: middle;\n",
       "    }\n",
       "\n",
       "    .dataframe tbody tr th {\n",
       "        vertical-align: top;\n",
       "    }\n",
       "\n",
       "    .dataframe thead th {\n",
       "        text-align: right;\n",
       "    }\n",
       "</style>\n",
       "<table border=\"1\" class=\"dataframe\">\n",
       "  <thead>\n",
       "    <tr style=\"text-align: right;\">\n",
       "      <th></th>\n",
       "      <th>ds</th>\n",
       "      <th>trend</th>\n",
       "      <th>yhat_lower</th>\n",
       "      <th>yhat_upper</th>\n",
       "      <th>trend_lower</th>\n",
       "      <th>trend_upper</th>\n",
       "      <th>additive_terms</th>\n",
       "      <th>additive_terms_lower</th>\n",
       "      <th>additive_terms_upper</th>\n",
       "      <th>weekly</th>\n",
       "      <th>weekly_lower</th>\n",
       "      <th>weekly_upper</th>\n",
       "      <th>yearly</th>\n",
       "      <th>yearly_lower</th>\n",
       "      <th>yearly_upper</th>\n",
       "      <th>multiplicative_terms</th>\n",
       "      <th>multiplicative_terms_lower</th>\n",
       "      <th>multiplicative_terms_upper</th>\n",
       "      <th>yhat</th>\n",
       "    </tr>\n",
       "  </thead>\n",
       "  <tbody>\n",
       "    <tr>\n",
       "      <th>1463</th>\n",
       "      <td>2025-01-14</td>\n",
       "      <td>33.737723</td>\n",
       "      <td>12.210004</td>\n",
       "      <td>49.441221</td>\n",
       "      <td>33.737723</td>\n",
       "      <td>33.737723</td>\n",
       "      <td>-2.924842</td>\n",
       "      <td>-2.924842</td>\n",
       "      <td>-2.924842</td>\n",
       "      <td>0.437608</td>\n",
       "      <td>0.437608</td>\n",
       "      <td>0.437608</td>\n",
       "      <td>-3.36245</td>\n",
       "      <td>-3.36245</td>\n",
       "      <td>-3.36245</td>\n",
       "      <td>0.0</td>\n",
       "      <td>0.0</td>\n",
       "      <td>0.0</td>\n",
       "      <td>30.812881</td>\n",
       "    </tr>\n",
       "  </tbody>\n",
       "</table>\n",
       "</div>"
      ],
      "text/plain": [
       "              ds      trend  yhat_lower  yhat_upper  trend_lower  trend_upper  \\\n",
       "1463  2025-01-14  33.737723   12.210004   49.441221    33.737723    33.737723   \n",
       "\n",
       "      additive_terms  additive_terms_lower  additive_terms_upper    weekly  \\\n",
       "1463       -2.924842             -2.924842             -2.924842  0.437608   \n",
       "\n",
       "      weekly_lower  weekly_upper   yearly  yearly_lower  yearly_upper  \\\n",
       "1463      0.437608      0.437608 -3.36245      -3.36245      -3.36245   \n",
       "\n",
       "      multiplicative_terms  multiplicative_terms_lower  \\\n",
       "1463                   0.0                         0.0   \n",
       "\n",
       "      multiplicative_terms_upper       yhat  \n",
       "1463                         0.0  30.812881  "
      ]
     },
     "execution_count": 9,
     "metadata": {},
     "output_type": "execute_result"
    }
   ],
   "source": [
    "my_forecast[my_forecast.ds == '2025-01-14']"
   ]
  },
  {
   "cell_type": "markdown",
   "metadata": {},
   "source": [
    "### Actual price for GME on 2025-01-14 is 27.88"
   ]
  },
  {
   "cell_type": "code",
   "execution_count": 10,
   "metadata": {},
   "outputs": [
    {
     "name": "stdout",
     "output_type": "stream",
     "text": [
      "-- Index: 0.  Name:  2025.01.12 - Forecast. Description: Prophet Forecast. Saved to compare values to my forecast.\n",
      "\n",
      "-- Index: 1.  Name: 2025.01.12 - Forecast. Description: Tracking forecast from my tuner. saved 1/12/2024. compare predicted values to actuals.\n",
      "\n",
      "-- Index: 2.  Name: Model Forecast (for my tu. Description: Tracking forecast from my tuner. saved 1/12/2024. compare predicted values to actuals.\n",
      "\n",
      "-- Index: 3.  Name: monthly_budgets. Description: Monthly Budget doc for viz. Uses monthly income to create budgets for dedicated buckets.\n",
      "\n",
      "-- Index: 4.  Name: Transaction Bucket Database. Description: Database for processed monthly transactions.\n",
      "\n",
      "-- Index: 5.  Name: 2024.12. Description: Concatenated data for BofA, Chase, Citi, & Wells Fargo for Nov 2024.\n",
      "\n",
      "-- Index: 6.  Name: 2024.12 - Wells Fargo. Description: Wells Fargo for Nov 2024\n",
      "\n",
      "-- Index: 7.  Name: 2024.11 - Chase. Description: Chase data for Nov 2024\n",
      "\n",
      "-- Index: 8.  Name: 2024.12 - Citi. Description: Citi data for Nov 2024\n",
      "\n",
      "-- Index: 9.  Name: 2024.12.01 - BofA. Description: bofa data for November 2024\n",
      "\n",
      "-- Index: 10.  Name: 2024.11. Description: Concatenated data for BofA, Chase, Citi for Sep & Oct 2024. Note that Wells Fargo has already been processed.\n",
      "\n",
      "-- Index: 11.  Name: 2024.11.01 - BofA. Description: bofa data for October 2024\n",
      "\n",
      "-- Index: 12.  Name: 2024.11 - Citi. Description: Citi data for Sep & Oct 2024\n",
      "\n",
      "-- Index: 13.  Name: nan. Description: bofa data for October 2024\n",
      "\n",
      "-- Index: 14.  Name: 02 Preprocessed . Description: bofa data for October 2024\n",
      "\n",
      "-- Index: 15.  Name: 2024.01 - 2024.10 - Wells Fargo historical. Description: Wells Fargo historical data\n",
      "\n",
      "-- Index: 16.  Name: 2023.12-2024.07. Description: Concatenated historical data for BofA, Chase, & Citi\n",
      "\n",
      "-- Index: 17.  Name: 2023.12-2024.07 - Chase. Description: Historical Data for Chase\n",
      "\n",
      "-- Index: 18.  Name: 2023.12-2024.07 - Citi. Description: Historical data for Citi\n",
      "\n",
      "-- Index: 19.  Name: 2023.12-2024.07 - BofA. Description: Historical data for BofA\n",
      "\n",
      "-- Index: 20.  Name: 2024.08. Description: Aug 2024 processing\n",
      "\n",
      "-- Index: 21.  Name: nan. Description: nan\n",
      "\n",
      "-- Successfully loaded ' 2025.01.12 - Forecast'\n"
     ]
    }
   ],
   "source": [
    "prophet_forecast = dp.load_df()"
   ]
  },
  {
   "cell_type": "code",
   "execution_count": 11,
   "metadata": {},
   "outputs": [
    {
     "data": {
      "text/html": [
       "<div>\n",
       "<style scoped>\n",
       "    .dataframe tbody tr th:only-of-type {\n",
       "        vertical-align: middle;\n",
       "    }\n",
       "\n",
       "    .dataframe tbody tr th {\n",
       "        vertical-align: top;\n",
       "    }\n",
       "\n",
       "    .dataframe thead th {\n",
       "        text-align: right;\n",
       "    }\n",
       "</style>\n",
       "<table border=\"1\" class=\"dataframe\">\n",
       "  <thead>\n",
       "    <tr style=\"text-align: right;\">\n",
       "      <th></th>\n",
       "      <th>ds</th>\n",
       "      <th>trend</th>\n",
       "      <th>yhat_lower</th>\n",
       "      <th>yhat_upper</th>\n",
       "      <th>trend_lower</th>\n",
       "      <th>trend_upper</th>\n",
       "      <th>additive_terms</th>\n",
       "      <th>additive_terms_lower</th>\n",
       "      <th>additive_terms_upper</th>\n",
       "      <th>weekly</th>\n",
       "      <th>weekly_lower</th>\n",
       "      <th>weekly_upper</th>\n",
       "      <th>yearly</th>\n",
       "      <th>yearly_lower</th>\n",
       "      <th>yearly_upper</th>\n",
       "      <th>multiplicative_terms</th>\n",
       "      <th>multiplicative_terms_lower</th>\n",
       "      <th>multiplicative_terms_upper</th>\n",
       "      <th>yhat</th>\n",
       "    </tr>\n",
       "  </thead>\n",
       "  <tbody>\n",
       "    <tr>\n",
       "      <th>1460</th>\n",
       "      <td>2025-01-14</td>\n",
       "      <td>27.046537</td>\n",
       "      <td>15.791808</td>\n",
       "      <td>28.873461</td>\n",
       "      <td>27.046537</td>\n",
       "      <td>27.046537</td>\n",
       "      <td>-4.222622</td>\n",
       "      <td>-4.222622</td>\n",
       "      <td>-4.222622</td>\n",
       "      <td>-0.24401</td>\n",
       "      <td>-0.24401</td>\n",
       "      <td>-0.24401</td>\n",
       "      <td>-3.978612</td>\n",
       "      <td>-3.978612</td>\n",
       "      <td>-3.978612</td>\n",
       "      <td>0.0</td>\n",
       "      <td>0.0</td>\n",
       "      <td>0.0</td>\n",
       "      <td>22.823915</td>\n",
       "    </tr>\n",
       "  </tbody>\n",
       "</table>\n",
       "</div>"
      ],
      "text/plain": [
       "              ds      trend  yhat_lower  yhat_upper  trend_lower  trend_upper  \\\n",
       "1460  2025-01-14  27.046537   15.791808   28.873461    27.046537    27.046537   \n",
       "\n",
       "      additive_terms  additive_terms_lower  additive_terms_upper   weekly  \\\n",
       "1460       -4.222622             -4.222622             -4.222622 -0.24401   \n",
       "\n",
       "      weekly_lower  weekly_upper    yearly  yearly_lower  yearly_upper  \\\n",
       "1460      -0.24401      -0.24401 -3.978612     -3.978612     -3.978612   \n",
       "\n",
       "      multiplicative_terms  multiplicative_terms_lower  \\\n",
       "1460                   0.0                         0.0   \n",
       "\n",
       "      multiplicative_terms_upper       yhat  \n",
       "1460                         0.0  22.823915  "
      ]
     },
     "execution_count": 11,
     "metadata": {},
     "output_type": "execute_result"
    }
   ],
   "source": [
    "prophet_forecast[prophet_forecast.ds == '2025-01-14']"
   ]
  }
 ],
 "metadata": {
  "kernelspec": {
   "display_name": "Python 3",
   "language": "python",
   "name": "python3"
  },
  "language_info": {
   "codemirror_mode": {
    "name": "ipython",
    "version": 3
   },
   "file_extension": ".py",
   "mimetype": "text/x-python",
   "name": "python",
   "nbconvert_exporter": "python",
   "pygments_lexer": "ipython3",
   "version": "3.12.2"
  }
 },
 "nbformat": 4,
 "nbformat_minor": 2
}
