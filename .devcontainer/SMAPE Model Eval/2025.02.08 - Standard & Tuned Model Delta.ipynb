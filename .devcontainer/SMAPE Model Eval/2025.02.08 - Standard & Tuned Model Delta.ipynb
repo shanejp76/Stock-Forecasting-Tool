{
 "cells": [
  {
   "cell_type": "code",
   "execution_count": 1,
   "metadata": {},
   "outputs": [],
   "source": [
    "import pandas as pd"
   ]
  },
  {
   "cell_type": "code",
   "execution_count": null,
   "metadata": {},
   "outputs": [],
   "source": [
    "combined_model_smape_path = r\"C:\\Users\\Shane\\Desktop\\2024.06.27_-_Data_Science\\2024.10.13 - Portfolio Projects\\2024.12.04 - Swing Ticker\\SMAPE Model Eval\\all_models_smape.csv\""
   ]
  },
  {
   "cell_type": "code",
   "execution_count": 3,
   "metadata": {},
   "outputs": [],
   "source": [
    "df = pd.read_csv(combined_model_smape_path)"
   ]
  },
  {
   "cell_type": "code",
   "execution_count": 4,
   "metadata": {},
   "outputs": [
    {
     "name": "stdout",
     "output_type": "stream",
     "text": [
      "<class 'pandas.core.frame.DataFrame'>\n",
      "RangeIndex: 150 entries, 0 to 149\n",
      "Data columns (total 7 columns):\n",
      " #   Column          Non-Null Count  Dtype  \n",
      "---  ------          --------------  -----  \n",
      " 0   ticker          150 non-null    object \n",
      " 1   volatility      150 non-null    object \n",
      " 2   avg_price       150 non-null    float64\n",
      " 3   len             150 non-null    int64  \n",
      " 4   smape_standard  150 non-null    float64\n",
      " 5   smape_tuned     150 non-null    float64\n",
      " 6   winsorized_pct  150 non-null    float64\n",
      "dtypes: float64(4), int64(1), object(2)\n",
      "memory usage: 8.3+ KB\n"
     ]
    }
   ],
   "source": [
    "df.info()"
   ]
  },
  {
   "cell_type": "code",
   "execution_count": 5,
   "metadata": {},
   "outputs": [
    {
     "data": {
      "text/html": [
       "<div>\n",
       "<style scoped>\n",
       "    .dataframe tbody tr th:only-of-type {\n",
       "        vertical-align: middle;\n",
       "    }\n",
       "\n",
       "    .dataframe tbody tr th {\n",
       "        vertical-align: top;\n",
       "    }\n",
       "\n",
       "    .dataframe thead th {\n",
       "        text-align: right;\n",
       "    }\n",
       "</style>\n",
       "<table border=\"1\" class=\"dataframe\">\n",
       "  <thead>\n",
       "    <tr style=\"text-align: right;\">\n",
       "      <th></th>\n",
       "      <th>ticker</th>\n",
       "      <th>volatility</th>\n",
       "      <th>avg_price</th>\n",
       "      <th>len</th>\n",
       "      <th>smape_standard</th>\n",
       "      <th>smape_tuned</th>\n",
       "      <th>winsorized_pct</th>\n",
       "    </tr>\n",
       "  </thead>\n",
       "  <tbody>\n",
       "    <tr>\n",
       "      <th>0</th>\n",
       "      <td>WPP</td>\n",
       "      <td>Medium</td>\n",
       "      <td>32.136355</td>\n",
       "      <td>9355</td>\n",
       "      <td>0.270578</td>\n",
       "      <td>0.075833</td>\n",
       "      <td>0.364725</td>\n",
       "    </tr>\n",
       "    <tr>\n",
       "      <th>1</th>\n",
       "      <td>CVGW</td>\n",
       "      <td>Medium</td>\n",
       "      <td>31.071787</td>\n",
       "      <td>5681</td>\n",
       "      <td>0.162737</td>\n",
       "      <td>0.163886</td>\n",
       "      <td>0.363316</td>\n",
       "    </tr>\n",
       "    <tr>\n",
       "      <th>2</th>\n",
       "      <td>DFH</td>\n",
       "      <td>Medium</td>\n",
       "      <td>22.145518</td>\n",
       "      <td>1023</td>\n",
       "      <td>0.305700</td>\n",
       "      <td>0.239105</td>\n",
       "      <td>0.418377</td>\n",
       "    </tr>\n",
       "    <tr>\n",
       "      <th>3</th>\n",
       "      <td>RCEL</td>\n",
       "      <td>Medium-High</td>\n",
       "      <td>13.289237</td>\n",
       "      <td>3209</td>\n",
       "      <td>0.915579</td>\n",
       "      <td>0.627327</td>\n",
       "      <td>0.267061</td>\n",
       "    </tr>\n",
       "    <tr>\n",
       "      <th>4</th>\n",
       "      <td>C</td>\n",
       "      <td>Medium-Low</td>\n",
       "      <td>79.326248</td>\n",
       "      <td>12132</td>\n",
       "      <td>0.325752</td>\n",
       "      <td>0.241818</td>\n",
       "      <td>0.368035</td>\n",
       "    </tr>\n",
       "  </tbody>\n",
       "</table>\n",
       "</div>"
      ],
      "text/plain": [
       "  ticker   volatility  avg_price    len  smape_standard  smape_tuned  \\\n",
       "0    WPP       Medium  32.136355   9355        0.270578     0.075833   \n",
       "1   CVGW       Medium  31.071787   5681        0.162737     0.163886   \n",
       "2    DFH       Medium  22.145518   1023        0.305700     0.239105   \n",
       "3   RCEL  Medium-High  13.289237   3209        0.915579     0.627327   \n",
       "4      C   Medium-Low  79.326248  12132        0.325752     0.241818   \n",
       "\n",
       "   winsorized_pct  \n",
       "0        0.364725  \n",
       "1        0.363316  \n",
       "2        0.418377  \n",
       "3        0.267061  \n",
       "4        0.368035  "
      ]
     },
     "execution_count": 5,
     "metadata": {},
     "output_type": "execute_result"
    }
   ],
   "source": [
    "df.head()"
   ]
  },
  {
   "cell_type": "code",
   "execution_count": 6,
   "metadata": {},
   "outputs": [
    {
     "data": {
      "text/plain": [
       "150"
      ]
     },
     "execution_count": 6,
     "metadata": {},
     "output_type": "execute_result"
    }
   ],
   "source": [
    "len(df)"
   ]
  },
  {
   "cell_type": "code",
   "execution_count": 7,
   "metadata": {},
   "outputs": [
    {
     "data": {
      "text/html": [
       "<div>\n",
       "<style scoped>\n",
       "    .dataframe tbody tr th:only-of-type {\n",
       "        vertical-align: middle;\n",
       "    }\n",
       "\n",
       "    .dataframe tbody tr th {\n",
       "        vertical-align: top;\n",
       "    }\n",
       "\n",
       "    .dataframe thead th {\n",
       "        text-align: right;\n",
       "    }\n",
       "</style>\n",
       "<table border=\"1\" class=\"dataframe\">\n",
       "  <thead>\n",
       "    <tr style=\"text-align: right;\">\n",
       "      <th></th>\n",
       "      <th>ticker</th>\n",
       "      <th>volatility</th>\n",
       "      <th>avg_price</th>\n",
       "      <th>len</th>\n",
       "      <th>smape_standard</th>\n",
       "      <th>smape_tuned</th>\n",
       "      <th>winsorized_pct</th>\n",
       "    </tr>\n",
       "  </thead>\n",
       "  <tbody>\n",
       "    <tr>\n",
       "      <th>0</th>\n",
       "      <td>WPP</td>\n",
       "      <td>Medium</td>\n",
       "      <td>32.136355</td>\n",
       "      <td>9355</td>\n",
       "      <td>0.270578</td>\n",
       "      <td>0.075833</td>\n",
       "      <td>0.364725</td>\n",
       "    </tr>\n",
       "    <tr>\n",
       "      <th>1</th>\n",
       "      <td>CVGW</td>\n",
       "      <td>Medium</td>\n",
       "      <td>31.071787</td>\n",
       "      <td>5681</td>\n",
       "      <td>0.162737</td>\n",
       "      <td>0.163886</td>\n",
       "      <td>0.363316</td>\n",
       "    </tr>\n",
       "    <tr>\n",
       "      <th>2</th>\n",
       "      <td>DFH</td>\n",
       "      <td>Medium</td>\n",
       "      <td>22.145518</td>\n",
       "      <td>1023</td>\n",
       "      <td>0.305700</td>\n",
       "      <td>0.239105</td>\n",
       "      <td>0.418377</td>\n",
       "    </tr>\n",
       "    <tr>\n",
       "      <th>3</th>\n",
       "      <td>RCEL</td>\n",
       "      <td>Medium-High</td>\n",
       "      <td>13.289237</td>\n",
       "      <td>3209</td>\n",
       "      <td>0.915579</td>\n",
       "      <td>0.627327</td>\n",
       "      <td>0.267061</td>\n",
       "    </tr>\n",
       "    <tr>\n",
       "      <th>4</th>\n",
       "      <td>C</td>\n",
       "      <td>Medium-Low</td>\n",
       "      <td>79.326248</td>\n",
       "      <td>12132</td>\n",
       "      <td>0.325752</td>\n",
       "      <td>0.241818</td>\n",
       "      <td>0.368035</td>\n",
       "    </tr>\n",
       "  </tbody>\n",
       "</table>\n",
       "</div>"
      ],
      "text/plain": [
       "  ticker   volatility  avg_price    len  smape_standard  smape_tuned  \\\n",
       "0    WPP       Medium  32.136355   9355        0.270578     0.075833   \n",
       "1   CVGW       Medium  31.071787   5681        0.162737     0.163886   \n",
       "2    DFH       Medium  22.145518   1023        0.305700     0.239105   \n",
       "3   RCEL  Medium-High  13.289237   3209        0.915579     0.627327   \n",
       "4      C   Medium-Low  79.326248  12132        0.325752     0.241818   \n",
       "\n",
       "   winsorized_pct  \n",
       "0        0.364725  \n",
       "1        0.363316  \n",
       "2        0.418377  \n",
       "3        0.267061  \n",
       "4        0.368035  "
      ]
     },
     "execution_count": 7,
     "metadata": {},
     "output_type": "execute_result"
    }
   ],
   "source": [
    "df.head()"
   ]
  },
  {
   "cell_type": "code",
   "execution_count": 8,
   "metadata": {},
   "outputs": [],
   "source": [
    "df['cust_delta'] = (df['smape_tuned'] - df['smape_standard']) / df['smape_standard']"
   ]
  },
  {
   "cell_type": "code",
   "execution_count": 9,
   "metadata": {},
   "outputs": [
    {
     "data": {
      "text/html": [
       "<div>\n",
       "<style scoped>\n",
       "    .dataframe tbody tr th:only-of-type {\n",
       "        vertical-align: middle;\n",
       "    }\n",
       "\n",
       "    .dataframe tbody tr th {\n",
       "        vertical-align: top;\n",
       "    }\n",
       "\n",
       "    .dataframe thead th {\n",
       "        text-align: right;\n",
       "    }\n",
       "</style>\n",
       "<table border=\"1\" class=\"dataframe\">\n",
       "  <thead>\n",
       "    <tr style=\"text-align: right;\">\n",
       "      <th></th>\n",
       "      <th>ticker</th>\n",
       "      <th>volatility</th>\n",
       "      <th>avg_price</th>\n",
       "      <th>len</th>\n",
       "      <th>smape_standard</th>\n",
       "      <th>smape_tuned</th>\n",
       "      <th>winsorized_pct</th>\n",
       "      <th>cust_delta</th>\n",
       "    </tr>\n",
       "  </thead>\n",
       "  <tbody>\n",
       "    <tr>\n",
       "      <th>0</th>\n",
       "      <td>WPP</td>\n",
       "      <td>Medium</td>\n",
       "      <td>32.136355</td>\n",
       "      <td>9355</td>\n",
       "      <td>0.270578</td>\n",
       "      <td>0.075833</td>\n",
       "      <td>0.364725</td>\n",
       "      <td>-0.719739</td>\n",
       "    </tr>\n",
       "    <tr>\n",
       "      <th>1</th>\n",
       "      <td>CVGW</td>\n",
       "      <td>Medium</td>\n",
       "      <td>31.071787</td>\n",
       "      <td>5681</td>\n",
       "      <td>0.162737</td>\n",
       "      <td>0.163886</td>\n",
       "      <td>0.363316</td>\n",
       "      <td>0.007056</td>\n",
       "    </tr>\n",
       "    <tr>\n",
       "      <th>2</th>\n",
       "      <td>DFH</td>\n",
       "      <td>Medium</td>\n",
       "      <td>22.145518</td>\n",
       "      <td>1023</td>\n",
       "      <td>0.305700</td>\n",
       "      <td>0.239105</td>\n",
       "      <td>0.418377</td>\n",
       "      <td>-0.217846</td>\n",
       "    </tr>\n",
       "    <tr>\n",
       "      <th>3</th>\n",
       "      <td>RCEL</td>\n",
       "      <td>Medium-High</td>\n",
       "      <td>13.289237</td>\n",
       "      <td>3209</td>\n",
       "      <td>0.915579</td>\n",
       "      <td>0.627327</td>\n",
       "      <td>0.267061</td>\n",
       "      <td>-0.314830</td>\n",
       "    </tr>\n",
       "    <tr>\n",
       "      <th>4</th>\n",
       "      <td>C</td>\n",
       "      <td>Medium-Low</td>\n",
       "      <td>79.326248</td>\n",
       "      <td>12132</td>\n",
       "      <td>0.325752</td>\n",
       "      <td>0.241818</td>\n",
       "      <td>0.368035</td>\n",
       "      <td>-0.257661</td>\n",
       "    </tr>\n",
       "  </tbody>\n",
       "</table>\n",
       "</div>"
      ],
      "text/plain": [
       "  ticker   volatility  avg_price    len  smape_standard  smape_tuned  \\\n",
       "0    WPP       Medium  32.136355   9355        0.270578     0.075833   \n",
       "1   CVGW       Medium  31.071787   5681        0.162737     0.163886   \n",
       "2    DFH       Medium  22.145518   1023        0.305700     0.239105   \n",
       "3   RCEL  Medium-High  13.289237   3209        0.915579     0.627327   \n",
       "4      C   Medium-Low  79.326248  12132        0.325752     0.241818   \n",
       "\n",
       "   winsorized_pct  cust_delta  \n",
       "0        0.364725   -0.719739  \n",
       "1        0.363316    0.007056  \n",
       "2        0.418377   -0.217846  \n",
       "3        0.267061   -0.314830  \n",
       "4        0.368035   -0.257661  "
      ]
     },
     "execution_count": 9,
     "metadata": {},
     "output_type": "execute_result"
    }
   ],
   "source": [
    "df.head()"
   ]
  },
  {
   "cell_type": "code",
   "execution_count": 10,
   "metadata": {},
   "outputs": [
    {
     "data": {
      "text/plain": [
       "150"
      ]
     },
     "execution_count": 10,
     "metadata": {},
     "output_type": "execute_result"
    }
   ],
   "source": [
    "len(df)"
   ]
  },
  {
   "cell_type": "code",
   "execution_count": 11,
   "metadata": {},
   "outputs": [],
   "source": [
    "vol_order = ['Low', 'Medium-Low', 'Medium', 'Medium-High', 'High']"
   ]
  },
  {
   "cell_type": "code",
   "execution_count": 12,
   "metadata": {},
   "outputs": [],
   "source": [
    "# Set volatility to ordered categorical\n",
    "\n",
    "df['volatility'] = pd.Categorical(df['volatility'], categories=vol_order, ordered=True) "
   ]
  },
  {
   "cell_type": "code",
   "execution_count": 13,
   "metadata": {},
   "outputs": [
    {
     "name": "stderr",
     "output_type": "stream",
     "text": [
      "C:\\Users\\Shane\\AppData\\Local\\Temp\\ipykernel_18992\\3457669039.py:3: FutureWarning: The default of observed=False is deprecated and will be changed to True in a future version of pandas. Pass observed=False to retain current behavior or observed=True to adopt the future default and silence this warning.\n",
      "  df_mean = df.groupby('volatility').agg({\n"
     ]
    },
    {
     "data": {
      "text/html": [
       "<div>\n",
       "<style scoped>\n",
       "    .dataframe tbody tr th:only-of-type {\n",
       "        vertical-align: middle;\n",
       "    }\n",
       "\n",
       "    .dataframe tbody tr th {\n",
       "        vertical-align: top;\n",
       "    }\n",
       "\n",
       "    .dataframe thead th {\n",
       "        text-align: right;\n",
       "    }\n",
       "</style>\n",
       "<table border=\"1\" class=\"dataframe\">\n",
       "  <thead>\n",
       "    <tr style=\"text-align: right;\">\n",
       "      <th></th>\n",
       "      <th>volatility</th>\n",
       "      <th>avg_price</th>\n",
       "      <th>len</th>\n",
       "      <th>winsorized_pct</th>\n",
       "      <th>cust_delta</th>\n",
       "      <th>smape_standard</th>\n",
       "      <th>smape_tuned</th>\n",
       "    </tr>\n",
       "  </thead>\n",
       "  <tbody>\n",
       "    <tr>\n",
       "      <th>0</th>\n",
       "      <td>Low</td>\n",
       "      <td>36.112029</td>\n",
       "      <td>2896.100000</td>\n",
       "      <td>0.583867</td>\n",
       "      <td>-0.205721</td>\n",
       "      <td>0.068413</td>\n",
       "      <td>0.046811</td>\n",
       "    </tr>\n",
       "    <tr>\n",
       "      <th>1</th>\n",
       "      <td>Medium-Low</td>\n",
       "      <td>49.660711</td>\n",
       "      <td>6749.266667</td>\n",
       "      <td>0.377670</td>\n",
       "      <td>-0.225780</td>\n",
       "      <td>0.206292</td>\n",
       "      <td>0.130326</td>\n",
       "    </tr>\n",
       "    <tr>\n",
       "      <th>2</th>\n",
       "      <td>Medium</td>\n",
       "      <td>35.216324</td>\n",
       "      <td>4806.933333</td>\n",
       "      <td>0.376058</td>\n",
       "      <td>-0.247087</td>\n",
       "      <td>0.368252</td>\n",
       "      <td>0.214527</td>\n",
       "    </tr>\n",
       "    <tr>\n",
       "      <th>3</th>\n",
       "      <td>Medium-High</td>\n",
       "      <td>43794.336031</td>\n",
       "      <td>3374.900000</td>\n",
       "      <td>0.296519</td>\n",
       "      <td>-0.209040</td>\n",
       "      <td>0.552055</td>\n",
       "      <td>0.430741</td>\n",
       "    </tr>\n",
       "    <tr>\n",
       "      <th>4</th>\n",
       "      <td>High</td>\n",
       "      <td>229253.679447</td>\n",
       "      <td>2850.266667</td>\n",
       "      <td>0.278237</td>\n",
       "      <td>-0.205417</td>\n",
       "      <td>1.320087</td>\n",
       "      <td>1.063812</td>\n",
       "    </tr>\n",
       "  </tbody>\n",
       "</table>\n",
       "</div>"
      ],
      "text/plain": [
       "    volatility      avg_price          len  winsorized_pct  cust_delta  \\\n",
       "0          Low      36.112029  2896.100000        0.583867   -0.205721   \n",
       "1   Medium-Low      49.660711  6749.266667        0.377670   -0.225780   \n",
       "2       Medium      35.216324  4806.933333        0.376058   -0.247087   \n",
       "3  Medium-High   43794.336031  3374.900000        0.296519   -0.209040   \n",
       "4         High  229253.679447  2850.266667        0.278237   -0.205417   \n",
       "\n",
       "   smape_standard  smape_tuned  \n",
       "0        0.068413     0.046811  \n",
       "1        0.206292     0.130326  \n",
       "2        0.368252     0.214527  \n",
       "3        0.552055     0.430741  \n",
       "4        1.320087     1.063812  "
      ]
     },
     "execution_count": 13,
     "metadata": {},
     "output_type": "execute_result"
    }
   ],
   "source": [
    "# Get average price, length, and winsorized percentage for each volatility level\n",
    "\n",
    "df_mean = df.groupby('volatility').agg({\n",
    "    'avg_price': 'mean', \n",
    "    'len': 'mean', \n",
    "    'winsorized_pct': 'mean',\n",
    "    'cust_delta': 'mean', \n",
    "    'smape_standard': 'mean',\n",
    "    'smape_tuned': 'mean'\n",
    "}).sort_index().reset_index()\n",
    "df_mean"
   ]
  },
  {
   "cell_type": "code",
   "execution_count": 14,
   "metadata": {},
   "outputs": [
    {
     "name": "stderr",
     "output_type": "stream",
     "text": [
      "C:\\Users\\Shane\\AppData\\Local\\Temp\\ipykernel_18992\\1532854326.py:3: FutureWarning: The default of observed=False is deprecated and will be changed to True in a future version of pandas. Pass observed=False to retain current behavior or observed=True to adopt the future default and silence this warning.\n",
      "  df.groupby('volatility').agg({'cust_delta': 'std'}).sort_values('cust_delta', ascending=False).sort_index().reset_index()\n"
     ]
    },
    {
     "data": {
      "text/html": [
       "<div>\n",
       "<style scoped>\n",
       "    .dataframe tbody tr th:only-of-type {\n",
       "        vertical-align: middle;\n",
       "    }\n",
       "\n",
       "    .dataframe tbody tr th {\n",
       "        vertical-align: top;\n",
       "    }\n",
       "\n",
       "    .dataframe thead th {\n",
       "        text-align: right;\n",
       "    }\n",
       "</style>\n",
       "<table border=\"1\" class=\"dataframe\">\n",
       "  <thead>\n",
       "    <tr style=\"text-align: right;\">\n",
       "      <th></th>\n",
       "      <th>volatility</th>\n",
       "      <th>cust_delta</th>\n",
       "    </tr>\n",
       "  </thead>\n",
       "  <tbody>\n",
       "    <tr>\n",
       "      <th>0</th>\n",
       "      <td>Low</td>\n",
       "      <td>0.241052</td>\n",
       "    </tr>\n",
       "    <tr>\n",
       "      <th>1</th>\n",
       "      <td>Medium-Low</td>\n",
       "      <td>0.209395</td>\n",
       "    </tr>\n",
       "    <tr>\n",
       "      <th>2</th>\n",
       "      <td>Medium</td>\n",
       "      <td>0.283037</td>\n",
       "    </tr>\n",
       "    <tr>\n",
       "      <th>3</th>\n",
       "      <td>Medium-High</td>\n",
       "      <td>0.260027</td>\n",
       "    </tr>\n",
       "    <tr>\n",
       "      <th>4</th>\n",
       "      <td>High</td>\n",
       "      <td>0.217831</td>\n",
       "    </tr>\n",
       "  </tbody>\n",
       "</table>\n",
       "</div>"
      ],
      "text/plain": [
       "    volatility  cust_delta\n",
       "0          Low    0.241052\n",
       "1   Medium-Low    0.209395\n",
       "2       Medium    0.283037\n",
       "3  Medium-High    0.260027\n",
       "4         High    0.217831"
      ]
     },
     "execution_count": 14,
     "metadata": {},
     "output_type": "execute_result"
    }
   ],
   "source": [
    "# Which category had a wider range of pct_change values?\n",
    "\n",
    "df.groupby('volatility').agg({'cust_delta': 'std'}).sort_values('cust_delta', ascending=False).sort_index().reset_index()"
   ]
  },
  {
   "cell_type": "code",
   "execution_count": 15,
   "metadata": {},
   "outputs": [
    {
     "data": {
      "image/png": "[encoded data removed]",
      "text/plain": [
       "<Figure size 640x480 with 1 Axes>"
      ]
     },
     "metadata": {},
     "output_type": "display_data"
    }
   ],
   "source": [
    "import seaborn as sns\n",
    "import matplotlib.pyplot as plt\n",
    "\n",
    "# Define the desired order of volatility categories\n",
    "volatility_order = ['High', 'Medium-High', 'Medium', 'Medium-Low', 'Low']\n",
    "\n",
    "# Create the boxplot, specifying the order\n",
    "sns.boxplot(x='volatility', y='cust_delta', data=df, order=volatility_order)\n",
    "plt.title('Distribution of Custom Delta Percentage by Volatility Category')\n",
    "plt.xlabel('Volatility Category')\n",
    "plt.ylabel('Custom Delta Percentage')\n",
    "plt.show()"
   ]
  },
  {
   "cell_type": "code",
   "execution_count": 16,
   "metadata": {},
   "outputs": [
    {
     "data": {
      "text/plain": [
       "np.float64(-0.21860883093341352)"
      ]
     },
     "execution_count": 16,
     "metadata": {},
     "output_type": "execute_result"
    }
   ],
   "source": [
    "# pct change between models across all samples was...\n",
    "\n",
    "df['cust_delta'].mean()"
   ]
  },
  {
   "cell_type": "code",
   "execution_count": 17,
   "metadata": {},
   "outputs": [
    {
     "data": {
      "text/html": [
       "<div>\n",
       "<style scoped>\n",
       "    .dataframe tbody tr th:only-of-type {\n",
       "        vertical-align: middle;\n",
       "    }\n",
       "\n",
       "    .dataframe tbody tr th {\n",
       "        vertical-align: top;\n",
       "    }\n",
       "\n",
       "    .dataframe thead th {\n",
       "        text-align: right;\n",
       "    }\n",
       "</style>\n",
       "<table border=\"1\" class=\"dataframe\">\n",
       "  <thead>\n",
       "    <tr style=\"text-align: right;\">\n",
       "      <th></th>\n",
       "      <th>ticker</th>\n",
       "      <th>volatility</th>\n",
       "      <th>avg_price</th>\n",
       "      <th>len</th>\n",
       "      <th>smape_standard</th>\n",
       "      <th>smape_tuned</th>\n",
       "      <th>winsorized_pct</th>\n",
       "      <th>cust_delta</th>\n",
       "    </tr>\n",
       "  </thead>\n",
       "  <tbody>\n",
       "    <tr>\n",
       "      <th>50</th>\n",
       "      <td>INMD</td>\n",
       "      <td>Medium-High</td>\n",
       "      <td>30.003641</td>\n",
       "      <td>1389</td>\n",
       "      <td>0.793135</td>\n",
       "      <td>0.163510</td>\n",
       "      <td>0.327574</td>\n",
       "      <td>-0.793843</td>\n",
       "    </tr>\n",
       "    <tr>\n",
       "      <th>143</th>\n",
       "      <td>JHMM</td>\n",
       "      <td>Low</td>\n",
       "      <td>39.257054</td>\n",
       "      <td>2360</td>\n",
       "      <td>0.257870</td>\n",
       "      <td>0.057397</td>\n",
       "      <td>0.550847</td>\n",
       "      <td>-0.777418</td>\n",
       "    </tr>\n",
       "    <tr>\n",
       "      <th>22</th>\n",
       "      <td>VNT</td>\n",
       "      <td>Medium-Low</td>\n",
       "      <td>30.851675</td>\n",
       "      <td>1104</td>\n",
       "      <td>0.254943</td>\n",
       "      <td>0.056781</td>\n",
       "      <td>0.398551</td>\n",
       "      <td>-0.777281</td>\n",
       "    </tr>\n",
       "    <tr>\n",
       "      <th>66</th>\n",
       "      <td>BURL</td>\n",
       "      <td>Medium</td>\n",
       "      <td>149.622933</td>\n",
       "      <td>2861</td>\n",
       "      <td>1.218546</td>\n",
       "      <td>0.325509</td>\n",
       "      <td>0.399511</td>\n",
       "      <td>-0.732871</td>\n",
       "    </tr>\n",
       "    <tr>\n",
       "      <th>0</th>\n",
       "      <td>WPP</td>\n",
       "      <td>Medium</td>\n",
       "      <td>32.136355</td>\n",
       "      <td>9355</td>\n",
       "      <td>0.270578</td>\n",
       "      <td>0.075833</td>\n",
       "      <td>0.364725</td>\n",
       "      <td>-0.719739</td>\n",
       "    </tr>\n",
       "  </tbody>\n",
       "</table>\n",
       "</div>"
      ],
      "text/plain": [
       "    ticker   volatility   avg_price   len  smape_standard  smape_tuned  \\\n",
       "50    INMD  Medium-High   30.003641  1389        0.793135     0.163510   \n",
       "143   JHMM          Low   39.257054  2360        0.257870     0.057397   \n",
       "22     VNT   Medium-Low   30.851675  1104        0.254943     0.056781   \n",
       "66    BURL       Medium  149.622933  2861        1.218546     0.325509   \n",
       "0      WPP       Medium   32.136355  9355        0.270578     0.075833   \n",
       "\n",
       "     winsorized_pct  cust_delta  \n",
       "50         0.327574   -0.793843  \n",
       "143        0.550847   -0.777418  \n",
       "22         0.398551   -0.777281  \n",
       "66         0.399511   -0.732871  \n",
       "0          0.364725   -0.719739  "
      ]
     },
     "execution_count": 17,
     "metadata": {},
     "output_type": "execute_result"
    }
   ],
   "source": [
    "df.sort_values(by='cust_delta').head()"
   ]
  },
  {
   "cell_type": "code",
   "execution_count": 18,
   "metadata": {},
   "outputs": [
    {
     "data": {
      "image/png": "[encoded data removed]",
      "text/plain": [
       "<Figure size 640x480 with 1 Axes>"
      ]
     },
     "metadata": {},
     "output_type": "display_data"
    }
   ],
   "source": [
    "# line graph for volatility w winosrized_pct for df_mean\n",
    "\n",
    "plt.plot(df_mean['volatility'], df_mean['winsorized_pct'])\n",
    "plt.title('Mean Winsorized Percentage by Volatility Category')\n",
    "plt.xlabel('Volatility Category')\n",
    "plt.ylabel('Mean Winsorized Percentage')\n",
    "plt.show()"
   ]
  },
  {
   "cell_type": "code",
   "execution_count": 19,
   "metadata": {},
   "outputs": [
    {
     "data": {
      "image/png": "[encoded data removed]",
      "text/plain": [
       "<Figure size 640x480 with 1 Axes>"
      ]
     },
     "metadata": {},
     "output_type": "display_data"
    }
   ],
   "source": [
    "# line graph for volatility w smape_standard & smape_tuned\n",
    "\n",
    "plt.plot(df_mean['volatility'], df_mean['smape_standard'], label='Standard Model')\n",
    "plt.plot(df_mean['volatility'], df_mean['smape_tuned'], label='Tuned Model')\n",
    "plt.title('Mean smape by Volatility Category')\n",
    "plt.xlabel('Volatility Category')\n",
    "plt.ylabel('Mean smape')\n",
    "plt.legend()\n",
    "plt.show()"
   ]
  }
 ],
 "metadata": {
  "kernelspec": {
   "display_name": "Python 3",
   "language": "python",
   "name": "python3"
  },
  "language_info": {
   "codemirror_mode": {
    "name": "ipython",
    "version": 3
   },
   "file_extension": ".py",
   "mimetype": "text/x-python",
   "name": "python",
   "nbconvert_exporter": "python",
   "pygments_lexer": "ipython3",
   "version": "3.13.1"
  }
 },
 "nbformat": 4,
 "nbformat_minor": 2
}
