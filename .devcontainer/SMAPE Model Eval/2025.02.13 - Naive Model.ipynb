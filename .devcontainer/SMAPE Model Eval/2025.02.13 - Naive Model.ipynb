{
 "cells": [
  {
   "cell_type": "markdown",
   "metadata": {},
   "source": [
    "python 3.13.1"
   ]
  },
  {
   "cell_type": "markdown",
   "metadata": {},
   "source": [
    "Get Naive model on the same tickers used for my sample"
   ]
  },
  {
   "cell_type": "code",
   "execution_count": 1,
   "metadata": {},
   "outputs": [
    {
     "name": "stderr",
     "output_type": "stream",
     "text": [
      "c:\\Users\\Shane\\AppData\\Local\\Programs\\Python\\Python313\\Lib\\site-packages\\tqdm\\auto.py:21: TqdmWarning: IProgress not found. Please update jupyter and ipywidgets. See https://ipywidgets.readthedocs.io/en/stable/user_install.html\n",
      "  from .autonotebook import tqdm as notebook_tqdm\n"
     ]
    }
   ],
   "source": [
    "import requests\n",
    "import yfinance as yf\n",
    "import pandas as pd\n",
    "import random\n",
    "import numpy as np\n",
    "from prophet import Prophet\n",
    "from prophet.diagnostics import cross_validation, performance_metrics\n",
    "from sklearn.metrics import mean_squared_error"
   ]
  },
  {
   "cell_type": "code",
   "execution_count": null,
   "metadata": {},
   "outputs": [],
   "source": [
    "smapes_df_path = r\"C:\\Users\\Shane\\Desktop\\2024.06.27_-_Data_Science\\2024.10.13 - Portfolio Projects\\2024.12.04 - Swing Ticker\\SMAPE Model Eval\\all_models_smape.csv\""
   ]
  },
  {
   "cell_type": "code",
   "execution_count": 3,
   "metadata": {},
   "outputs": [
    {
     "data": {
      "text/html": [
       "<div>\n",
       "<style scoped>\n",
       "    .dataframe tbody tr th:only-of-type {\n",
       "        vertical-align: middle;\n",
       "    }\n",
       "\n",
       "    .dataframe tbody tr th {\n",
       "        vertical-align: top;\n",
       "    }\n",
       "\n",
       "    .dataframe thead th {\n",
       "        text-align: right;\n",
       "    }\n",
       "</style>\n",
       "<table border=\"1\" class=\"dataframe\">\n",
       "  <thead>\n",
       "    <tr style=\"text-align: right;\">\n",
       "      <th></th>\n",
       "      <th>ticker</th>\n",
       "      <th>volatility</th>\n",
       "      <th>avg_price</th>\n",
       "      <th>len</th>\n",
       "      <th>smape_standard</th>\n",
       "      <th>smape_tuned</th>\n",
       "      <th>winsorized_pct</th>\n",
       "    </tr>\n",
       "  </thead>\n",
       "  <tbody>\n",
       "    <tr>\n",
       "      <th>0</th>\n",
       "      <td>WPP</td>\n",
       "      <td>Medium</td>\n",
       "      <td>32.136355</td>\n",
       "      <td>9355</td>\n",
       "      <td>0.270578</td>\n",
       "      <td>0.075833</td>\n",
       "      <td>0.364725</td>\n",
       "    </tr>\n",
       "    <tr>\n",
       "      <th>1</th>\n",
       "      <td>CVGW</td>\n",
       "      <td>Medium</td>\n",
       "      <td>31.071787</td>\n",
       "      <td>5681</td>\n",
       "      <td>0.162737</td>\n",
       "      <td>0.163886</td>\n",
       "      <td>0.363316</td>\n",
       "    </tr>\n",
       "    <tr>\n",
       "      <th>2</th>\n",
       "      <td>DFH</td>\n",
       "      <td>Medium</td>\n",
       "      <td>22.145518</td>\n",
       "      <td>1023</td>\n",
       "      <td>0.305700</td>\n",
       "      <td>0.239105</td>\n",
       "      <td>0.418377</td>\n",
       "    </tr>\n",
       "    <tr>\n",
       "      <th>3</th>\n",
       "      <td>RCEL</td>\n",
       "      <td>Medium-High</td>\n",
       "      <td>13.289237</td>\n",
       "      <td>3209</td>\n",
       "      <td>0.915579</td>\n",
       "      <td>0.627327</td>\n",
       "      <td>0.267061</td>\n",
       "    </tr>\n",
       "    <tr>\n",
       "      <th>4</th>\n",
       "      <td>C</td>\n",
       "      <td>Medium-Low</td>\n",
       "      <td>79.326248</td>\n",
       "      <td>12132</td>\n",
       "      <td>0.325752</td>\n",
       "      <td>0.241818</td>\n",
       "      <td>0.368035</td>\n",
       "    </tr>\n",
       "  </tbody>\n",
       "</table>\n",
       "</div>"
      ],
      "text/plain": [
       "  ticker   volatility  avg_price    len  smape_standard  smape_tuned  \\\n",
       "0    WPP       Medium  32.136355   9355        0.270578     0.075833   \n",
       "1   CVGW       Medium  31.071787   5681        0.162737     0.163886   \n",
       "2    DFH       Medium  22.145518   1023        0.305700     0.239105   \n",
       "3   RCEL  Medium-High  13.289237   3209        0.915579     0.627327   \n",
       "4      C   Medium-Low  79.326248  12132        0.325752     0.241818   \n",
       "\n",
       "   winsorized_pct  \n",
       "0        0.364725  \n",
       "1        0.363316  \n",
       "2        0.418377  \n",
       "3        0.267061  \n",
       "4        0.368035  "
      ]
     },
     "execution_count": 3,
     "metadata": {},
     "output_type": "execute_result"
    }
   ],
   "source": [
    "smapes_df = pd.read_csv(smapes_df_path)\n",
    "smapes_df.head()"
   ]
  },
  {
   "cell_type": "code",
   "execution_count": 4,
   "metadata": {},
   "outputs": [
    {
     "data": {
      "text/plain": [
       "['WPP', 'CVGW', 'DFH', 'RCEL', 'C']"
      ]
     },
     "execution_count": 4,
     "metadata": {},
     "output_type": "execute_result"
    }
   ],
   "source": [
    "tickers = smapes_df['ticker'].tolist()\n",
    "tickers[:5]"
   ]
  },
  {
   "cell_type": "code",
   "execution_count": 5,
   "metadata": {},
   "outputs": [],
   "source": [
    "def load_data(ticker):\n",
    "    \"\"\"\n",
    "    Downloads historical market data for a given ticker symbol.\n",
    "\n",
    "    Parameters:\n",
    "    ticker (str): The ticker symbol of the stock to download data for.\n",
    "\n",
    "    Returns:\n",
    "    pd.DataFrame: A DataFrame containing the historical market data for the specified ticker.\n",
    "    \"\"\"\n",
    "    data = yf.download(ticker, period='max') # returns relevant data in df\n",
    "    data.reset_index(inplace=True) # reset multindex, output is index list of tuples\n",
    "    cols = list(data.columns) # convert index to list\n",
    "    cols[0] = ('Date', '') \n",
    "    cols = [i[0] for i in cols] # return first element of cols tuples\n",
    "    data.columns = cols # set as column names\n",
    "    data['Date'] = pd.to_datetime(data['Date']).dt.date\n",
    "    data.Date = data.Date.astype('datetime64[ns]')\n",
    "    return data"
   ]
  },
  {
   "cell_type": "code",
   "execution_count": null,
   "metadata": {},
   "outputs": [],
   "source": [
    "def get_volatility(data):\n",
    "    \"\"\"\n",
    "    Calculate the volatility of daily returns and categorize it into levels.\n",
    "\n",
    "    This function computes the annualized volatility of daily returns from the input data.\n",
    "    It then categorizes the volatility into one of five levels: \"Low\", \"Medium-Low\", \"Medium\", \n",
    "    \"Medium-High\", or \"High\" based on predefined thresholds.\n",
    "\n",
    "    Parameters:\n",
    "    data (DataFrame): A pandas DataFrame containing a 'daily_returns' column with daily return values.\n",
    "\n",
    "    Returns:\n",
    "    tuple: A tuple containing the volatility category (str) and the calculated volatility (float).\n",
    "    \"\"\"\n",
    "    volatility = data.daily_returns.std() * np.sqrt(252)\n",
    "    if volatility < 0.2:\n",
    "        category = \"Low\"\n",
    "        percentiles=(0.15, 0.85)\n",
    "    elif volatility < 0.4:\n",
    "        category = \"Medium-Low\"\n",
    "        percentiles=(0.1, 0.9)\n",
    "    elif volatility < 0.6:\n",
    "        category = \"Medium\"\n",
    "        percentiles=(0.1, 0.9)\n",
    "    elif volatility < 0.8:\n",
    "        category = \"Medium-High\"\n",
    "        percentiles=(0.05, 0.95)\n",
    "    else:\n",
    "        category = \"High\"\n",
    "        percentiles=(0.05, 0.95)\n",
    "    return category, volatility, percentiles"
   ]
  },
  {
   "cell_type": "code",
   "execution_count": null,
   "metadata": {},
   "outputs": [],
   "source": [
    "def get_period_params(data, volatility):\n",
    "    \"\"\"\n",
    "    Determine the training, period unit, and forecast periods based on data length and volatility.\n",
    "\n",
    "    This function calculates the appropriate training period, period unit, and forecast period \n",
    "    based on the length of the input data and the given volatility. If the data length is less \n",
    "    than 8 years, the period unit and forecast period are set to a quarter of the data length. \n",
    "    Otherwise, the period unit is set to 1 year, and the forecast period is set to 1 year. \n",
    "    The training period is adjusted based on the volatility.\n",
    "\n",
    "    Parameters:\n",
    "    data (DataFrame): A pandas DataFrame containing the data.\n",
    "    volatility (float): The calculated annualized volatility.\n",
    "\n",
    "    Returns:\n",
    "    tuple: A tuple containing:\n",
    "        - train_period (int): The length of the training period.\n",
    "        - period_unit (int): The length of the period unit.\n",
    "        - forecast_period (int): The length of the forecast period.\n",
    "    \"\"\"\n",
    "    if len(data)/365 < 8:\n",
    "        period_unit = int(len(data)/4)\n",
    "        forecast_period = period_unit\n",
    "        train_period = len(data)\n",
    "    else:\n",
    "        period_unit = 365\n",
    "        forecast_period = period_unit\n",
    "        train_period = forecast_period * 4 if volatility < 0.6 else forecast_period * 8\n",
    "    return train_period, period_unit, forecast_period"
   ]
  },
  {
   "cell_type": "code",
   "execution_count": null,
   "metadata": {},
   "outputs": [],
   "source": [
    "# Lambda function for performing cross-validation with specified parameters\n",
    "\n",
    "\n",
    "cv_func = lambda model_name, train_period, period_unit, forecast_period: cross_validation(model_name, \n",
    "                                              initial=f'{train_period} days', \n",
    "                                              period=f'{period_unit} days', \n",
    "                                              horizon=f'{forecast_period} days', \n",
    "                                              parallel=\"processes\")"
   ]
  },
  {
   "cell_type": "code",
   "execution_count": 10,
   "metadata": {},
   "outputs": [],
   "source": [
    "def naive_forecast(history):\n",
    "    \"\"\"\n",
    "    Performs a naive forecast using the last value in the history.\n",
    "\n",
    "    Parameters:\n",
    "    history (pd.Series): Time series data to use as history.\n",
    "\n",
    "    Returns:\n",
    "    float: The naive forecast (last value of history).\n",
    "    \"\"\"\n",
    "    return history.iloc[-1]"
   ]
  },
  {
   "cell_type": "code",
   "execution_count": 11,
   "metadata": {},
   "outputs": [],
   "source": [
    "def naive_cross_validation(data, initial, period, horizon):\n",
    "    \"\"\"\n",
    "    Performs cross-validation for a naive forecasting model.\n",
    "\n",
    "    Parameters:\n",
    "    data (pd.DataFrame): Time series data with 'Date' and 'Close' columns.\n",
    "    initial (int): Initial training period length in days.\n",
    "    period (int): Period between cutoffs in days.\n",
    "    horizon (int): Forecast horizon in days.\n",
    "\n",
    "    Returns:\n",
    "    pd.DataFrame: DataFrame containing actual values, forecasts, and cutoffs.\n",
    "    \"\"\"\n",
    "    initial_date = data['Date'].iloc[0]\n",
    "    cutoffs = pd.to_datetime([initial_date + pd.Timedelta(days=initial + i * period)\n",
    "                               for i in range(1 + (len(data) - initial - horizon) // period)])\n",
    "\n",
    "    periods_list = []\n",
    "    for cutoff in cutoffs:\n",
    "        train_df = data[data['Date'] <= cutoff].copy()\n",
    "        test_df = data[(data['Date'] > cutoff) & (data['Date'] <= cutoff + pd.Timedelta(days=horizon))].copy()\n",
    "\n",
    "        # if len(test_df) == 0: # Skip if no data in the horizon\n",
    "        #     continue\n",
    "\n",
    "        history = train_df['Close']\n",
    "        forecasts = [naive_forecast(history)] * len(test_df) # Naive forecast for all points in horizon\n",
    "\n",
    "        test_df['forecast'] = forecasts\n",
    "        test_df['cutoff'] = cutoff.date() # Store cutoff date\n",
    "\n",
    "        periods_list.append(test_df)\n",
    "\n",
    "    df_cv = pd.concat(periods_list).reset_index(drop=True)\n",
    "    return df_cv"
   ]
  },
  {
   "cell_type": "code",
   "execution_count": 12,
   "metadata": {},
   "outputs": [],
   "source": [
    "def calculate_smape(cv_results):\n",
    "    \"\"\"\n",
    "    Calculates smape from cross-validation results DataFrame.\n",
    "\n",
    "    Parameters:\n",
    "    cv_results (pd.DataFrame): DataFrame from naive_cross_validation.\n",
    "\n",
    "    Returns:\n",
    "    float: smape value.\n",
    "    \"\"\"\n",
    "    if cv_results.empty:\n",
    "        return np.nan  # Return NaN if no cross-validation results\n",
    "\n",
    "    return np.sqrt(mean_squared_error(cv_results['Close'], cv_results['forecast']))"
   ]
  },
  {
   "cell_type": "code",
   "execution_count": 13,
   "metadata": {},
   "outputs": [],
   "source": [
    "def get_naive_smape_for_tickers(tickers):\n",
    "    \"\"\"\n",
    "    Calculates naive model smape for a list of stock tickers.\n",
    "\n",
    "    Parameters:\n",
    "    tickers (list): List of stock ticker symbols.\n",
    "\n",
    "    Returns:\n",
    "    pd.DataFrame: DataFrame with ticker symbols and their naive model smapes.\n",
    "    \"\"\"\n",
    "    naive_smape_results = []\n",
    "    for ticker in tickers:\n",
    "        data = load_data(ticker)\n",
    "        data['daily_returns'] = data.Close.pct_change()\n",
    "        category, volatility, percentiles = get_volatility(data)\n",
    "        train_period, period_unit, forecast_period = get_period_params(data, volatility)\n",
    "\n",
    "        initial_days = train_period\n",
    "        period_days = period_unit\n",
    "        horizon_days = forecast_period\n",
    "\n",
    "        cv_results_naive = naive_cross_validation(\n",
    "            data[['Date', 'Close']], # Ensure only Date and Close are passed\n",
    "            initial=period_days,\n",
    "            period=period_days,\n",
    "            horizon=horizon_days\n",
    "        )\n",
    "        smape_naive = calculate_smape(cv_results_naive)\n",
    "        naive_smape_results.append({'ticker': ticker, 'naive_smape': smape_naive})\n",
    "        print(f\"Naive smape for {ticker}: {smape_naive:.4f}\")\n",
    "\n",
    "    return pd.DataFrame(naive_smape_results)"
   ]
  },
  {
   "cell_type": "code",
   "execution_count": 14,
   "metadata": {},
   "outputs": [
    {
     "name": "stderr",
     "output_type": "stream",
     "text": [
      "[*********************100%***********************]  1 of 1 completed\n",
      "[*********************100%***********************]  1 of 1 completed\n"
     ]
    },
    {
     "name": "stdout",
     "output_type": "stream",
     "text": [
      "Naive smape for WPP: 4.8835\n",
      "Naive smape for CVGW: 4.1601\n"
     ]
    },
    {
     "name": "stderr",
     "output_type": "stream",
     "text": [
      "[*********************100%***********************]  1 of 1 completed\n",
      "[*********************100%***********************]  1 of 1 completed\n"
     ]
    },
    {
     "name": "stdout",
     "output_type": "stream",
     "text": [
      "Naive smape for DFH: 5.9980\n",
      "Naive smape for RCEL: 5.6555\n"
     ]
    },
    {
     "name": "stderr",
     "output_type": "stream",
     "text": [
      "[*********************100%***********************]  1 of 1 completed\n"
     ]
    },
    {
     "name": "stdout",
     "output_type": "stream",
     "text": [
      "Naive smape for C: 29.4759\n"
     ]
    },
    {
     "name": "stderr",
     "output_type": "stream",
     "text": [
      "[*********************100%***********************]  1 of 1 completed\n"
     ]
    },
    {
     "name": "stdout",
     "output_type": "stream",
     "text": [
      "Naive smape for YY: 16.6857\n"
     ]
    },
    {
     "name": "stderr",
     "output_type": "stream",
     "text": [
      "[*********************100%***********************]  1 of 1 completed\n",
      "[*********************100%***********************]  1 of 1 completed\n"
     ]
    },
    {
     "name": "stdout",
     "output_type": "stream",
     "text": [
      "Naive smape for MTB: 5.3840\n",
      "Naive smape for VERA: 7.9357\n"
     ]
    },
    {
     "name": "stderr",
     "output_type": "stream",
     "text": [
      "[*********************100%***********************]  1 of 1 completed\n"
     ]
    },
    {
     "name": "stdout",
     "output_type": "stream",
     "text": [
      "Naive smape for ASIX: 11.9920\n"
     ]
    },
    {
     "name": "stderr",
     "output_type": "stream",
     "text": [
      "[*********************100%***********************]  1 of 1 completed\n",
      "[*********************100%***********************]  1 of 1 completed"
     ]
    },
    {
     "name": "stdout",
     "output_type": "stream",
     "text": [
      "Naive smape for MUX: 11.0772\n",
      "Naive smape for ICE: 5.5996\n"
     ]
    },
    {
     "name": "stderr",
     "output_type": "stream",
     "text": [
      "\n",
      "[*********************100%***********************]  1 of 1 completed\n",
      "[*********************100%***********************]  1 of 1 completed\n"
     ]
    },
    {
     "name": "stdout",
     "output_type": "stream",
     "text": [
      "Naive smape for CGEMY: 2.3778\n",
      "Naive smape for MARA: 29.2757\n"
     ]
    },
    {
     "name": "stderr",
     "output_type": "stream",
     "text": [
      "[*********************100%***********************]  1 of 1 completed\n",
      "[*********************100%***********************]  1 of 1 completed\n"
     ]
    },
    {
     "name": "stdout",
     "output_type": "stream",
     "text": [
      "Naive smape for KT: 3.3897\n",
      "Naive smape for REET: 2.7478\n"
     ]
    },
    {
     "name": "stderr",
     "output_type": "stream",
     "text": [
      "[*********************100%***********************]  1 of 1 completed\n"
     ]
    },
    {
     "name": "stdout",
     "output_type": "stream",
     "text": [
      "Naive smape for DOMO: 32.1689\n"
     ]
    },
    {
     "name": "stderr",
     "output_type": "stream",
     "text": [
      "[*********************100%***********************]  1 of 1 completed\n",
      "[*********************100%***********************]  1 of 1 completed"
     ]
    },
    {
     "name": "stdout",
     "output_type": "stream",
     "text": [
      "Naive smape for TRP: 1.2379\n",
      "Naive smape for PLCE: 10.3967\n"
     ]
    },
    {
     "name": "stderr",
     "output_type": "stream",
     "text": [
      "\n",
      "[*********************100%***********************]  1 of 1 completed\n",
      "[*********************100%***********************]  1 of 1 completed\n"
     ]
    },
    {
     "name": "stdout",
     "output_type": "stream",
     "text": [
      "Naive smape for STBX: 17.9835\n",
      "Naive smape for ZVRA: 39.6266\n"
     ]
    },
    {
     "name": "stderr",
     "output_type": "stream",
     "text": [
      "[*********************100%***********************]  1 of 1 completed\n",
      "[*********************100%***********************]  1 of 1 completed"
     ]
    },
    {
     "name": "stdout",
     "output_type": "stream",
     "text": [
      "Naive smape for GLP: 2.3090\n",
      "Naive smape for AROC: 6.0887\n"
     ]
    },
    {
     "name": "stderr",
     "output_type": "stream",
     "text": [
      "\n",
      "[*********************100%***********************]  1 of 1 completed\n",
      "[*********************100%***********************]  1 of 1 completed\n",
      "[*********************100%***********************]  1 of 1 completed\n"
     ]
    },
    {
     "name": "stdout",
     "output_type": "stream",
     "text": [
      "Naive smape for VNT: 6.3175\n",
      "Naive smape for VINC: 138.4550\n",
      "Naive smape for HCAT: 15.8310\n"
     ]
    },
    {
     "name": "stderr",
     "output_type": "stream",
     "text": [
      "[*********************100%***********************]  1 of 1 completed\n"
     ]
    },
    {
     "name": "stdout",
     "output_type": "stream",
     "text": [
      "Naive smape for FBMS: 3.0035\n"
     ]
    },
    {
     "name": "stderr",
     "output_type": "stream",
     "text": [
      "[*********************100%***********************]  1 of 1 completed\n",
      "[*********************100%***********************]  1 of 1 completed\n"
     ]
    },
    {
     "name": "stdout",
     "output_type": "stream",
     "text": [
      "Naive smape for SEIC: 2.6653\n",
      "Naive smape for FTV: 7.4354\n"
     ]
    },
    {
     "name": "stderr",
     "output_type": "stream",
     "text": [
      "[*********************100%***********************]  1 of 1 completed\n"
     ]
    },
    {
     "name": "stdout",
     "output_type": "stream",
     "text": [
      "Naive smape for CBRE: 7.9229\n"
     ]
    },
    {
     "name": "stderr",
     "output_type": "stream",
     "text": [
      "[*********************100%***********************]  1 of 1 completed\n"
     ]
    },
    {
     "name": "stdout",
     "output_type": "stream",
     "text": [
      "Naive smape for SCHL: 4.7995\n"
     ]
    },
    {
     "name": "stderr",
     "output_type": "stream",
     "text": [
      "[*********************100%***********************]  1 of 1 completed\n"
     ]
    },
    {
     "name": "stdout",
     "output_type": "stream",
     "text": [
      "Naive smape for RWEOY: 6.1790\n"
     ]
    },
    {
     "name": "stderr",
     "output_type": "stream",
     "text": [
      "[*********************100%***********************]  1 of 1 completed\n"
     ]
    },
    {
     "name": "stdout",
     "output_type": "stream",
     "text": [
      "Naive smape for SIGI: 1.2381\n"
     ]
    },
    {
     "name": "stderr",
     "output_type": "stream",
     "text": [
      "[*********************100%***********************]  1 of 1 completed\n"
     ]
    },
    {
     "name": "stdout",
     "output_type": "stream",
     "text": [
      "Naive smape for CLH: 4.2921\n"
     ]
    },
    {
     "name": "stderr",
     "output_type": "stream",
     "text": [
      "[*********************100%***********************]  1 of 1 completed\n",
      "[*********************100%***********************]  1 of 1 completed\n"
     ]
    },
    {
     "name": "stdout",
     "output_type": "stream",
     "text": [
      "Naive smape for ADI: 5.1867\n",
      "Naive smape for MLNK: 1.9584\n"
     ]
    },
    {
     "name": "stderr",
     "output_type": "stream",
     "text": [
      "[*********************100%***********************]  1 of 1 completed\n"
     ]
    },
    {
     "name": "stdout",
     "output_type": "stream",
     "text": [
      "Naive smape for PTC: 11.5154\n"
     ]
    },
    {
     "name": "stderr",
     "output_type": "stream",
     "text": [
      "[*********************100%***********************]  1 of 1 completed\n",
      "[*********************100%***********************]  1 of 1 completed"
     ]
    },
    {
     "name": "stdout",
     "output_type": "stream",
     "text": [
      "Naive smape for OIH: 133.1479\n"
     ]
    },
    {
     "name": "stderr",
     "output_type": "stream",
     "text": [
      "\n",
      "[*********************100%***********************]  1 of 1 completed\n"
     ]
    },
    {
     "name": "stdout",
     "output_type": "stream",
     "text": [
      "Naive smape for ALIZY: 1.2920\n",
      "Naive smape for GDS: 37.6899\n"
     ]
    },
    {
     "name": "stderr",
     "output_type": "stream",
     "text": [
      "[*********************100%***********************]  1 of 1 completed\n"
     ]
    },
    {
     "name": "stdout",
     "output_type": "stream",
     "text": [
      "Naive smape for IVW: 1.8023\n"
     ]
    },
    {
     "name": "stderr",
     "output_type": "stream",
     "text": [
      "[*********************100%***********************]  1 of 1 completed\n",
      "[*********************100%***********************]  1 of 1 completed"
     ]
    },
    {
     "name": "stdout",
     "output_type": "stream",
     "text": [
      "Naive smape for AXP: 2.8627\n",
      "Naive smape for SPSB: 0.3921\n"
     ]
    },
    {
     "name": "stderr",
     "output_type": "stream",
     "text": [
      "\n",
      "[*********************100%***********************]  1 of 1 completed\n",
      "[*********************100%***********************]  1 of 1 completed\n"
     ]
    },
    {
     "name": "stdout",
     "output_type": "stream",
     "text": [
      "Naive smape for PCT: 8.3820\n",
      "Naive smape for PRAX: 65.0078\n"
     ]
    },
    {
     "name": "stderr",
     "output_type": "stream",
     "text": [
      "[*********************100%***********************]  1 of 1 completed\n",
      "[*********************100%***********************]  1 of 1 completed\n"
     ]
    },
    {
     "name": "stdout",
     "output_type": "stream",
     "text": [
      "Naive smape for PPRUY: 6.4763\n",
      "Naive smape for VNDA: 5.7241\n"
     ]
    },
    {
     "name": "stderr",
     "output_type": "stream",
     "text": [
      "[*********************100%***********************]  1 of 1 completed\n",
      "[*********************100%***********************]  1 of 1 completed\n"
     ]
    },
    {
     "name": "stdout",
     "output_type": "stream",
     "text": [
      "Naive smape for NPWR: 1.8767\n",
      "Naive smape for ARCT: 27.4950\n"
     ]
    },
    {
     "name": "stderr",
     "output_type": "stream",
     "text": [
      "[*********************100%***********************]  1 of 1 completed\n",
      "[*********************100%***********************]  1 of 1 completed\n"
     ]
    },
    {
     "name": "stdout",
     "output_type": "stream",
     "text": [
      "Naive smape for EZGO: 40.6292\n",
      "Naive smape for FGEN: 16.9008\n"
     ]
    },
    {
     "name": "stderr",
     "output_type": "stream",
     "text": [
      "[*********************100%***********************]  1 of 1 completed\n",
      "[*********************100%***********************]  1 of 1 completed\n"
     ]
    },
    {
     "name": "stdout",
     "output_type": "stream",
     "text": [
      "Naive smape for INMD: 17.1497\n",
      "Naive smape for ZD: 4.6870\n"
     ]
    },
    {
     "name": "stderr",
     "output_type": "stream",
     "text": [
      "[*********************100%***********************]  1 of 1 completed\n",
      "[*********************100%***********************]  1 of 1 completed\n"
     ]
    },
    {
     "name": "stdout",
     "output_type": "stream",
     "text": [
      "Naive smape for MLPX: 5.1452\n",
      "Naive smape for MANU: 1.8978\n"
     ]
    },
    {
     "name": "stderr",
     "output_type": "stream",
     "text": [
      "[*********************100%***********************]  1 of 1 completed\n"
     ]
    },
    {
     "name": "stdout",
     "output_type": "stream",
     "text": [
      "Naive smape for LITE: 13.4779\n"
     ]
    },
    {
     "name": "stderr",
     "output_type": "stream",
     "text": [
      "[*********************100%***********************]  1 of 1 completed\n",
      "[*********************100%***********************]  1 of 1 completed"
     ]
    },
    {
     "name": "stdout",
     "output_type": "stream",
     "text": [
      "Naive smape for GBR: 25.1685\n",
      "Naive smape for SRDX: 7.3079\n"
     ]
    },
    {
     "name": "stderr",
     "output_type": "stream",
     "text": [
      "\n",
      "[*********************100%***********************]  1 of 1 completed\n",
      "[*********************100%***********************]  1 of 1 completed\n"
     ]
    },
    {
     "name": "stdout",
     "output_type": "stream",
     "text": [
      "Naive smape for ROK: 4.6743\n",
      "Naive smape for PENG: 4.0243\n"
     ]
    },
    {
     "name": "stderr",
     "output_type": "stream",
     "text": [
      "[*********************100%***********************]  1 of 1 completed\n",
      "[*********************100%***********************]  1 of 1 completed\n"
     ]
    },
    {
     "name": "stdout",
     "output_type": "stream",
     "text": [
      "Naive smape for SPAB: 0.5349\n",
      "Naive smape for MJLB: 59248.1379\n"
     ]
    },
    {
     "name": "stderr",
     "output_type": "stream",
     "text": [
      "[*********************100%***********************]  1 of 1 completed\n"
     ]
    },
    {
     "name": "stdout",
     "output_type": "stream",
     "text": [
      "Naive smape for MOMO: 9.3374\n"
     ]
    },
    {
     "name": "stderr",
     "output_type": "stream",
     "text": [
      "[*********************100%***********************]  1 of 1 completed\n",
      "[*********************100%***********************]  1 of 1 completed\n"
     ]
    },
    {
     "name": "stdout",
     "output_type": "stream",
     "text": [
      "Naive smape for ANF: 9.9503\n",
      "Naive smape for KW: 1.8387\n"
     ]
    },
    {
     "name": "stderr",
     "output_type": "stream",
     "text": [
      "[*********************100%***********************]  1 of 1 completed\n"
     ]
    },
    {
     "name": "stdout",
     "output_type": "stream",
     "text": [
      "Naive smape for WMG: 8.4993\n"
     ]
    },
    {
     "name": "stderr",
     "output_type": "stream",
     "text": [
      "[*********************100%***********************]  1 of 1 completed\n",
      "[*********************100%***********************]  1 of 1 completed\n"
     ]
    },
    {
     "name": "stdout",
     "output_type": "stream",
     "text": [
      "Naive smape for LIN: 7.1065\n",
      "Naive smape for BURL: 59.7226\n"
     ]
    },
    {
     "name": "stderr",
     "output_type": "stream",
     "text": [
      "[*********************100%***********************]  1 of 1 completed\n",
      "[*********************100%***********************]  1 of 1 completed"
     ]
    },
    {
     "name": "stdout",
     "output_type": "stream",
     "text": [
      "Naive smape for RRC: 5.6469\n"
     ]
    },
    {
     "name": "stderr",
     "output_type": "stream",
     "text": [
      "\n",
      "[*********************100%***********************]  1 of 1 completed\n"
     ]
    },
    {
     "name": "stdout",
     "output_type": "stream",
     "text": [
      "Naive smape for AURI: 405.1635\n",
      "Naive smape for UPXI: 23.3452\n"
     ]
    },
    {
     "name": "stderr",
     "output_type": "stream",
     "text": [
      "[*********************100%***********************]  1 of 1 completed\n",
      "[*********************100%***********************]  1 of 1 completed\n",
      "[*********************100%***********************]  1 of 1 completed"
     ]
    },
    {
     "name": "stdout",
     "output_type": "stream",
     "text": [
      "Naive smape for FRO: 20.1127\n",
      "Naive smape for MSPR: 2922.8736\n",
      "Naive smape for BSTZ: 5.1378\n"
     ]
    },
    {
     "name": "stderr",
     "output_type": "stream",
     "text": [
      "\n",
      "[*********************100%***********************]  1 of 1 completed\n"
     ]
    },
    {
     "name": "stdout",
     "output_type": "stream",
     "text": [
      "Naive smape for BBAX: 5.8685\n"
     ]
    },
    {
     "name": "stderr",
     "output_type": "stream",
     "text": [
      "[*********************100%***********************]  1 of 1 completed\n",
      "[*********************100%***********************]  1 of 1 completed\n"
     ]
    },
    {
     "name": "stdout",
     "output_type": "stream",
     "text": [
      "Naive smape for BHC: 11.7423\n",
      "Naive smape for SMIN: 5.7275\n"
     ]
    },
    {
     "name": "stderr",
     "output_type": "stream",
     "text": [
      "[*********************100%***********************]  1 of 1 completed\n"
     ]
    },
    {
     "name": "stdout",
     "output_type": "stream",
     "text": [
      "Naive smape for QLTA: 1.6358\n"
     ]
    },
    {
     "name": "stderr",
     "output_type": "stream",
     "text": [
      "[*********************100%***********************]  1 of 1 completed\n",
      "[*********************100%***********************]  1 of 1 completed"
     ]
    },
    {
     "name": "stdout",
     "output_type": "stream",
     "text": [
      "Naive smape for PII: 4.3154\n"
     ]
    },
    {
     "name": "stderr",
     "output_type": "stream",
     "text": [
      "\n"
     ]
    },
    {
     "name": "stdout",
     "output_type": "stream",
     "text": [
      "Naive smape for FTK: 47.4301\n"
     ]
    },
    {
     "name": "stderr",
     "output_type": "stream",
     "text": [
      "[*********************100%***********************]  1 of 1 completed\n",
      "[*********************100%***********************]  1 of 1 completed\n"
     ]
    },
    {
     "name": "stdout",
     "output_type": "stream",
     "text": [
      "Naive smape for AAP: 16.0559\n",
      "Naive smape for ALT: 15.5325\n"
     ]
    },
    {
     "name": "stderr",
     "output_type": "stream",
     "text": [
      "[*********************100%***********************]  1 of 1 completed\n",
      "[*********************100%***********************]  1 of 1 completed\n"
     ]
    },
    {
     "name": "stdout",
     "output_type": "stream",
     "text": [
      "Naive smape for CLOI: 1.2211\n",
      "Naive smape for DESP: 3.5392\n"
     ]
    },
    {
     "name": "stderr",
     "output_type": "stream",
     "text": [
      "[*********************100%***********************]  1 of 1 completed\n",
      "[*********************100%***********************]  1 of 1 completed\n"
     ]
    },
    {
     "name": "stdout",
     "output_type": "stream",
     "text": [
      "Naive smape for ETR: 0.8402\n",
      "Naive smape for PFFD: 2.8144\n"
     ]
    },
    {
     "name": "stderr",
     "output_type": "stream",
     "text": [
      "[*********************100%***********************]  1 of 1 completed\n",
      "[*********************100%***********************]  1 of 1 completed\n"
     ]
    },
    {
     "name": "stdout",
     "output_type": "stream",
     "text": [
      "Naive smape for OCGN: 86.0411\n",
      "Naive smape for JAMF: 6.3308\n"
     ]
    },
    {
     "name": "stderr",
     "output_type": "stream",
     "text": [
      "[*********************100%***********************]  1 of 1 completed\n",
      "[*********************100%***********************]  1 of 1 completed\n"
     ]
    },
    {
     "name": "stdout",
     "output_type": "stream",
     "text": [
      "Naive smape for ENGIY: 1.9142\n",
      "Naive smape for CCSI: 10.3856\n"
     ]
    },
    {
     "name": "stderr",
     "output_type": "stream",
     "text": [
      "[*********************100%***********************]  1 of 1 completed\n",
      "[*********************100%***********************]  1 of 1 completed\n"
     ]
    },
    {
     "name": "stdout",
     "output_type": "stream",
     "text": [
      "Naive smape for MSA: 2.3944\n",
      "Naive smape for ATXS: 23.2355\n"
     ]
    },
    {
     "name": "stderr",
     "output_type": "stream",
     "text": [
      "[*********************100%***********************]  1 of 1 completed\n"
     ]
    },
    {
     "name": "stdout",
     "output_type": "stream",
     "text": [
      "Naive smape for POWL: 2.5485\n"
     ]
    },
    {
     "name": "stderr",
     "output_type": "stream",
     "text": [
      "[*********************100%***********************]  1 of 1 completed\n",
      "[*********************100%***********************]  1 of 1 completed\n"
     ]
    },
    {
     "name": "stdout",
     "output_type": "stream",
     "text": [
      "Naive smape for INCY: 12.1475\n",
      "Naive smape for MIGI: 1057.3910\n"
     ]
    },
    {
     "name": "stderr",
     "output_type": "stream",
     "text": [
      "[*********************100%***********************]  1 of 1 completed\n",
      "[*********************100%***********************]  1 of 1 completed\n"
     ]
    },
    {
     "name": "stdout",
     "output_type": "stream",
     "text": [
      "Naive smape for JAGX: 3363100.4326\n",
      "Naive smape for ICOW: 2.7851\n"
     ]
    },
    {
     "name": "stderr",
     "output_type": "stream",
     "text": [
      "[*********************100%***********************]  1 of 1 completed\n",
      "[*********************100%***********************]  1 of 1 completed\n"
     ]
    },
    {
     "name": "stdout",
     "output_type": "stream",
     "text": [
      "Naive smape for AMTB: 7.0875\n",
      "Naive smape for IBTM: 0.7679\n"
     ]
    },
    {
     "name": "stderr",
     "output_type": "stream",
     "text": [
      "[*********************100%***********************]  1 of 1 completed\n",
      "[*********************100%***********************]  1 of 1 completed\n"
     ]
    },
    {
     "name": "stdout",
     "output_type": "stream",
     "text": [
      "Naive smape for PREF: 1.1379\n",
      "Naive smape for DOGZ: 29.9598\n"
     ]
    },
    {
     "name": "stderr",
     "output_type": "stream",
     "text": [
      "[*********************100%***********************]  1 of 1 completed\n",
      "[*********************100%***********************]  1 of 1 completed\n"
     ]
    },
    {
     "name": "stdout",
     "output_type": "stream",
     "text": [
      "Naive smape for GUSH: 2152.0193\n",
      "Naive smape for OIS: 7.1264\n"
     ]
    },
    {
     "name": "stderr",
     "output_type": "stream",
     "text": [
      "[*********************100%***********************]  1 of 1 completed\n",
      "[*********************100%***********************]  1 of 1 completed\n"
     ]
    },
    {
     "name": "stdout",
     "output_type": "stream",
     "text": [
      "Naive smape for TCBI: 9.8451\n",
      "Naive smape for ENGN: 2.0998\n"
     ]
    },
    {
     "name": "stderr",
     "output_type": "stream",
     "text": [
      "[*********************100%***********************]  1 of 1 completed\n",
      "[*********************100%***********************]  1 of 1 completed\n"
     ]
    },
    {
     "name": "stdout",
     "output_type": "stream",
     "text": [
      "Naive smape for ADYEY: 6.1028\n",
      "Naive smape for ACB: 322.7780\n"
     ]
    },
    {
     "name": "stderr",
     "output_type": "stream",
     "text": [
      "[*********************100%***********************]  1 of 1 completed\n",
      "[*********************100%***********************]  1 of 1 completed\n"
     ]
    },
    {
     "name": "stdout",
     "output_type": "stream",
     "text": [
      "Naive smape for ERY: 1510.5081\n",
      "Naive smape for BSCT: 0.8275\n"
     ]
    },
    {
     "name": "stderr",
     "output_type": "stream",
     "text": [
      "[*********************100%***********************]  1 of 1 completed\n",
      "[*********************100%***********************]  1 of 1 completed\n"
     ]
    },
    {
     "name": "stdout",
     "output_type": "stream",
     "text": [
      "Naive smape for XLV: 3.1263\n",
      "Naive smape for AVDE: 6.3751\n"
     ]
    },
    {
     "name": "stderr",
     "output_type": "stream",
     "text": [
      "[*********************100%***********************]  1 of 1 completed\n",
      "[*********************100%***********************]  1 of 1 completed\n"
     ]
    },
    {
     "name": "stdout",
     "output_type": "stream",
     "text": [
      "Naive smape for PTA: 1.2095\n",
      "Naive smape for WEBL: 35.3573\n"
     ]
    },
    {
     "name": "stderr",
     "output_type": "stream",
     "text": [
      "[*********************100%***********************]  1 of 1 completed\n",
      "[*********************100%***********************]  1 of 1 completed\n",
      "[*********************100%***********************]  1 of 1 completed\n"
     ]
    },
    {
     "name": "stdout",
     "output_type": "stream",
     "text": [
      "Naive smape for QTWO: 25.3218\n",
      "Naive smape for TPIC: 18.5608\n",
      "Naive smape for STEM: 8.8554\n"
     ]
    },
    {
     "name": "stderr",
     "output_type": "stream",
     "text": [
      "[*********************100%***********************]  1 of 1 completed\n",
      "[*********************100%***********************]  1 of 1 completed\n"
     ]
    },
    {
     "name": "stdout",
     "output_type": "stream",
     "text": [
      "Naive smape for ISTB: 0.8617\n",
      "Naive smape for DNLI: 20.4302\n"
     ]
    },
    {
     "name": "stderr",
     "output_type": "stream",
     "text": [
      "[*********************100%***********************]  1 of 1 completed\n"
     ]
    },
    {
     "name": "stdout",
     "output_type": "stream",
     "text": [
      "Naive smape for CHX: 11.2609\n"
     ]
    },
    {
     "name": "stderr",
     "output_type": "stream",
     "text": [
      "[*********************100%***********************]  1 of 1 completed\n",
      "[*********************100%***********************]  1 of 1 completed\n"
     ]
    },
    {
     "name": "stdout",
     "output_type": "stream",
     "text": [
      "Naive smape for INGN: 41.3399\n",
      "Naive smape for TRIP: 14.3146\n"
     ]
    },
    {
     "name": "stderr",
     "output_type": "stream",
     "text": [
      "[*********************100%***********************]  1 of 1 completed\n",
      "[*********************100%***********************]  1 of 1 completed"
     ]
    },
    {
     "name": "stdout",
     "output_type": "stream",
     "text": [
      "Naive smape for ADSK: 5.3154\n",
      "Naive smape for MUB: 3.1908\n"
     ]
    },
    {
     "name": "stderr",
     "output_type": "stream",
     "text": [
      "\n",
      "[*********************100%***********************]  1 of 1 completed\n",
      "[*********************100%***********************]  1 of 1 completed\n"
     ]
    },
    {
     "name": "stdout",
     "output_type": "stream",
     "text": [
      "Naive smape for LOVE: 26.3255\n",
      "Naive smape for USHY: 3.0104\n"
     ]
    },
    {
     "name": "stderr",
     "output_type": "stream",
     "text": [
      "[*********************100%***********************]  1 of 1 completed\n"
     ]
    },
    {
     "name": "stdout",
     "output_type": "stream",
     "text": [
      "Naive smape for APLS: 16.6371\n"
     ]
    },
    {
     "name": "stderr",
     "output_type": "stream",
     "text": [
      "[*********************100%***********************]  1 of 1 completed\n",
      "[*********************100%***********************]  1 of 1 completed\n"
     ]
    },
    {
     "name": "stdout",
     "output_type": "stream",
     "text": [
      "Naive smape for IOO: 2.3943\n",
      "Naive smape for SCHV: 0.9123\n"
     ]
    },
    {
     "name": "stderr",
     "output_type": "stream",
     "text": [
      "[*********************100%***********************]  1 of 1 completed\n",
      "[*********************100%***********************]  1 of 1 completed\n",
      "[*********************100%***********************]  1 of 1 completed\n"
     ]
    },
    {
     "name": "stdout",
     "output_type": "stream",
     "text": [
      "Naive smape for FLDR: 0.5779\n",
      "Naive smape for NDMO: 1.4298\n",
      "Naive smape for XMTR: 18.0030\n"
     ]
    },
    {
     "name": "stderr",
     "output_type": "stream",
     "text": [
      "[*********************100%***********************]  1 of 1 completed\n",
      "[*********************100%***********************]  1 of 1 completed\n"
     ]
    },
    {
     "name": "stdout",
     "output_type": "stream",
     "text": [
      "Naive smape for MNDY: 50.0959\n",
      "Naive smape for VMEO: 4.0201\n"
     ]
    },
    {
     "name": "stderr",
     "output_type": "stream",
     "text": [
      "[*********************100%***********************]  1 of 1 completed\n",
      "[*********************100%***********************]  1 of 1 completed\n"
     ]
    },
    {
     "name": "stdout",
     "output_type": "stream",
     "text": [
      "Naive smape for VLUE: 8.4821\n",
      "Naive smape for FLCB: 0.9328\n"
     ]
    },
    {
     "name": "stderr",
     "output_type": "stream",
     "text": [
      "[*********************100%***********************]  1 of 1 completed\n",
      "[*********************100%***********************]  1 of 1 completed\n",
      "[*********************100%***********************]  1 of 1 completed\n"
     ]
    },
    {
     "name": "stdout",
     "output_type": "stream",
     "text": [
      "Naive smape for MEGEF: 5.5196\n",
      "Naive smape for CLIP: 0.8193\n",
      "Naive smape for DOYU: 16.9879\n"
     ]
    },
    {
     "name": "stderr",
     "output_type": "stream",
     "text": [
      "[*********************100%***********************]  1 of 1 completed\n"
     ]
    },
    {
     "name": "stdout",
     "output_type": "stream",
     "text": [
      "Naive smape for CORT: 2.4301\n"
     ]
    },
    {
     "name": "stderr",
     "output_type": "stream",
     "text": [
      "[*********************100%***********************]  1 of 1 completed\n",
      "[*********************100%***********************]  1 of 1 completed\n"
     ]
    },
    {
     "name": "stdout",
     "output_type": "stream",
     "text": [
      "Naive smape for TECS: 356819.2385\n",
      "Naive smape for VGLT: 4.9521\n"
     ]
    },
    {
     "name": "stderr",
     "output_type": "stream",
     "text": [
      "[*********************100%***********************]  1 of 1 completed\n",
      "[*********************100%***********************]  1 of 1 completed\n"
     ]
    },
    {
     "name": "stdout",
     "output_type": "stream",
     "text": [
      "Naive smape for PPH: 3.2103\n",
      "Naive smape for JMST: 0.4229\n"
     ]
    },
    {
     "name": "stderr",
     "output_type": "stream",
     "text": [
      "[*********************100%***********************]  1 of 1 completed\n",
      "[*********************100%***********************]  1 of 1 completed\n"
     ]
    },
    {
     "name": "stdout",
     "output_type": "stream",
     "text": [
      "Naive smape for SGOL: 1.6523\n",
      "Naive smape for JHMM: 8.2932\n"
     ]
    },
    {
     "name": "stderr",
     "output_type": "stream",
     "text": [
      "[*********************100%***********************]  1 of 1 completed\n",
      "[*********************100%***********************]  1 of 1 completed\n"
     ]
    },
    {
     "name": "stdout",
     "output_type": "stream",
     "text": [
      "Naive smape for PZA: 1.0403\n",
      "Naive smape for RPTX: 4.8855\n"
     ]
    },
    {
     "name": "stderr",
     "output_type": "stream",
     "text": [
      "[*********************100%***********************]  1 of 1 completed\n",
      "[*********************100%***********************]  1 of 1 completed\n"
     ]
    },
    {
     "name": "stdout",
     "output_type": "stream",
     "text": [
      "Naive smape for PBF: 8.8848\n",
      "Naive smape for DRN: 2.6732\n"
     ]
    },
    {
     "name": "stderr",
     "output_type": "stream",
     "text": [
      "[*********************100%***********************]  1 of 1 completed\n",
      "[*********************100%***********************]  1 of 1 completed"
     ]
    },
    {
     "name": "stdout",
     "output_type": "stream",
     "text": [
      "Naive smape for ULCC: 3.0466\n",
      "Naive smape for AZPN: 9.3325\n"
     ]
    },
    {
     "name": "stderr",
     "output_type": "stream",
     "text": [
      "\n"
     ]
    }
   ],
   "source": [
    "naive_smape_df = get_naive_smape_for_tickers(tickers)"
   ]
  },
  {
   "cell_type": "code",
   "execution_count": 15,
   "metadata": {},
   "outputs": [
    {
     "data": {
      "text/html": [
       "<div>\n",
       "<style scoped>\n",
       "    .dataframe tbody tr th:only-of-type {\n",
       "        vertical-align: middle;\n",
       "    }\n",
       "\n",
       "    .dataframe tbody tr th {\n",
       "        vertical-align: top;\n",
       "    }\n",
       "\n",
       "    .dataframe thead th {\n",
       "        text-align: right;\n",
       "    }\n",
       "</style>\n",
       "<table border=\"1\" class=\"dataframe\">\n",
       "  <thead>\n",
       "    <tr style=\"text-align: right;\">\n",
       "      <th></th>\n",
       "      <th>ticker</th>\n",
       "      <th>naive_smape</th>\n",
       "    </tr>\n",
       "  </thead>\n",
       "  <tbody>\n",
       "    <tr>\n",
       "      <th>0</th>\n",
       "      <td>WPP</td>\n",
       "      <td>4.883492</td>\n",
       "    </tr>\n",
       "    <tr>\n",
       "      <th>1</th>\n",
       "      <td>CVGW</td>\n",
       "      <td>4.160057</td>\n",
       "    </tr>\n",
       "    <tr>\n",
       "      <th>2</th>\n",
       "      <td>DFH</td>\n",
       "      <td>5.998029</td>\n",
       "    </tr>\n",
       "    <tr>\n",
       "      <th>3</th>\n",
       "      <td>RCEL</td>\n",
       "      <td>5.655529</td>\n",
       "    </tr>\n",
       "    <tr>\n",
       "      <th>4</th>\n",
       "      <td>C</td>\n",
       "      <td>29.475851</td>\n",
       "    </tr>\n",
       "  </tbody>\n",
       "</table>\n",
       "</div>"
      ],
      "text/plain": [
       "  ticker  naive_smape\n",
       "0    WPP     4.883492\n",
       "1   CVGW     4.160057\n",
       "2    DFH     5.998029\n",
       "3   RCEL     5.655529\n",
       "4      C    29.475851"
      ]
     },
     "execution_count": 15,
     "metadata": {},
     "output_type": "execute_result"
    }
   ],
   "source": [
    "naive_smape_df.head()"
   ]
  },
  {
   "cell_type": "code",
   "execution_count": 16,
   "metadata": {},
   "outputs": [
    {
     "data": {
      "text/plain": [
       "np.float64(25262.187914633916)"
      ]
     },
     "execution_count": 16,
     "metadata": {},
     "output_type": "execute_result"
    }
   ],
   "source": [
    "naive_smape_df.naive_smape.mean()"
   ]
  },
  {
   "cell_type": "code",
   "execution_count": null,
   "metadata": {},
   "outputs": [],
   "source": [
    "# merge with smapes_df\n",
    "\n",
    "smapes_df = pd.merge(left=smapes_df, \n",
    "         right=naive_smape_df,\n",
    "         on='ticker')"
   ]
  },
  {
   "cell_type": "code",
   "execution_count": null,
   "metadata": {},
   "outputs": [],
   "source": [
    "# export\n",
    "\n",
    "smapes_df.to_csv(smapes_df_path)"
   ]
  }
 ],
 "metadata": {
  "kernelspec": {
   "display_name": "Python 3",
   "language": "python",
   "name": "python3"
  },
  "language_info": {
   "codemirror_mode": {
    "name": "ipython",
    "version": 3
   },
   "file_extension": ".py",
   "mimetype": "text/x-python",
   "name": "python",
   "nbconvert_exporter": "python",
   "pygments_lexer": "ipython3",
   "version": "3.13.1"
  }
 },
 "nbformat": 4,
 "nbformat_minor": 2
}
