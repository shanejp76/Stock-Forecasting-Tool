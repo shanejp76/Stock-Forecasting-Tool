{
 "cells": [
  {
   "cell_type": "code",
   "execution_count": 1,
   "metadata": {},
   "outputs": [],
   "source": [
    "import pandas as pd, numpy as np"
   ]
  },
  {
   "cell_type": "markdown",
   "metadata": {},
   "source": [
    "Import Df w smapes from all models"
   ]
  },
  {
   "cell_type": "code",
   "execution_count": 2,
   "metadata": {},
   "outputs": [],
   "source": [
    "smapes_path = r\"c:\\Users\\Shane\\Desktop\\2024.06.27_-_Data_Science\\2024.10.13 - Portfolio Projects\\2024.12.04 - Swing Ticker\\SMAPE Model Eval\\combined_model_smape.csv\""
   ]
  },
  {
   "cell_type": "code",
   "execution_count": 6,
   "metadata": {},
   "outputs": [],
   "source": [
    "df = pd.read_csv(smapes_path)"
   ]
  },
  {
   "cell_type": "code",
   "execution_count": 7,
   "metadata": {},
   "outputs": [
    {
     "data": {
      "text/html": [
       "<div>\n",
       "<style scoped>\n",
       "    .dataframe tbody tr th:only-of-type {\n",
       "        vertical-align: middle;\n",
       "    }\n",
       "\n",
       "    .dataframe tbody tr th {\n",
       "        vertical-align: top;\n",
       "    }\n",
       "\n",
       "    .dataframe thead th {\n",
       "        text-align: right;\n",
       "    }\n",
       "</style>\n",
       "<table border=\"1\" class=\"dataframe\">\n",
       "  <thead>\n",
       "    <tr style=\"text-align: right;\">\n",
       "      <th></th>\n",
       "      <th>ticker</th>\n",
       "      <th>volatility</th>\n",
       "      <th>avg_price</th>\n",
       "      <th>len</th>\n",
       "      <th>naive_smape</th>\n",
       "      <th>smape_standard</th>\n",
       "      <th>smape_tuned</th>\n",
       "      <th>winsorized_pct</th>\n",
       "    </tr>\n",
       "  </thead>\n",
       "  <tbody>\n",
       "    <tr>\n",
       "      <th>0</th>\n",
       "      <td>WPP</td>\n",
       "      <td>Medium</td>\n",
       "      <td>32.136355</td>\n",
       "      <td>9355</td>\n",
       "      <td>4.883490</td>\n",
       "      <td>0.270578</td>\n",
       "      <td>0.075833</td>\n",
       "      <td>0.364725</td>\n",
       "    </tr>\n",
       "    <tr>\n",
       "      <th>1</th>\n",
       "      <td>CVGW</td>\n",
       "      <td>Medium</td>\n",
       "      <td>31.071787</td>\n",
       "      <td>5681</td>\n",
       "      <td>4.160058</td>\n",
       "      <td>0.162737</td>\n",
       "      <td>0.163886</td>\n",
       "      <td>0.363316</td>\n",
       "    </tr>\n",
       "    <tr>\n",
       "      <th>2</th>\n",
       "      <td>DFH</td>\n",
       "      <td>Medium</td>\n",
       "      <td>22.145518</td>\n",
       "      <td>1023</td>\n",
       "      <td>5.848917</td>\n",
       "      <td>0.305700</td>\n",
       "      <td>0.239105</td>\n",
       "      <td>0.418377</td>\n",
       "    </tr>\n",
       "    <tr>\n",
       "      <th>3</th>\n",
       "      <td>RCEL</td>\n",
       "      <td>Medium-High</td>\n",
       "      <td>13.289237</td>\n",
       "      <td>3209</td>\n",
       "      <td>5.655529</td>\n",
       "      <td>0.915579</td>\n",
       "      <td>0.627327</td>\n",
       "      <td>0.267061</td>\n",
       "    </tr>\n",
       "    <tr>\n",
       "      <th>4</th>\n",
       "      <td>C</td>\n",
       "      <td>Medium-Low</td>\n",
       "      <td>79.326248</td>\n",
       "      <td>12132</td>\n",
       "      <td>29.475863</td>\n",
       "      <td>0.325752</td>\n",
       "      <td>0.241818</td>\n",
       "      <td>0.368035</td>\n",
       "    </tr>\n",
       "  </tbody>\n",
       "</table>\n",
       "</div>"
      ],
      "text/plain": [
       "  ticker   volatility  avg_price    len  naive_smape  smape_standard  \\\n",
       "0    WPP       Medium  32.136355   9355     4.883490        0.270578   \n",
       "1   CVGW       Medium  31.071787   5681     4.160058        0.162737   \n",
       "2    DFH       Medium  22.145518   1023     5.848917        0.305700   \n",
       "3   RCEL  Medium-High  13.289237   3209     5.655529        0.915579   \n",
       "4      C   Medium-Low  79.326248  12132    29.475863        0.325752   \n",
       "\n",
       "   smape_tuned  winsorized_pct  \n",
       "0     0.075833        0.364725  \n",
       "1     0.163886        0.363316  \n",
       "2     0.239105        0.418377  \n",
       "3     0.627327        0.267061  \n",
       "4     0.241818        0.368035  "
      ]
     },
     "execution_count": 7,
     "metadata": {},
     "output_type": "execute_result"
    }
   ],
   "source": [
    "df.head()"
   ]
  },
  {
   "cell_type": "markdown",
   "metadata": {},
   "source": [
    "Tuned Model Performance"
   ]
  },
  {
   "cell_type": "code",
   "execution_count": 8,
   "metadata": {},
   "outputs": [],
   "source": [
    "average_smape = df['smape_tuned'].mean()\n",
    "median_smape = df['smape_tuned'].median()\n",
    "std_smape = df['smape_tuned'].std()\n",
    "min_smape = df['smape_tuned'].min()\n",
    "max_smape = df['smape_tuned'].max()"
   ]
  },
  {
   "cell_type": "code",
   "execution_count": 9,
   "metadata": {},
   "outputs": [],
   "source": [
    "table_data = {\n",
    "    'Metric': ['Average SMAPE', 'Median SMAPE', 'Standard Deviation SMAPE', 'Minimum SMAPE', 'Maximum SMAPE', 'Cliff\\'s Delta', 'Wilcoxon p-value', 'Wilcoxon W statistic'],\n",
    "    'Value': [\n",
    "        f'{average_smape:.2f}%',\n",
    "        f'{median_smape:.2f}%',\n",
    "        f'{std_smape:.2f}%',\n",
    "        f'{min_smape:.2f}%',\n",
    "        f'{max_smape:.2f}%',\n",
    "        '0.69',\n",
    "        '2.46-e17',\n",
    "        '1119.0'\n",
    "    ]\n",
    "}"
   ]
  },
  {
   "cell_type": "code",
   "execution_count": 14,
   "metadata": {},
   "outputs": [
    {
     "data": {
      "text/html": [
       "<div>\n",
       "<style scoped>\n",
       "    .dataframe tbody tr th:only-of-type {\n",
       "        vertical-align: middle;\n",
       "    }\n",
       "\n",
       "    .dataframe tbody tr th {\n",
       "        vertical-align: top;\n",
       "    }\n",
       "\n",
       "    .dataframe thead th {\n",
       "        text-align: right;\n",
       "    }\n",
       "</style>\n",
       "<table border=\"1\" class=\"dataframe\">\n",
       "  <thead>\n",
       "    <tr style=\"text-align: right;\">\n",
       "      <th></th>\n",
       "      <th>Metric</th>\n",
       "      <th>Value</th>\n",
       "    </tr>\n",
       "  </thead>\n",
       "  <tbody>\n",
       "    <tr>\n",
       "      <th>0</th>\n",
       "      <td>Average SMAPE</td>\n",
       "      <td>0.38%</td>\n",
       "    </tr>\n",
       "    <tr>\n",
       "      <th>1</th>\n",
       "      <td>Median SMAPE</td>\n",
       "      <td>0.15%</td>\n",
       "    </tr>\n",
       "    <tr>\n",
       "      <th>2</th>\n",
       "      <td>Standard Deviation SMAPE</td>\n",
       "      <td>0.50%</td>\n",
       "    </tr>\n",
       "    <tr>\n",
       "      <th>3</th>\n",
       "      <td>Minimum SMAPE</td>\n",
       "      <td>0.00%</td>\n",
       "    </tr>\n",
       "    <tr>\n",
       "      <th>4</th>\n",
       "      <td>Maximum SMAPE</td>\n",
       "      <td>2.00%</td>\n",
       "    </tr>\n",
       "    <tr>\n",
       "      <th>5</th>\n",
       "      <td>Cliff's Delta</td>\n",
       "      <td>0.69</td>\n",
       "    </tr>\n",
       "    <tr>\n",
       "      <th>6</th>\n",
       "      <td>Wilcoxon p-value</td>\n",
       "      <td>2.46-e17</td>\n",
       "    </tr>\n",
       "    <tr>\n",
       "      <th>7</th>\n",
       "      <td>Wilcoxon W statistic</td>\n",
       "      <td>1119.0</td>\n",
       "    </tr>\n",
       "  </tbody>\n",
       "</table>\n",
       "</div>"
      ],
      "text/plain": [
       "                     Metric     Value\n",
       "0             Average SMAPE     0.38%\n",
       "1              Median SMAPE     0.15%\n",
       "2  Standard Deviation SMAPE     0.50%\n",
       "3             Minimum SMAPE     0.00%\n",
       "4             Maximum SMAPE     2.00%\n",
       "5             Cliff's Delta      0.69\n",
       "6          Wilcoxon p-value  2.46-e17\n",
       "7      Wilcoxon W statistic    1119.0"
      ]
     },
     "execution_count": 14,
     "metadata": {},
     "output_type": "execute_result"
    }
   ],
   "source": [
    "tuned_table_df = pd.DataFrame(table_data)\n",
    "tuned_table_df"
   ]
  },
  {
   "cell_type": "markdown",
   "metadata": {},
   "source": [
    "Standard Model Performance"
   ]
  },
  {
   "cell_type": "code",
   "execution_count": 11,
   "metadata": {},
   "outputs": [],
   "source": [
    "average_smape = df['smape_standard'].mean()\n",
    "median_smape = df['smape_standard'].median()\n",
    "std_smape = df['smape_standard'].std()\n",
    "min_smape = df['smape_standard'].min()\n",
    "max_smape = df['smape_standard'].max()"
   ]
  },
  {
   "cell_type": "code",
   "execution_count": 12,
   "metadata": {},
   "outputs": [],
   "source": [
    "standard_table_data = {\n",
    "    'Metric': ['Average SMAPE', 'Median SMAPE', 'Standard Deviation SMAPE', 'Minimum SMAPE', 'Maximum SMAPE'],\n",
    "    'Value': [\n",
    "        f'{average_smape:.2f}%',\n",
    "        f'{median_smape:.2f}%',\n",
    "        f'{std_smape:.2f}%',\n",
    "        f'{min_smape:.2f}%',\n",
    "        f'{max_smape:.2f}%'\n",
    "    ]\n",
    "}"
   ]
  },
  {
   "cell_type": "code",
   "execution_count": 13,
   "metadata": {},
   "outputs": [
    {
     "data": {
      "text/html": [
       "<div>\n",
       "<style scoped>\n",
       "    .dataframe tbody tr th:only-of-type {\n",
       "        vertical-align: middle;\n",
       "    }\n",
       "\n",
       "    .dataframe tbody tr th {\n",
       "        vertical-align: top;\n",
       "    }\n",
       "\n",
       "    .dataframe thead th {\n",
       "        text-align: right;\n",
       "    }\n",
       "</style>\n",
       "<table border=\"1\" class=\"dataframe\">\n",
       "  <thead>\n",
       "    <tr style=\"text-align: right;\">\n",
       "      <th></th>\n",
       "      <th>Metric</th>\n",
       "      <th>Value</th>\n",
       "    </tr>\n",
       "  </thead>\n",
       "  <tbody>\n",
       "    <tr>\n",
       "      <th>0</th>\n",
       "      <td>Average SMAPE</td>\n",
       "      <td>0.50%</td>\n",
       "    </tr>\n",
       "    <tr>\n",
       "      <th>1</th>\n",
       "      <td>Median SMAPE</td>\n",
       "      <td>0.22%</td>\n",
       "    </tr>\n",
       "    <tr>\n",
       "      <th>2</th>\n",
       "      <td>Standard Deviation SMAPE</td>\n",
       "      <td>0.60%</td>\n",
       "    </tr>\n",
       "    <tr>\n",
       "      <th>3</th>\n",
       "      <td>Minimum SMAPE</td>\n",
       "      <td>0.00%</td>\n",
       "    </tr>\n",
       "    <tr>\n",
       "      <th>4</th>\n",
       "      <td>Maximum SMAPE</td>\n",
       "      <td>2.00%</td>\n",
       "    </tr>\n",
       "  </tbody>\n",
       "</table>\n",
       "</div>"
      ],
      "text/plain": [
       "                     Metric  Value\n",
       "0             Average SMAPE  0.50%\n",
       "1              Median SMAPE  0.22%\n",
       "2  Standard Deviation SMAPE  0.60%\n",
       "3             Minimum SMAPE  0.00%\n",
       "4             Maximum SMAPE  2.00%"
      ]
     },
     "execution_count": 13,
     "metadata": {},
     "output_type": "execute_result"
    }
   ],
   "source": [
    "standard_table_df = pd.DataFrame(standard_table_data)\n",
    "standard_table_df"
   ]
  },
  {
   "cell_type": "code",
   "execution_count": 15,
   "metadata": {},
   "outputs": [
    {
     "data": {
      "text/html": [
       "<div>\n",
       "<style scoped>\n",
       "    .dataframe tbody tr th:only-of-type {\n",
       "        vertical-align: middle;\n",
       "    }\n",
       "\n",
       "    .dataframe tbody tr th {\n",
       "        vertical-align: top;\n",
       "    }\n",
       "\n",
       "    .dataframe thead th {\n",
       "        text-align: right;\n",
       "    }\n",
       "</style>\n",
       "<table border=\"1\" class=\"dataframe\">\n",
       "  <thead>\n",
       "    <tr style=\"text-align: right;\">\n",
       "      <th></th>\n",
       "      <th>Metric</th>\n",
       "      <th>Value</th>\n",
       "    </tr>\n",
       "  </thead>\n",
       "  <tbody>\n",
       "    <tr>\n",
       "      <th>0</th>\n",
       "      <td>Average SMAPE</td>\n",
       "      <td>0.38%</td>\n",
       "    </tr>\n",
       "    <tr>\n",
       "      <th>1</th>\n",
       "      <td>Median SMAPE</td>\n",
       "      <td>0.15%</td>\n",
       "    </tr>\n",
       "    <tr>\n",
       "      <th>2</th>\n",
       "      <td>Standard Deviation SMAPE</td>\n",
       "      <td>0.50%</td>\n",
       "    </tr>\n",
       "    <tr>\n",
       "      <th>3</th>\n",
       "      <td>Minimum SMAPE</td>\n",
       "      <td>0.00%</td>\n",
       "    </tr>\n",
       "    <tr>\n",
       "      <th>4</th>\n",
       "      <td>Maximum SMAPE</td>\n",
       "      <td>2.00%</td>\n",
       "    </tr>\n",
       "    <tr>\n",
       "      <th>5</th>\n",
       "      <td>Cliff's Delta</td>\n",
       "      <td>0.69</td>\n",
       "    </tr>\n",
       "    <tr>\n",
       "      <th>6</th>\n",
       "      <td>Wilcoxon p-value</td>\n",
       "      <td>2.46-e17</td>\n",
       "    </tr>\n",
       "    <tr>\n",
       "      <th>7</th>\n",
       "      <td>Wilcoxon W statistic</td>\n",
       "      <td>1119.0</td>\n",
       "    </tr>\n",
       "  </tbody>\n",
       "</table>\n",
       "</div>"
      ],
      "text/plain": [
       "                     Metric     Value\n",
       "0             Average SMAPE     0.38%\n",
       "1              Median SMAPE     0.15%\n",
       "2  Standard Deviation SMAPE     0.50%\n",
       "3             Minimum SMAPE     0.00%\n",
       "4             Maximum SMAPE     2.00%\n",
       "5             Cliff's Delta      0.69\n",
       "6          Wilcoxon p-value  2.46-e17\n",
       "7      Wilcoxon W statistic    1119.0"
      ]
     },
     "execution_count": 15,
     "metadata": {},
     "output_type": "execute_result"
    }
   ],
   "source": [
    "tuned_table_df"
   ]
  },
  {
   "cell_type": "code",
   "execution_count": null,
   "metadata": {},
   "outputs": [],
   "source": []
  }
 ],
 "metadata": {
  "kernelspec": {
   "display_name": "Python 3",
   "language": "python",
   "name": "python3"
  },
  "language_info": {
   "codemirror_mode": {
    "name": "ipython",
    "version": 3
   },
   "file_extension": ".py",
   "mimetype": "text/x-python",
   "name": "python",
   "nbconvert_exporter": "python",
   "pygments_lexer": "ipython3",
   "version": "3.13.1"
  }
 },
 "nbformat": 4,
 "nbformat_minor": 2
}
