{
 "cells": [
  {
   "cell_type": "code",
   "execution_count": 1,
   "metadata": {},
   "outputs": [],
   "source": [
    "import pandas as pd"
   ]
  },
  {
   "cell_type": "code",
   "execution_count": 2,
   "metadata": {},
   "outputs": [],
   "source": [
    "# save combined data to csv\n",
    "df_path = r\"C:\\Users\\Shane\\Desktop\\2024.06.27_-_Data_Science\\2024.10.13 - Portfolio Projects\\2024.12.04 - Swing Ticker\\Model Performance\\combined_model_rmse.csv\""
   ]
  },
  {
   "cell_type": "code",
   "execution_count": 5,
   "metadata": {},
   "outputs": [],
   "source": [
    "df = pd.read_csv(df_path)"
   ]
  },
  {
   "cell_type": "code",
   "execution_count": 6,
   "metadata": {},
   "outputs": [
    {
     "data": {
      "text/html": [
       "<div>\n",
       "<style scoped>\n",
       "    .dataframe tbody tr th:only-of-type {\n",
       "        vertical-align: middle;\n",
       "    }\n",
       "\n",
       "    .dataframe tbody tr th {\n",
       "        vertical-align: top;\n",
       "    }\n",
       "\n",
       "    .dataframe thead th {\n",
       "        text-align: right;\n",
       "    }\n",
       "</style>\n",
       "<table border=\"1\" class=\"dataframe\">\n",
       "  <thead>\n",
       "    <tr style=\"text-align: right;\">\n",
       "      <th></th>\n",
       "      <th>ticker</th>\n",
       "      <th>volatility</th>\n",
       "      <th>avg_price</th>\n",
       "      <th>len</th>\n",
       "      <th>rmse_standard</th>\n",
       "      <th>rmse_tuned</th>\n",
       "    </tr>\n",
       "  </thead>\n",
       "  <tbody>\n",
       "    <tr>\n",
       "      <th>0</th>\n",
       "      <td>BSNLF</td>\n",
       "      <td>High</td>\n",
       "      <td>0.026089</td>\n",
       "      <td>1889</td>\n",
       "      <td>0.044261</td>\n",
       "      <td>0.031845</td>\n",
       "    </tr>\n",
       "    <tr>\n",
       "      <th>1</th>\n",
       "      <td>FTA</td>\n",
       "      <td>Medium-Low</td>\n",
       "      <td>38.647291</td>\n",
       "      <td>4457</td>\n",
       "      <td>8.488856</td>\n",
       "      <td>4.376875</td>\n",
       "    </tr>\n",
       "    <tr>\n",
       "      <th>2</th>\n",
       "      <td>JTKWY</td>\n",
       "      <td>Medium-High</td>\n",
       "      <td>9.432196</td>\n",
       "      <td>1226</td>\n",
       "      <td>0.640134</td>\n",
       "      <td>0.565840</td>\n",
       "    </tr>\n",
       "    <tr>\n",
       "      <th>3</th>\n",
       "      <td>FWONB</td>\n",
       "      <td>Medium-Low</td>\n",
       "      <td>46.538264</td>\n",
       "      <td>2016</td>\n",
       "      <td>6.866346</td>\n",
       "      <td>6.854367</td>\n",
       "    </tr>\n",
       "    <tr>\n",
       "      <th>4</th>\n",
       "      <td>VRMMQ</td>\n",
       "      <td>High</td>\n",
       "      <td>1104.577206</td>\n",
       "      <td>1173</td>\n",
       "      <td>116.538527</td>\n",
       "      <td>78.179737</td>\n",
       "    </tr>\n",
       "  </tbody>\n",
       "</table>\n",
       "</div>"
      ],
      "text/plain": [
       "  ticker   volatility    avg_price   len  rmse_standard  rmse_tuned\n",
       "0  BSNLF         High     0.026089  1889       0.044261    0.031845\n",
       "1    FTA   Medium-Low    38.647291  4457       8.488856    4.376875\n",
       "2  JTKWY  Medium-High     9.432196  1226       0.640134    0.565840\n",
       "3  FWONB   Medium-Low    46.538264  2016       6.866346    6.854367\n",
       "4  VRMMQ         High  1104.577206  1173     116.538527   78.179737"
      ]
     },
     "execution_count": 6,
     "metadata": {},
     "output_type": "execute_result"
    }
   ],
   "source": [
    "df.head()"
   ]
  },
  {
   "cell_type": "code",
   "execution_count": null,
   "metadata": {},
   "outputs": [],
   "source": [
    "# quantify the improvement\n",
    "\n",
    "df['rmse_change'] = (df.rmse_tuned - df.rmse_standard) / df.rmse_standard"
   ]
  },
  {
   "cell_type": "code",
   "execution_count": 9,
   "metadata": {},
   "outputs": [
    {
     "data": {
      "text/html": [
       "<div>\n",
       "<style scoped>\n",
       "    .dataframe tbody tr th:only-of-type {\n",
       "        vertical-align: middle;\n",
       "    }\n",
       "\n",
       "    .dataframe tbody tr th {\n",
       "        vertical-align: top;\n",
       "    }\n",
       "\n",
       "    .dataframe thead th {\n",
       "        text-align: right;\n",
       "    }\n",
       "</style>\n",
       "<table border=\"1\" class=\"dataframe\">\n",
       "  <thead>\n",
       "    <tr style=\"text-align: right;\">\n",
       "      <th></th>\n",
       "      <th>ticker</th>\n",
       "      <th>volatility</th>\n",
       "      <th>avg_price</th>\n",
       "      <th>len</th>\n",
       "      <th>rmse_standard</th>\n",
       "      <th>rmse_tuned</th>\n",
       "      <th>rmse_change</th>\n",
       "    </tr>\n",
       "  </thead>\n",
       "  <tbody>\n",
       "    <tr>\n",
       "      <th>0</th>\n",
       "      <td>BSNLF</td>\n",
       "      <td>High</td>\n",
       "      <td>0.026089</td>\n",
       "      <td>1889</td>\n",
       "      <td>0.044261</td>\n",
       "      <td>0.031845</td>\n",
       "      <td>-0.280514</td>\n",
       "    </tr>\n",
       "    <tr>\n",
       "      <th>1</th>\n",
       "      <td>FTA</td>\n",
       "      <td>Medium-Low</td>\n",
       "      <td>38.647291</td>\n",
       "      <td>4457</td>\n",
       "      <td>8.488856</td>\n",
       "      <td>4.376875</td>\n",
       "      <td>-0.484397</td>\n",
       "    </tr>\n",
       "    <tr>\n",
       "      <th>2</th>\n",
       "      <td>JTKWY</td>\n",
       "      <td>Medium-High</td>\n",
       "      <td>9.432196</td>\n",
       "      <td>1226</td>\n",
       "      <td>0.640134</td>\n",
       "      <td>0.565840</td>\n",
       "      <td>-0.116060</td>\n",
       "    </tr>\n",
       "    <tr>\n",
       "      <th>3</th>\n",
       "      <td>FWONB</td>\n",
       "      <td>Medium-Low</td>\n",
       "      <td>46.538264</td>\n",
       "      <td>2016</td>\n",
       "      <td>6.866346</td>\n",
       "      <td>6.854367</td>\n",
       "      <td>-0.001745</td>\n",
       "    </tr>\n",
       "    <tr>\n",
       "      <th>4</th>\n",
       "      <td>VRMMQ</td>\n",
       "      <td>High</td>\n",
       "      <td>1104.577206</td>\n",
       "      <td>1173</td>\n",
       "      <td>116.538527</td>\n",
       "      <td>78.179737</td>\n",
       "      <td>-0.329151</td>\n",
       "    </tr>\n",
       "  </tbody>\n",
       "</table>\n",
       "</div>"
      ],
      "text/plain": [
       "  ticker   volatility    avg_price   len  rmse_standard  rmse_tuned  \\\n",
       "0  BSNLF         High     0.026089  1889       0.044261    0.031845   \n",
       "1    FTA   Medium-Low    38.647291  4457       8.488856    4.376875   \n",
       "2  JTKWY  Medium-High     9.432196  1226       0.640134    0.565840   \n",
       "3  FWONB   Medium-Low    46.538264  2016       6.866346    6.854367   \n",
       "4  VRMMQ         High  1104.577206  1173     116.538527   78.179737   \n",
       "\n",
       "   rmse_change  \n",
       "0    -0.280514  \n",
       "1    -0.484397  \n",
       "2    -0.116060  \n",
       "3    -0.001745  \n",
       "4    -0.329151  "
      ]
     },
     "execution_count": 9,
     "metadata": {},
     "output_type": "execute_result"
    }
   ],
   "source": [
    "df.head()"
   ]
  },
  {
   "cell_type": "code",
   "execution_count": 10,
   "metadata": {},
   "outputs": [
    {
     "data": {
      "text/plain": [
       "volatility\n",
       "High          -0.304833\n",
       "Medium-High   -0.116060\n",
       "Medium-Low    -0.243071\n",
       "Name: rmse_change, dtype: float64"
      ]
     },
     "execution_count": 10,
     "metadata": {},
     "output_type": "execute_result"
    }
   ],
   "source": [
    "# Get an average for each volatility category\n",
    "\n",
    "df.groupby('volatility').rmse_change.mean()"
   ]
  },
  {
   "cell_type": "code",
   "execution_count": 12,
   "metadata": {},
   "outputs": [
    {
     "data": {
      "text/plain": [
       "5"
      ]
     },
     "execution_count": 12,
     "metadata": {},
     "output_type": "execute_result"
    }
   ],
   "source": [
    "len(df)"
   ]
  }
 ],
 "metadata": {
  "kernelspec": {
   "display_name": "Python 3",
   "language": "python",
   "name": "python3"
  },
  "language_info": {
   "codemirror_mode": {
    "name": "ipython",
    "version": 3
   },
   "file_extension": ".py",
   "mimetype": "text/x-python",
   "name": "python",
   "nbconvert_exporter": "python",
   "pygments_lexer": "ipython3",
   "version": "3.13.1"
  }
 },
 "nbformat": 4,
 "nbformat_minor": 2
}
