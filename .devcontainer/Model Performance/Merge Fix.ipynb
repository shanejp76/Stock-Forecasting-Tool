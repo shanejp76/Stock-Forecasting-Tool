{
 "cells": [
  {
   "cell_type": "code",
   "execution_count": 1,
   "metadata": {},
   "outputs": [],
   "source": [
    "import pandas as pd"
   ]
  },
  {
   "cell_type": "code",
   "execution_count": 2,
   "metadata": {},
   "outputs": [],
   "source": [
    "base_model_df = pd.read_csv('standard_model.csv')"
   ]
  },
  {
   "cell_type": "code",
   "execution_count": 3,
   "metadata": {},
   "outputs": [
    {
     "data": {
      "text/plain": [
       "(150, 5)"
      ]
     },
     "execution_count": 3,
     "metadata": {},
     "output_type": "execute_result"
    }
   ],
   "source": [
    "base_model_df.shape"
   ]
  },
  {
   "cell_type": "code",
   "execution_count": 4,
   "metadata": {},
   "outputs": [],
   "source": [
    "tuned_model_df = pd.read_csv('tuned_model.csv')"
   ]
  },
  {
   "cell_type": "code",
   "execution_count": 6,
   "metadata": {},
   "outputs": [
    {
     "data": {
      "text/plain": [
       "(150, 2)"
      ]
     },
     "execution_count": 6,
     "metadata": {},
     "output_type": "execute_result"
    }
   ],
   "source": [
    "tuned_model_df.shape"
   ]
  },
  {
   "cell_type": "code",
   "execution_count": 9,
   "metadata": {},
   "outputs": [],
   "source": [
    "base_tuned_data = pd.merge(base_model_df, tuned_model_df, on='ticker', how='inner', suffixes=('_base', '_tuned'))"
   ]
  },
  {
   "cell_type": "code",
   "execution_count": 10,
   "metadata": {},
   "outputs": [
    {
     "data": {
      "text/html": [
       "<div>\n",
       "<style scoped>\n",
       "    .dataframe tbody tr th:only-of-type {\n",
       "        vertical-align: middle;\n",
       "    }\n",
       "\n",
       "    .dataframe tbody tr th {\n",
       "        vertical-align: top;\n",
       "    }\n",
       "\n",
       "    .dataframe thead th {\n",
       "        text-align: right;\n",
       "    }\n",
       "</style>\n",
       "<table border=\"1\" class=\"dataframe\">\n",
       "  <thead>\n",
       "    <tr style=\"text-align: right;\">\n",
       "      <th></th>\n",
       "      <th>ticker</th>\n",
       "      <th>volatility</th>\n",
       "      <th>rmse_base</th>\n",
       "      <th>avg_price</th>\n",
       "      <th>len</th>\n",
       "      <th>rmse_tuned</th>\n",
       "    </tr>\n",
       "  </thead>\n",
       "  <tbody>\n",
       "    <tr>\n",
       "      <th>0</th>\n",
       "      <td>BSNLF</td>\n",
       "      <td>High</td>\n",
       "      <td>0.044261</td>\n",
       "      <td>0.026089</td>\n",
       "      <td>1889</td>\n",
       "      <td>0.031845</td>\n",
       "    </tr>\n",
       "    <tr>\n",
       "      <th>1</th>\n",
       "      <td>FTA</td>\n",
       "      <td>Medium-Low</td>\n",
       "      <td>8.488856</td>\n",
       "      <td>38.647291</td>\n",
       "      <td>4457</td>\n",
       "      <td>4.376875</td>\n",
       "    </tr>\n",
       "    <tr>\n",
       "      <th>2</th>\n",
       "      <td>JTKWY</td>\n",
       "      <td>Medium-High</td>\n",
       "      <td>0.640134</td>\n",
       "      <td>9.432196</td>\n",
       "      <td>1226</td>\n",
       "      <td>0.565840</td>\n",
       "    </tr>\n",
       "    <tr>\n",
       "      <th>3</th>\n",
       "      <td>FWONB</td>\n",
       "      <td>Medium-Low</td>\n",
       "      <td>6.866346</td>\n",
       "      <td>46.538264</td>\n",
       "      <td>2016</td>\n",
       "      <td>6.854367</td>\n",
       "    </tr>\n",
       "    <tr>\n",
       "      <th>4</th>\n",
       "      <td>VRMMQ</td>\n",
       "      <td>High</td>\n",
       "      <td>116.538527</td>\n",
       "      <td>1104.577206</td>\n",
       "      <td>1173</td>\n",
       "      <td>78.179737</td>\n",
       "    </tr>\n",
       "    <tr>\n",
       "      <th>...</th>\n",
       "      <td>...</td>\n",
       "      <td>...</td>\n",
       "      <td>...</td>\n",
       "      <td>...</td>\n",
       "      <td>...</td>\n",
       "      <td>...</td>\n",
       "    </tr>\n",
       "    <tr>\n",
       "      <th>145</th>\n",
       "      <td>ADDHY</td>\n",
       "      <td>Medium-High</td>\n",
       "      <td>3.387021</td>\n",
       "      <td>10.168203</td>\n",
       "      <td>501</td>\n",
       "      <td>1.018318</td>\n",
       "    </tr>\n",
       "    <tr>\n",
       "      <th>146</th>\n",
       "      <td>ASAAF</td>\n",
       "      <td>Medium-High</td>\n",
       "      <td>7.215452</td>\n",
       "      <td>31.492342</td>\n",
       "      <td>1094</td>\n",
       "      <td>3.203930</td>\n",
       "    </tr>\n",
       "    <tr>\n",
       "      <th>147</th>\n",
       "      <td>DNN</td>\n",
       "      <td>Medium-High</td>\n",
       "      <td>0.614891</td>\n",
       "      <td>2.224666</td>\n",
       "      <td>5032</td>\n",
       "      <td>0.501085</td>\n",
       "    </tr>\n",
       "    <tr>\n",
       "      <th>148</th>\n",
       "      <td>XBIT</td>\n",
       "      <td>Medium-High</td>\n",
       "      <td>12.698112</td>\n",
       "      <td>8.836452</td>\n",
       "      <td>2471</td>\n",
       "      <td>1.871125</td>\n",
       "    </tr>\n",
       "    <tr>\n",
       "      <th>149</th>\n",
       "      <td>AITLF</td>\n",
       "      <td>Medium-High</td>\n",
       "      <td>0.040390</td>\n",
       "      <td>0.149166</td>\n",
       "      <td>487</td>\n",
       "      <td>0.043540</td>\n",
       "    </tr>\n",
       "  </tbody>\n",
       "</table>\n",
       "<p>150 rows × 6 columns</p>\n",
       "</div>"
      ],
      "text/plain": [
       "    ticker   volatility   rmse_base    avg_price   len  rmse_tuned\n",
       "0    BSNLF         High    0.044261     0.026089  1889    0.031845\n",
       "1      FTA   Medium-Low    8.488856    38.647291  4457    4.376875\n",
       "2    JTKWY  Medium-High    0.640134     9.432196  1226    0.565840\n",
       "3    FWONB   Medium-Low    6.866346    46.538264  2016    6.854367\n",
       "4    VRMMQ         High  116.538527  1104.577206  1173   78.179737\n",
       "..     ...          ...         ...          ...   ...         ...\n",
       "145  ADDHY  Medium-High    3.387021    10.168203   501    1.018318\n",
       "146  ASAAF  Medium-High    7.215452    31.492342  1094    3.203930\n",
       "147    DNN  Medium-High    0.614891     2.224666  5032    0.501085\n",
       "148   XBIT  Medium-High   12.698112     8.836452  2471    1.871125\n",
       "149  AITLF  Medium-High    0.040390     0.149166   487    0.043540\n",
       "\n",
       "[150 rows x 6 columns]"
      ]
     },
     "execution_count": 10,
     "metadata": {},
     "output_type": "execute_result"
    }
   ],
   "source": [
    "base_tuned_data"
   ]
  },
  {
   "cell_type": "code",
   "execution_count": 11,
   "metadata": {},
   "outputs": [],
   "source": [
    "base_tuned_data.to_csv('base_&_tuned_data.csv', index=False)"
   ]
  },
  {
   "cell_type": "code",
   "execution_count": null,
   "metadata": {},
   "outputs": [],
   "source": []
  }
 ],
 "metadata": {
  "kernelspec": {
   "display_name": "Python 3",
   "language": "python",
   "name": "python3"
  },
  "language_info": {
   "codemirror_mode": {
    "name": "ipython",
    "version": 3
   },
   "file_extension": ".py",
   "mimetype": "text/x-python",
   "name": "python",
   "nbconvert_exporter": "python",
   "pygments_lexer": "ipython3",
   "version": "3.13.1"
  }
 },
 "nbformat": 4,
 "nbformat_minor": 2
}
